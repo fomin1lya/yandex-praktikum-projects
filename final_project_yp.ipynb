{
 "cells": [
  {
   "cell_type": "markdown",
   "id": "069d72fd",
   "metadata": {},
   "source": [
    "# Анализ взаимосвязи поведения пользователей мобильной игры \"Космические братья\" с источником их перехода в приложение"
   ]
  },
  {
   "cell_type": "markdown",
   "id": "66a2512a",
   "metadata": {},
   "source": [
    "Команда мобильной игры «Космические братья» разыскивает гуру аналитики для реализации грандиозных планов. Игра уже пользуется большой популярностью — настало время на ней зарабатывать. На данном этапе есть **основная задача: проанализировать поведение игроков в зависимости от источника перехода и попытаться выявить более эффективные источники**. В нашем случае мы определяем эффективность рекламных источников не по финансовой составляющей, а именно по поведению (активности) пользователей в приложении, поскольку на данном этапе монетизация игры только планируется, но предполагается, что в приложении будет происходить показ рекламы на экране с выбором типа объекта для постройки. Соответственно, в этой модели монетизации более активные пользователи в перспективе принесут компании больше денег. "
   ]
  },
  {
   "cell_type": "markdown",
   "id": "390c6bd7",
   "metadata": {},
   "source": [
    "## Изучение данных из файла и предобработка данных"
   ]
  },
  {
   "cell_type": "markdown",
   "id": "d71c0cd1",
   "metadata": {},
   "source": [
    "Любое аналитическое исследование начинается с обзора данных. Тем более, что заранее о качестве предоставляемых данных ничего не известно. \n",
    "\n",
    "Начнем нашу работу с импорта ряда библиотек-основных инструментов аналитика."
   ]
  },
  {
   "cell_type": "code",
   "execution_count": 1,
   "id": "5cbdd93c",
   "metadata": {},
   "outputs": [],
   "source": [
    "import pandas as pd\n",
    "import numpy as np\n",
    "import math as mth\n",
    "import seaborn as sns\n",
    "import datetime\n",
    "import matplotlib.pyplot as plt\n",
    "from scipy import stats as st"
   ]
  },
  {
   "cell_type": "markdown",
   "id": "9e37da2f",
   "metadata": {},
   "source": [
    "Читаем предоставленные нам файлы и сохраняем в соответствующие переменные. При загрузке датасетов столбцы с датой имеют тип данных `object`. Переведем столбцы с датами к нужным типам на этапе загрузки датафрейма, указав параметр `parse_dates`:"
   ]
  },
  {
   "cell_type": "code",
   "execution_count": 2,
   "id": "b242d6a3",
   "metadata": {},
   "outputs": [],
   "source": [
    "try:\n",
    "    user_source = pd.read_csv('/datasets/user_source.csv')\n",
    "    game_actions = pd.read_csv('/datasets/game_actions.csv', parse_dates=['event_datetime'])\n",
    "    ad_costs = pd.read_csv('/datasets/ad_costs.csv', parse_dates=['day'])\n",
    "except:\n",
    "    user_source = pd.read_csv('user_source.csv')\n",
    "    game_actions = pd.read_csv('game_actions.csv', parse_dates=['event_datetime'])\n",
    "    ad_costs = pd.read_csv('ad_costs.csv', parse_dates=['day'])"
   ]
  },
  {
   "cell_type": "markdown",
   "id": "675747b9",
   "metadata": {},
   "source": [
    "### Датасет `game_actions`"
   ]
  },
  {
   "cell_type": "markdown",
   "id": "9c92e25b",
   "metadata": {},
   "source": [
    "Основной датасет `game_actions` содержит данные о событиях, совершенных в мобильной игре «Космические братья». В ней пользователи строят свою космическую программу и пытаются преуспеть в нелёгком деле колонизации галактики.\n",
    "\n",
    "Основная монетизация игры — только планируется. Но предполагается, что в приложении будет происходить показ рекламы на экране с выбором типа объекта для постройки.\n",
    "\n",
    "В датасете представлены данные по игре пользователей на первом уровне. Завершение первого уровня требует от игрока выполнения одного из двух условий:\n",
    "- Победа над первым врагом\n",
    "- Реализация проекта - разработка орбитальной сборки спутников\n",
    "\n",
    "В датасете содержатся данные первых пользователей приложения — когорты пользователей, которые начали пользоваться приложением в период с 4 по 10 мая включительно.\n",
    "\n",
    "Выведем на экран первые 5 строк основного датасета:"
   ]
  },
  {
   "cell_type": "code",
   "execution_count": 3,
   "id": "fea01f43",
   "metadata": {},
   "outputs": [
    {
     "data": {
      "text/html": [
       "<div>\n",
       "<style scoped>\n",
       "    .dataframe tbody tr th:only-of-type {\n",
       "        vertical-align: middle;\n",
       "    }\n",
       "\n",
       "    .dataframe tbody tr th {\n",
       "        vertical-align: top;\n",
       "    }\n",
       "\n",
       "    .dataframe thead th {\n",
       "        text-align: right;\n",
       "    }\n",
       "</style>\n",
       "<table border=\"1\" class=\"dataframe\">\n",
       "  <thead>\n",
       "    <tr style=\"text-align: right;\">\n",
       "      <th></th>\n",
       "      <th>event_datetime</th>\n",
       "      <th>event</th>\n",
       "      <th>building_type</th>\n",
       "      <th>user_id</th>\n",
       "      <th>project_type</th>\n",
       "    </tr>\n",
       "  </thead>\n",
       "  <tbody>\n",
       "    <tr>\n",
       "      <th>0</th>\n",
       "      <td>2020-05-04 00:00:01</td>\n",
       "      <td>building</td>\n",
       "      <td>assembly_shop</td>\n",
       "      <td>55e92310-cb8e-4754-b622-597e124b03de</td>\n",
       "      <td>NaN</td>\n",
       "    </tr>\n",
       "    <tr>\n",
       "      <th>1</th>\n",
       "      <td>2020-05-04 00:00:03</td>\n",
       "      <td>building</td>\n",
       "      <td>assembly_shop</td>\n",
       "      <td>c07b1c10-f477-44dc-81dc-ec82254b1347</td>\n",
       "      <td>NaN</td>\n",
       "    </tr>\n",
       "    <tr>\n",
       "      <th>2</th>\n",
       "      <td>2020-05-04 00:00:16</td>\n",
       "      <td>building</td>\n",
       "      <td>assembly_shop</td>\n",
       "      <td>6edd42cc-e753-4ff6-a947-2107cd560710</td>\n",
       "      <td>NaN</td>\n",
       "    </tr>\n",
       "    <tr>\n",
       "      <th>3</th>\n",
       "      <td>2020-05-04 00:00:16</td>\n",
       "      <td>building</td>\n",
       "      <td>assembly_shop</td>\n",
       "      <td>92c69003-d60a-444a-827f-8cc51bf6bf4c</td>\n",
       "      <td>NaN</td>\n",
       "    </tr>\n",
       "    <tr>\n",
       "      <th>4</th>\n",
       "      <td>2020-05-04 00:00:35</td>\n",
       "      <td>building</td>\n",
       "      <td>assembly_shop</td>\n",
       "      <td>cdc6bb92-0ccb-4490-9866-ef142f09139d</td>\n",
       "      <td>NaN</td>\n",
       "    </tr>\n",
       "  </tbody>\n",
       "</table>\n",
       "</div>"
      ],
      "text/plain": [
       "       event_datetime     event  building_type  \\\n",
       "0 2020-05-04 00:00:01  building  assembly_shop   \n",
       "1 2020-05-04 00:00:03  building  assembly_shop   \n",
       "2 2020-05-04 00:00:16  building  assembly_shop   \n",
       "3 2020-05-04 00:00:16  building  assembly_shop   \n",
       "4 2020-05-04 00:00:35  building  assembly_shop   \n",
       "\n",
       "                                user_id project_type  \n",
       "0  55e92310-cb8e-4754-b622-597e124b03de          NaN  \n",
       "1  c07b1c10-f477-44dc-81dc-ec82254b1347          NaN  \n",
       "2  6edd42cc-e753-4ff6-a947-2107cd560710          NaN  \n",
       "3  92c69003-d60a-444a-827f-8cc51bf6bf4c          NaN  \n",
       "4  cdc6bb92-0ccb-4490-9866-ef142f09139d          NaN  "
      ]
     },
     "execution_count": 3,
     "metadata": {},
     "output_type": "execute_result"
    }
   ],
   "source": [
    "game_actions.head()"
   ]
  },
  {
   "cell_type": "markdown",
   "id": "4d80fb35",
   "metadata": {},
   "source": [
    "Получим общую информацию о таблице:"
   ]
  },
  {
   "cell_type": "code",
   "execution_count": 4,
   "id": "18e5d5eb",
   "metadata": {},
   "outputs": [
    {
     "name": "stdout",
     "output_type": "stream",
     "text": [
      "<class 'pandas.core.frame.DataFrame'>\n",
      "RangeIndex: 135640 entries, 0 to 135639\n",
      "Data columns (total 5 columns):\n",
      " #   Column          Non-Null Count   Dtype         \n",
      "---  ------          --------------   -----         \n",
      " 0   event_datetime  135640 non-null  datetime64[ns]\n",
      " 1   event           135640 non-null  object        \n",
      " 2   building_type   127957 non-null  object        \n",
      " 3   user_id         135640 non-null  object        \n",
      " 4   project_type    1866 non-null    object        \n",
      "dtypes: datetime64[ns](1), object(4)\n",
      "memory usage: 5.2+ MB\n"
     ]
    }
   ],
   "source": [
    "game_actions.info()"
   ]
  },
  {
   "cell_type": "markdown",
   "id": "29d22436",
   "metadata": {},
   "source": [
    "Обратимся к документации к данным:\n",
    "\n",
    "* `event_datetime` —  время события;\n",
    "* `event` — одно из трех событий:\n",
    "1. `building` — объект построен,\n",
    "2. `finished_stage_1` — первый уровень завершён,\n",
    "3. `project` — проект завершён;\n",
    "* `building_type` — один из трёх типов здания:\n",
    "1. `assembly_shop` — сборочный цех,\n",
    "2. `spaceport` — космопорт,\n",
    "3. `research_center` — исследовательский центр;\n",
    "* `user_id` — идентификатор пользователя;\n",
    "* `project_type` — тип реализованного проекта."
   ]
  },
  {
   "cell_type": "markdown",
   "id": "5cbd3dcb",
   "metadata": {},
   "source": [
    "Из описания данных мы видим, что в нашем датасете присутствуют пропуски: относительно небольшое количество в столбце `building_type` и практически все ячейки в столбце `project_type`. Выведем на экран количество пропусков в процентах в каждом столбце:"
   ]
  },
  {
   "cell_type": "code",
   "execution_count": 5,
   "id": "57fb51a2",
   "metadata": {},
   "outputs": [
    {
     "data": {
      "text/plain": [
       "event_datetime     0.00\n",
       "event              0.00\n",
       "building_type      5.66\n",
       "user_id            0.00\n",
       "project_type      98.62\n",
       "dtype: float64"
      ]
     },
     "execution_count": 5,
     "metadata": {},
     "output_type": "execute_result"
    }
   ],
   "source": [
    "round(game_actions.isna().sum() / len(game_actions) * 100, 2)"
   ]
  },
  {
   "cell_type": "markdown",
   "id": "26a825a5",
   "metadata": {},
   "source": [
    "Заказчик сообщил, что часть пропусков могут быть связаны с механикой сбора данных. В таком случае мы можем предположить, что такое большое количество пропусков в столбце `project_type` связано с тем, что в этом столбце заполнены только те строки, у которых в столбце `event` указано `project` (т.е. тип события: проект завершен). Проверим нашу гипотезу; сделаем срез данных (выберем только те строки, у которых в столбце в столбце `event` указано `project`) и выведем на экран количество пропусков в процентах в каждом столбце в этом срезе:"
   ]
  },
  {
   "cell_type": "code",
   "execution_count": 6,
   "id": "5e3065f7",
   "metadata": {},
   "outputs": [
    {
     "data": {
      "text/plain": [
       "event_datetime      0.0\n",
       "event               0.0\n",
       "building_type     100.0\n",
       "user_id             0.0\n",
       "project_type        0.0\n",
       "dtype: float64"
      ]
     },
     "execution_count": 6,
     "metadata": {},
     "output_type": "execute_result"
    }
   ],
   "source": [
    "round(\n",
    "    game_actions.query('event == \"project\"').isna().sum() / \n",
    "    len(game_actions.query('event == \"project\"')) * 100, 2\n",
    ")"
   ]
  },
  {
   "cell_type": "markdown",
   "id": "cedec54a",
   "metadata": {},
   "source": [
    "Наша гипотеза подтвердилась, мы видим, что в рассматриваемом срезе данных в столбце `project_type` пропуски отсутствуют. Получается, такое большое количество пропусков в этом столбце связано с тем, что в нем заполнены только те строки, у которых в столбце `event` указано `project` (т.е. тип события: проект завершен). Следовательно, в данном случае нам не требуется никак дополнительно обрабатывать пропуски в столбце `project_type`.\n",
    "\n",
    "При этом 100% пропусков в столбце `building_type` в рассматриваемом нами срезе наталкивают нас на мысль, что пропуски в этом столбце также имеют взаимосвязь со столбцом `event`. Вероятно, в этом столбце заполнены только те строки, у которых в столбце `event` указано `building` (т.е. тип события: объект построен). Проведем такую же проверку через срез данных:"
   ]
  },
  {
   "cell_type": "code",
   "execution_count": 7,
   "id": "2bdcbb3b",
   "metadata": {},
   "outputs": [
    {
     "data": {
      "text/plain": [
       "event_datetime      0.0\n",
       "event               0.0\n",
       "building_type       0.0\n",
       "user_id             0.0\n",
       "project_type      100.0\n",
       "dtype: float64"
      ]
     },
     "execution_count": 7,
     "metadata": {},
     "output_type": "execute_result"
    }
   ],
   "source": [
    "round(\n",
    "    game_actions.query('event == \"building\"').isna().sum() / \n",
    "    len(game_actions.query('event == \"building\"')) * 100, 2\n",
    ")"
   ]
  },
  {
   "cell_type": "markdown",
   "id": "984da4ca",
   "metadata": {},
   "source": [
    "Наша гипотеза вновь подтвердилась. Получается, пропуски в этом столбце также не нуждаются в дополнительной обработке."
   ]
  },
  {
   "cell_type": "markdown",
   "id": "1b4e281a",
   "metadata": {},
   "source": [
    "Теперь более подробно изучим значения в каждом столбце; проверим, соответствуют ли данные в датасете документации. Выведем на экран уникальные значения, которые хранятся в столбцах `event`, `building_type` и `project_type`:"
   ]
  },
  {
   "cell_type": "code",
   "execution_count": 8,
   "id": "7137dba0",
   "metadata": {},
   "outputs": [
    {
     "name": "stdout",
     "output_type": "stream",
     "text": [
      "['building' 'finished_stage_1' 'project']\n",
      "['assembly_shop' 'spaceport' nan 'research_center']\n",
      "[nan 'satellite_orbital_assembly']\n"
     ]
    }
   ],
   "source": [
    "print(game_actions['event'].unique())\n",
    "print(game_actions['building_type'].unique())\n",
    "print(game_actions['project_type'].unique())"
   ]
  },
  {
   "cell_type": "markdown",
   "id": "bfb59d1f",
   "metadata": {},
   "source": [
    "Мы видим, что данные в столбцах `event` и `building_type` полностью соответствуют документации, а в столбце `project_type` встречается только один тип проекта `satellite_orbital_assembly`, как и сказано в описании датасета.\n",
    "\n",
    "Теперь изучим хронологические рамки нашего датасета. Выведем на экран минимальное и максимальное значение даты из датафрейма:"
   ]
  },
  {
   "cell_type": "code",
   "execution_count": 9,
   "id": "2ec49bb9",
   "metadata": {},
   "outputs": [
    {
     "data": {
      "text/plain": [
       "(Timestamp('2020-05-04 00:00:01'), Timestamp('2020-06-05 12:32:49'))"
      ]
     },
     "execution_count": 9,
     "metadata": {},
     "output_type": "execute_result"
    }
   ],
   "source": [
    "game_actions['event_datetime'].min(), game_actions['event_datetime'].max()"
   ]
  },
  {
   "cell_type": "markdown",
   "id": "2601b0a2",
   "metadata": {},
   "source": [
    "Мы видим, что в нашем датасете хранится информация о действиях пользователей с 4 мая до середины дня 5 июня. Таким способом проверить информацию из документации о поступлении новых пользователей в приложение с 4 по 10 мая у нас не получится. Тогда сделаем это другим способом — создадим сводную таблицу, сгруппировав данные по id пользователям и получим для каждого пользователя время первого события в игре (это и будем считать началом игры). По полученной сводной таблице построим столбчатую диаграмму, чтобы наглядно увидеть, когда и сколько новых пользователей приходило в приложение. Для удобства визуализации извлечем из времени первого события в игре только день:"
   ]
  },
  {
   "cell_type": "code",
   "execution_count": 10,
   "id": "b5fd63a0",
   "metadata": {},
   "outputs": [
    {
     "data": {
      "image/png": "[encoded data removed]",
      "text/plain": [
       "<Figure size 720x504 with 1 Axes>"
      ]
     },
     "metadata": {
      "needs_background": "light"
     },
     "output_type": "display_data"
    }
   ],
   "source": [
    "data = game_actions.copy()\n",
    "data['day'] = data['event_datetime'].dt.day\n",
    "data['month'] = data['event_datetime'].dt.month\n",
    "data = data.query('month == 5').copy()\n",
    "data = data.groupby('user_id', as_index=False).agg({'day':'min'})\n",
    "data = data.groupby('day', as_index=False).agg({'user_id': 'count'})\n",
    "\n",
    "fig = plt.figure(figsize =(10, 7))\n",
    "ax = data['user_id'].plot(kind=\"bar\")\n",
    "\n",
    "plt.title(\"Приток новых пользователей в приложение\")\n",
    "plt.xlabel(\"День, май 2020\")\n",
    "plt.ylabel(\"Количество новых пользователей\")\n",
    "ax.set_xticklabels(data['day'])\n",
    "plt.xticks(rotation=0, ha='right')\n",
    "plt.grid()\n",
    "\n",
    "plt.show() "
   ]
  },
  {
   "cell_type": "markdown",
   "id": "a41ee45f",
   "metadata": {},
   "source": [
    "Мы видим, что действительно новые пользователи приходили в приложение с 4 по 10 мая, при этом с каждым последующим днем новых пользователей становилось все меньше.\n",
    "\n",
    "Также стоит отметить, что все типы данных в столбцах соответствуют хранящимся в них значениям и не нуждаются в корректировке."
   ]
  },
  {
   "cell_type": "markdown",
   "id": "8b6b2b93",
   "metadata": {},
   "source": [
    "Теперь проведем проверку на наличие дубликатов:"
   ]
  },
  {
   "cell_type": "code",
   "execution_count": 11,
   "id": "cef64b1a",
   "metadata": {},
   "outputs": [
    {
     "data": {
      "text/plain": [
       "1"
      ]
     },
     "execution_count": 11,
     "metadata": {},
     "output_type": "execute_result"
    }
   ],
   "source": [
    "game_actions.duplicated().sum()"
   ]
  },
  {
   "cell_type": "markdown",
   "id": "554e374e",
   "metadata": {},
   "source": [
    "Всего 1 дубликат! Удаляем его из нашего датафрейма:"
   ]
  },
  {
   "cell_type": "code",
   "execution_count": 12,
   "id": "87cc2742",
   "metadata": {},
   "outputs": [],
   "source": [
    "game_actions = game_actions.drop_duplicates().reset_index(drop=True)"
   ]
  },
  {
   "cell_type": "markdown",
   "id": "f5cbcb2a",
   "metadata": {},
   "source": [
    "Помимо основного датасета есть два датасета с информацией о рекламных активностях."
   ]
  },
  {
   "cell_type": "markdown",
   "id": "5ddc46d1",
   "metadata": {},
   "source": [
    "### Датасет `user_source`"
   ]
  },
  {
   "cell_type": "markdown",
   "id": "a53e3dfb",
   "metadata": {},
   "source": [
    "Перейдем к обработке данных в датафрейме `user_source`. Для начала выведем на экран первые 5 строк этого датасета:"
   ]
  },
  {
   "cell_type": "code",
   "execution_count": 13,
   "id": "297e17fe",
   "metadata": {},
   "outputs": [
    {
     "data": {
      "text/html": [
       "<div>\n",
       "<style scoped>\n",
       "    .dataframe tbody tr th:only-of-type {\n",
       "        vertical-align: middle;\n",
       "    }\n",
       "\n",
       "    .dataframe tbody tr th {\n",
       "        vertical-align: top;\n",
       "    }\n",
       "\n",
       "    .dataframe thead th {\n",
       "        text-align: right;\n",
       "    }\n",
       "</style>\n",
       "<table border=\"1\" class=\"dataframe\">\n",
       "  <thead>\n",
       "    <tr style=\"text-align: right;\">\n",
       "      <th></th>\n",
       "      <th>user_id</th>\n",
       "      <th>source</th>\n",
       "    </tr>\n",
       "  </thead>\n",
       "  <tbody>\n",
       "    <tr>\n",
       "      <th>0</th>\n",
       "      <td>0001f83c-c6ac-4621-b7f0-8a28b283ac30</td>\n",
       "      <td>facebook_ads</td>\n",
       "    </tr>\n",
       "    <tr>\n",
       "      <th>1</th>\n",
       "      <td>00151b4f-ba38-44a8-a650-d7cf130a0105</td>\n",
       "      <td>yandex_direct</td>\n",
       "    </tr>\n",
       "    <tr>\n",
       "      <th>2</th>\n",
       "      <td>001aaea6-3d14-43f1-8ca8-7f48820f17aa</td>\n",
       "      <td>youtube_channel_reklama</td>\n",
       "    </tr>\n",
       "    <tr>\n",
       "      <th>3</th>\n",
       "      <td>001d39dc-366c-4021-9604-6a3b9ff01e25</td>\n",
       "      <td>instagram_new_adverts</td>\n",
       "    </tr>\n",
       "    <tr>\n",
       "      <th>4</th>\n",
       "      <td>002f508f-67b6-479f-814b-b05f00d4e995</td>\n",
       "      <td>facebook_ads</td>\n",
       "    </tr>\n",
       "  </tbody>\n",
       "</table>\n",
       "</div>"
      ],
      "text/plain": [
       "                                user_id                   source\n",
       "0  0001f83c-c6ac-4621-b7f0-8a28b283ac30             facebook_ads\n",
       "1  00151b4f-ba38-44a8-a650-d7cf130a0105            yandex_direct\n",
       "2  001aaea6-3d14-43f1-8ca8-7f48820f17aa  youtube_channel_reklama\n",
       "3  001d39dc-366c-4021-9604-6a3b9ff01e25    instagram_new_adverts\n",
       "4  002f508f-67b6-479f-814b-b05f00d4e995             facebook_ads"
      ]
     },
     "execution_count": 13,
     "metadata": {},
     "output_type": "execute_result"
    }
   ],
   "source": [
    "user_source.head()"
   ]
  },
  {
   "cell_type": "markdown",
   "id": "6a99b177",
   "metadata": {},
   "source": [
    "Получим общую информацию о таблице:"
   ]
  },
  {
   "cell_type": "code",
   "execution_count": 14,
   "id": "6fd8ea0f",
   "metadata": {},
   "outputs": [
    {
     "name": "stdout",
     "output_type": "stream",
     "text": [
      "<class 'pandas.core.frame.DataFrame'>\n",
      "RangeIndex: 13576 entries, 0 to 13575\n",
      "Data columns (total 2 columns):\n",
      " #   Column   Non-Null Count  Dtype \n",
      "---  ------   --------------  ----- \n",
      " 0   user_id  13576 non-null  object\n",
      " 1   source   13576 non-null  object\n",
      "dtypes: object(2)\n",
      "memory usage: 212.2+ KB\n"
     ]
    }
   ],
   "source": [
    "user_source.info()"
   ]
  },
  {
   "cell_type": "markdown",
   "id": "65aed728",
   "metadata": {},
   "source": [
    "Обратимся к документации к данным:\n",
    "\n",
    "* `user_id` —  идентификатор пользователя;\n",
    "* `source` — источник, с которого пришел пользователь, установивший приложение."
   ]
  },
  {
   "cell_type": "markdown",
   "id": "b0b4cfb8",
   "metadata": {},
   "source": [
    "Из описания данных мы видим, что в этом датасете отсутствуют пропуски, а все типы данных в столбцах соответствуют хранящимся в них значениям и не нуждаются в корректировке."
   ]
  },
  {
   "cell_type": "markdown",
   "id": "0e0bf74f",
   "metadata": {},
   "source": [
    "Проведем проверку столбца `user_id`: проверим, совпадают ли идентификаторы пользователей в этом датасете с основным; выведем на экран те id, которые встречаются только в одном из двух датафреймов:"
   ]
  },
  {
   "cell_type": "code",
   "execution_count": 15,
   "id": "8f9ca114",
   "metadata": {},
   "outputs": [
    {
     "data": {
      "text/html": [
       "<div>\n",
       "<style scoped>\n",
       "    .dataframe tbody tr th:only-of-type {\n",
       "        vertical-align: middle;\n",
       "    }\n",
       "\n",
       "    .dataframe tbody tr th {\n",
       "        vertical-align: top;\n",
       "    }\n",
       "\n",
       "    .dataframe thead th {\n",
       "        text-align: right;\n",
       "    }\n",
       "</style>\n",
       "<table border=\"1\" class=\"dataframe\">\n",
       "  <thead>\n",
       "    <tr style=\"text-align: right;\">\n",
       "      <th></th>\n",
       "      <th>event_datetime</th>\n",
       "      <th>event</th>\n",
       "      <th>building_type</th>\n",
       "      <th>user_id</th>\n",
       "      <th>project_type</th>\n",
       "    </tr>\n",
       "  </thead>\n",
       "  <tbody>\n",
       "  </tbody>\n",
       "</table>\n",
       "</div>"
      ],
      "text/plain": [
       "Empty DataFrame\n",
       "Columns: [event_datetime, event, building_type, user_id, project_type]\n",
       "Index: []"
      ]
     },
     "execution_count": 15,
     "metadata": {},
     "output_type": "execute_result"
    }
   ],
   "source": [
    "id_list = user_source['user_id']\n",
    "game_actions.query('user_id not in @id_list')"
   ]
  },
  {
   "cell_type": "code",
   "execution_count": 16,
   "id": "095f6cde",
   "metadata": {},
   "outputs": [
    {
     "data": {
      "text/html": [
       "<div>\n",
       "<style scoped>\n",
       "    .dataframe tbody tr th:only-of-type {\n",
       "        vertical-align: middle;\n",
       "    }\n",
       "\n",
       "    .dataframe tbody tr th {\n",
       "        vertical-align: top;\n",
       "    }\n",
       "\n",
       "    .dataframe thead th {\n",
       "        text-align: right;\n",
       "    }\n",
       "</style>\n",
       "<table border=\"1\" class=\"dataframe\">\n",
       "  <thead>\n",
       "    <tr style=\"text-align: right;\">\n",
       "      <th></th>\n",
       "      <th>user_id</th>\n",
       "      <th>source</th>\n",
       "    </tr>\n",
       "  </thead>\n",
       "  <tbody>\n",
       "  </tbody>\n",
       "</table>\n",
       "</div>"
      ],
      "text/plain": [
       "Empty DataFrame\n",
       "Columns: [user_id, source]\n",
       "Index: []"
      ]
     },
     "execution_count": 16,
     "metadata": {},
     "output_type": "execute_result"
    }
   ],
   "source": [
    "id_list = game_actions['user_id']\n",
    "user_source.query('user_id not in @id_list')"
   ]
  },
  {
   "cell_type": "markdown",
   "id": "0ad8de16",
   "metadata": {},
   "source": [
    "Все корректно, такие id отсутствуют. \n",
    "\n",
    "Проведем проверку на наличие скрытых дубликатов в столбце `source`; выведем на экран уникальные значения из этого столбца:"
   ]
  },
  {
   "cell_type": "code",
   "execution_count": 17,
   "id": "121930ab",
   "metadata": {},
   "outputs": [
    {
     "data": {
      "text/plain": [
       "array(['facebook_ads', 'yandex_direct', 'youtube_channel_reklama',\n",
       "       'instagram_new_adverts'], dtype=object)"
      ]
     },
     "execution_count": 17,
     "metadata": {},
     "output_type": "execute_result"
    }
   ],
   "source": [
    "user_source['source'].unique()"
   ]
  },
  {
   "cell_type": "markdown",
   "id": "46f3a1d4",
   "metadata": {},
   "source": [
    "Все корректно, скрытые дубликаты отсутствуют. \n",
    "\n",
    "Проводим проверку на наличие полных дубликатов:"
   ]
  },
  {
   "cell_type": "code",
   "execution_count": 18,
   "id": "0f6efb2b",
   "metadata": {},
   "outputs": [
    {
     "data": {
      "text/plain": [
       "0"
      ]
     },
     "execution_count": 18,
     "metadata": {},
     "output_type": "execute_result"
    }
   ],
   "source": [
    "user_source.duplicated().sum()"
   ]
  },
  {
   "cell_type": "markdown",
   "id": "cc6772f6",
   "metadata": {},
   "source": [
    "Дубликаты отсутствуют."
   ]
  },
  {
   "cell_type": "markdown",
   "id": "2ae1ca8e",
   "metadata": {},
   "source": [
    "### Датасет `ad_costs`"
   ]
  },
  {
   "cell_type": "markdown",
   "id": "4c97579b",
   "metadata": {},
   "source": [
    "Перейдем к обработке данных в датафрейме `ad_costs`. Для начала выведем на экран первые 5 строк этого датасета:"
   ]
  },
  {
   "cell_type": "code",
   "execution_count": 19,
   "id": "0766eb0b",
   "metadata": {},
   "outputs": [
    {
     "data": {
      "text/html": [
       "<div>\n",
       "<style scoped>\n",
       "    .dataframe tbody tr th:only-of-type {\n",
       "        vertical-align: middle;\n",
       "    }\n",
       "\n",
       "    .dataframe tbody tr th {\n",
       "        vertical-align: top;\n",
       "    }\n",
       "\n",
       "    .dataframe thead th {\n",
       "        text-align: right;\n",
       "    }\n",
       "</style>\n",
       "<table border=\"1\" class=\"dataframe\">\n",
       "  <thead>\n",
       "    <tr style=\"text-align: right;\">\n",
       "      <th></th>\n",
       "      <th>source</th>\n",
       "      <th>day</th>\n",
       "      <th>cost</th>\n",
       "    </tr>\n",
       "  </thead>\n",
       "  <tbody>\n",
       "    <tr>\n",
       "      <th>0</th>\n",
       "      <td>facebook_ads</td>\n",
       "      <td>2020-05-03</td>\n",
       "      <td>935.882786</td>\n",
       "    </tr>\n",
       "    <tr>\n",
       "      <th>1</th>\n",
       "      <td>facebook_ads</td>\n",
       "      <td>2020-05-04</td>\n",
       "      <td>548.354480</td>\n",
       "    </tr>\n",
       "    <tr>\n",
       "      <th>2</th>\n",
       "      <td>facebook_ads</td>\n",
       "      <td>2020-05-05</td>\n",
       "      <td>260.185754</td>\n",
       "    </tr>\n",
       "    <tr>\n",
       "      <th>3</th>\n",
       "      <td>facebook_ads</td>\n",
       "      <td>2020-05-06</td>\n",
       "      <td>177.982200</td>\n",
       "    </tr>\n",
       "    <tr>\n",
       "      <th>4</th>\n",
       "      <td>facebook_ads</td>\n",
       "      <td>2020-05-07</td>\n",
       "      <td>111.766796</td>\n",
       "    </tr>\n",
       "  </tbody>\n",
       "</table>\n",
       "</div>"
      ],
      "text/plain": [
       "         source        day        cost\n",
       "0  facebook_ads 2020-05-03  935.882786\n",
       "1  facebook_ads 2020-05-04  548.354480\n",
       "2  facebook_ads 2020-05-05  260.185754\n",
       "3  facebook_ads 2020-05-06  177.982200\n",
       "4  facebook_ads 2020-05-07  111.766796"
      ]
     },
     "execution_count": 19,
     "metadata": {},
     "output_type": "execute_result"
    }
   ],
   "source": [
    "ad_costs.head()"
   ]
  },
  {
   "cell_type": "markdown",
   "id": "5c755b13",
   "metadata": {},
   "source": [
    "Получим общую информацию о таблице:"
   ]
  },
  {
   "cell_type": "code",
   "execution_count": 20,
   "id": "c57db66c",
   "metadata": {},
   "outputs": [
    {
     "name": "stdout",
     "output_type": "stream",
     "text": [
      "<class 'pandas.core.frame.DataFrame'>\n",
      "RangeIndex: 28 entries, 0 to 27\n",
      "Data columns (total 3 columns):\n",
      " #   Column  Non-Null Count  Dtype         \n",
      "---  ------  --------------  -----         \n",
      " 0   source  28 non-null     object        \n",
      " 1   day     28 non-null     datetime64[ns]\n",
      " 2   cost    28 non-null     float64       \n",
      "dtypes: datetime64[ns](1), float64(1), object(1)\n",
      "memory usage: 800.0+ bytes\n"
     ]
    }
   ],
   "source": [
    "ad_costs.info()"
   ]
  },
  {
   "cell_type": "markdown",
   "id": "15f98fcf",
   "metadata": {},
   "source": [
    "Обратимся к документации к данным:\n",
    "\n",
    "* `source` —  название события;\n",
    "* `day` — день, в который был совершен клик по объявлению;  \n",
    "* `cost` — стоимость кликов."
   ]
  },
  {
   "cell_type": "markdown",
   "id": "2f1d2c7c",
   "metadata": {},
   "source": [
    "Из описания данных мы видим, что в этом датасете отсутствуют пропуски, а все типы данных в столбцах соответствуют хранящимся в них значениям и не нуждаются в корректировке."
   ]
  },
  {
   "cell_type": "markdown",
   "id": "100ca817",
   "metadata": {},
   "source": [
    "Проведем проверку столбца `source`: проверим, совпадает ли список источников в этом датасете с датасетом `user_source`; выведем на экран те источники, которые встречаются только в одном из двух датафреймов:"
   ]
  },
  {
   "cell_type": "code",
   "execution_count": 21,
   "id": "5b741773",
   "metadata": {},
   "outputs": [
    {
     "data": {
      "text/html": [
       "<div>\n",
       "<style scoped>\n",
       "    .dataframe tbody tr th:only-of-type {\n",
       "        vertical-align: middle;\n",
       "    }\n",
       "\n",
       "    .dataframe tbody tr th {\n",
       "        vertical-align: top;\n",
       "    }\n",
       "\n",
       "    .dataframe thead th {\n",
       "        text-align: right;\n",
       "    }\n",
       "</style>\n",
       "<table border=\"1\" class=\"dataframe\">\n",
       "  <thead>\n",
       "    <tr style=\"text-align: right;\">\n",
       "      <th></th>\n",
       "      <th>source</th>\n",
       "      <th>day</th>\n",
       "      <th>cost</th>\n",
       "    </tr>\n",
       "  </thead>\n",
       "  <tbody>\n",
       "  </tbody>\n",
       "</table>\n",
       "</div>"
      ],
      "text/plain": [
       "Empty DataFrame\n",
       "Columns: [source, day, cost]\n",
       "Index: []"
      ]
     },
     "execution_count": 21,
     "metadata": {},
     "output_type": "execute_result"
    }
   ],
   "source": [
    "source_list = user_source['source']\n",
    "ad_costs.query('source not in @source_list')"
   ]
  },
  {
   "cell_type": "code",
   "execution_count": 22,
   "id": "982237e2",
   "metadata": {},
   "outputs": [
    {
     "data": {
      "text/html": [
       "<div>\n",
       "<style scoped>\n",
       "    .dataframe tbody tr th:only-of-type {\n",
       "        vertical-align: middle;\n",
       "    }\n",
       "\n",
       "    .dataframe tbody tr th {\n",
       "        vertical-align: top;\n",
       "    }\n",
       "\n",
       "    .dataframe thead th {\n",
       "        text-align: right;\n",
       "    }\n",
       "</style>\n",
       "<table border=\"1\" class=\"dataframe\">\n",
       "  <thead>\n",
       "    <tr style=\"text-align: right;\">\n",
       "      <th></th>\n",
       "      <th>user_id</th>\n",
       "      <th>source</th>\n",
       "    </tr>\n",
       "  </thead>\n",
       "  <tbody>\n",
       "  </tbody>\n",
       "</table>\n",
       "</div>"
      ],
      "text/plain": [
       "Empty DataFrame\n",
       "Columns: [user_id, source]\n",
       "Index: []"
      ]
     },
     "execution_count": 22,
     "metadata": {},
     "output_type": "execute_result"
    }
   ],
   "source": [
    "source_list = ad_costs['source']\n",
    "user_source.query('source not in @source_list')"
   ]
  },
  {
   "cell_type": "markdown",
   "id": "5f09924e",
   "metadata": {},
   "source": [
    "Все корректно, такие источники отсутствуют. \n",
    "\n",
    "Теперь изучим хронологические рамки наших данных; выведем на экран минимальное и максимальное значение даты из датафрейма:"
   ]
  },
  {
   "cell_type": "code",
   "execution_count": 23,
   "id": "371f001d",
   "metadata": {},
   "outputs": [
    {
     "data": {
      "text/plain": [
       "(Timestamp('2020-05-03 00:00:00'), Timestamp('2020-05-09 00:00:00'))"
      ]
     },
     "execution_count": 23,
     "metadata": {},
     "output_type": "execute_result"
    }
   ],
   "source": [
    "ad_costs['day'].min(), ad_costs['day'].max()"
   ]
  },
  {
   "cell_type": "markdown",
   "id": "551462d8",
   "metadata": {},
   "source": [
    "В нашем распоряжении данные о рекламной активности с 3 по 9 мая включительно, как и было заявлено в документации. \n",
    "\n",
    "Проведем проверку данных по рекламной активности: сопоставим распределение рекламных расходов по дням с притоком новых пользователей в приложение и проверим, нет ли аномалий, соотносятся ли рекламные расходы с количеством новых пользователей.\n",
    "\n",
    "Для этого с помощью столбчатой диаграммы визуализируем распределение рекламных расходов по дням:"
   ]
  },
  {
   "cell_type": "code",
   "execution_count": 24,
   "id": "79201994",
   "metadata": {},
   "outputs": [
    {
     "data": {
      "image/png": "[encoded data removed]",
      "text/plain": [
       "<Figure size 720x504 with 1 Axes>"
      ]
     },
     "metadata": {
      "needs_background": "light"
     },
     "output_type": "display_data"
    }
   ],
   "source": [
    "data = ad_costs.groupby('day', as_index=False).agg({'cost':'sum'})\n",
    "data['cost'] = round(data['cost'], 2)\n",
    "\n",
    "fig = plt.figure(figsize =(10, 7))\n",
    "ax = data['cost'].plot(kind=\"bar\")\n",
    "\n",
    "plt.title(\"Рекламные расходы\")\n",
    "plt.xlabel(\"День\")\n",
    "plt.ylabel(\"Сумма расходов\")\n",
    "ax.set_xticklabels(data['day'])\n",
    "plt.xticks(rotation=30, ha='right')\n",
    "plt.grid()\n",
    "\n",
    "plt.show() "
   ]
  },
  {
   "cell_type": "markdown",
   "id": "95a1cc99",
   "metadata": {},
   "source": [
    "Мы видим, что график распределения рекламных расходов очень похож на график притока новых пользователей в приложение, только наблюдается сдвиг в один день (новые пользователи попадали в приложение с 4 по 10 мая). Аномалий не наблюдается и мы можем назвать полученные данные по рекламной активности корректными."
   ]
  },
  {
   "cell_type": "markdown",
   "id": "594ee417",
   "metadata": {},
   "source": [
    "Теперь проведем проверку на наличие дубликатов:"
   ]
  },
  {
   "cell_type": "code",
   "execution_count": 25,
   "id": "6459ecd4",
   "metadata": {},
   "outputs": [
    {
     "data": {
      "text/plain": [
       "0"
      ]
     },
     "execution_count": 25,
     "metadata": {},
     "output_type": "execute_result"
    }
   ],
   "source": [
    "ad_costs.duplicated().sum()"
   ]
  },
  {
   "cell_type": "markdown",
   "id": "809866a4",
   "metadata": {},
   "source": [
    "Дубликаты отсутствуют."
   ]
  },
  {
   "cell_type": "markdown",
   "id": "02826cac",
   "metadata": {},
   "source": [
    "### Вывод"
   ]
  },
  {
   "cell_type": "markdown",
   "id": "4b28333b",
   "metadata": {},
   "source": [
    "Полученные для анализа данные были собраны аккуратно: в них не были обнаружены какие-либо аномалии, практически отсутствуют дубликаты, а обнаруженные пропуски связаны с особенностями сбора данных."
   ]
  },
  {
   "cell_type": "markdown",
   "id": "7a0dcb26",
   "metadata": {},
   "source": [
    "## Исследовательский анализ данных"
   ]
  },
  {
   "cell_type": "markdown",
   "id": "95f3853f",
   "metadata": {},
   "source": [
    "Основная задача, которую мы ставим перед собой на этапе исследовательского анализа данных — изучить поведение пользователей в приложении и составить портрет среднестастического пользователя. "
   ]
  },
  {
   "cell_type": "markdown",
   "id": "89d77411",
   "metadata": {},
   "source": [
    "### Какая доля пользователей завершила прохождение 1 уровня?"
   ]
  },
  {
   "cell_type": "markdown",
   "id": "da3710e6",
   "metadata": {},
   "source": [
    "Прежде чем отвечать на этот вопрос, ответим для себя на другой: информацию о каком количестве уникальных пользователей хранят наши датасеты? Выведем это число на экран:"
   ]
  },
  {
   "cell_type": "code",
   "execution_count": 26,
   "id": "c481b29a",
   "metadata": {},
   "outputs": [
    {
     "data": {
      "text/plain": [
       "13576"
      ]
     },
     "execution_count": 26,
     "metadata": {},
     "output_type": "execute_result"
    }
   ],
   "source": [
    "len(game_actions['user_id'].unique())"
   ]
  },
  {
   "cell_type": "markdown",
   "id": "68120be2",
   "metadata": {},
   "source": [
    "13576 уникальных пользователей! Довольно обширная выборка. Теперь ответим на вопрос, какая доля от этих пользователей перешла на 2 уровень? С помощью среза данных получим список уникальных id только тех пользователей, которые участвовали в событии `finished_stage_1`: первый уровень завершен. Длина этого списка и будет являться числом пользователей, которые прошли 1 уровень. Остальных пользователей легко вычислить обычным вычитанием:"
   ]
  },
  {
   "cell_type": "code",
   "execution_count": 27,
   "id": "4092f9b4",
   "metadata": {},
   "outputs": [
    {
     "data": {
      "text/plain": [
       "(5817, 7759)"
      ]
     },
     "execution_count": 27,
     "metadata": {},
     "output_type": "execute_result"
    }
   ],
   "source": [
    "finished_1lvl_ids = game_actions.query('event == \"finished_stage_1\"')['user_id'].unique()\n",
    "abandoned_ids = game_actions.query('user_id not in @finished_1lvl_ids')['user_id'].unique()\n",
    "\n",
    "len(finished_1lvl_ids), len(abandoned_ids)"
   ]
  },
  {
   "cell_type": "markdown",
   "id": "46757021",
   "metadata": {},
   "source": [
    "Сразу визуализируем полученные результаты и построим pie chart:"
   ]
  },
  {
   "cell_type": "code",
   "execution_count": 28,
   "id": "ccd6c350",
   "metadata": {
    "scrolled": true
   },
   "outputs": [
    {
     "data": {
      "image/png": "[encoded data removed]",
      "text/plain": [
       "<Figure size 504x360 with 1 Axes>"
      ]
     },
     "metadata": {},
     "output_type": "display_data"
    }
   ],
   "source": [
    "labels = 'Перешли на 2 уровень', 'Не перешли на 2 уровень'\n",
    "sizes = [len(finished_1lvl_ids), len(abandoned_ids)]\n",
    "explode = (0.1, 0) \n",
    "\n",
    "fig1, ax1 = plt.subplots(figsize=(7,5))\n",
    "ax1.pie(sizes, explode=explode, labels=labels, autopct='%1.1f%%',\n",
    "        shadow=True, startangle=90)\n",
    "ax1.axis('equal')  \n",
    "plt.title(\"Какая доля пользователей завершила прохождение 1 уровня?\")\n",
    "\n",
    "plt.show()"
   ]
  },
  {
   "cell_type": "markdown",
   "id": "0d3be24a",
   "metadata": {},
   "source": [
    "Примерно 43 процента пользователей перешли на 2 уровень. В целом, это хороший показатель вовлеченности новых пользователей для игровой индустрии, но нам он требуется в большей степени для будущего сравнения с показателями вовлеченности игроков из разных рекламных источников. Тем более нам пока сложно делать какие-либо выводы, ведь мы даже не знаем, сколько времени занимало у игроков прохождение этого самого 1 уровня."
   ]
  },
  {
   "cell_type": "markdown",
   "id": "8ec4b8f7",
   "metadata": {},
   "source": [
    "### Сколько времени требуется пользователям, чтобы пройти 1 уровень?"
   ]
  },
  {
   "cell_type": "markdown",
   "id": "0c29a769",
   "metadata": {},
   "source": [
    "Для ответа на этот вопрос нам потребуется построить сводную таблицу: сгруппируем датасет по id пользователей. Затем для каждого id получим время самого первого события в игре: будем считать его временем начала прохождения уровня. Затем вновь вернемся к изначальному датасету, сделаем срез данных по наличию события `finished_stage_1`: ведь нас интересуют только пользователи, которые прошли 1 уровень и получим время этого события для каждого пользователи. Соединим обе таблицы в одну по id пользователей. Выведем на экран первые 5 строк получившейся сводной таблицы:"
   ]
  },
  {
   "cell_type": "code",
   "execution_count": 29,
   "id": "d8d9930d",
   "metadata": {},
   "outputs": [
    {
     "data": {
      "text/html": [
       "<div>\n",
       "<style scoped>\n",
       "    .dataframe tbody tr th:only-of-type {\n",
       "        vertical-align: middle;\n",
       "    }\n",
       "\n",
       "    .dataframe tbody tr th {\n",
       "        vertical-align: top;\n",
       "    }\n",
       "\n",
       "    .dataframe thead th {\n",
       "        text-align: right;\n",
       "    }\n",
       "</style>\n",
       "<table border=\"1\" class=\"dataframe\">\n",
       "  <thead>\n",
       "    <tr style=\"text-align: right;\">\n",
       "      <th></th>\n",
       "      <th>user_id</th>\n",
       "      <th>start_datetime</th>\n",
       "      <th>finish_datetime</th>\n",
       "    </tr>\n",
       "  </thead>\n",
       "  <tbody>\n",
       "    <tr>\n",
       "      <th>0</th>\n",
       "      <td>001d39dc-366c-4021-9604-6a3b9ff01e25</td>\n",
       "      <td>2020-05-05 21:02:05</td>\n",
       "      <td>2020-05-12 07:40:47</td>\n",
       "    </tr>\n",
       "    <tr>\n",
       "      <th>1</th>\n",
       "      <td>003ee7e8-6356-4286-a715-62f22a18d2a1</td>\n",
       "      <td>2020-05-05 08:31:04</td>\n",
       "      <td>2020-05-17 21:47:49</td>\n",
       "    </tr>\n",
       "    <tr>\n",
       "      <th>2</th>\n",
       "      <td>004074f8-251a-4776-922c-8348dca1a2f6</td>\n",
       "      <td>2020-05-04 01:07:35</td>\n",
       "      <td>2020-05-16 19:57:40</td>\n",
       "    </tr>\n",
       "    <tr>\n",
       "      <th>3</th>\n",
       "      <td>00464e5e-28ed-4be6-bf44-517ef7b3937b</td>\n",
       "      <td>2020-05-04 08:35:29</td>\n",
       "      <td>2020-05-15 16:02:01</td>\n",
       "    </tr>\n",
       "    <tr>\n",
       "      <th>4</th>\n",
       "      <td>0056c007-c082-43cc-bdef-afc49bca4cb9</td>\n",
       "      <td>2020-05-10 11:49:47</td>\n",
       "      <td>2020-05-16 13:48:39</td>\n",
       "    </tr>\n",
       "  </tbody>\n",
       "</table>\n",
       "</div>"
      ],
      "text/plain": [
       "                                user_id      start_datetime  \\\n",
       "0  001d39dc-366c-4021-9604-6a3b9ff01e25 2020-05-05 21:02:05   \n",
       "1  003ee7e8-6356-4286-a715-62f22a18d2a1 2020-05-05 08:31:04   \n",
       "2  004074f8-251a-4776-922c-8348dca1a2f6 2020-05-04 01:07:35   \n",
       "3  00464e5e-28ed-4be6-bf44-517ef7b3937b 2020-05-04 08:35:29   \n",
       "4  0056c007-c082-43cc-bdef-afc49bca4cb9 2020-05-10 11:49:47   \n",
       "\n",
       "      finish_datetime  \n",
       "0 2020-05-12 07:40:47  \n",
       "1 2020-05-17 21:47:49  \n",
       "2 2020-05-16 19:57:40  \n",
       "3 2020-05-15 16:02:01  \n",
       "4 2020-05-16 13:48:39  "
      ]
     },
     "execution_count": 29,
     "metadata": {},
     "output_type": "execute_result"
    }
   ],
   "source": [
    "passing_speed = (\n",
    "    game_actions\n",
    "    .groupby('user_id', as_index=False)\n",
    "    .agg({'event_datetime': 'min'})\n",
    "    .rename(columns={'event_datetime':'start_datetime'}).merge(\n",
    "        game_actions.query('event == \"finished_stage_1\"')\n",
    "        .groupby('user_id', as_index=False)\n",
    "        .agg({'event_datetime':'first'}), how='inner', on='user_id'\n",
    "    ).rename(columns={'event_datetime':'finish_datetime'})\n",
    ")\n",
    "\n",
    "passing_speed.head()"
   ]
  },
  {
   "cell_type": "markdown",
   "id": "02db59ab",
   "metadata": {},
   "source": [
    "Теперь у нас есть вся информация для подсчета времени, которое игроки потратили на прохождение первого уровня: нам достаточно вычесть значение первого события из значения последнего события. Но полученный результат будет храниться в том же формате, что и исходные столбцы: с часами, минутами и секундами. С данными в таком формате будет неудобно работать впоследствии, эта информация о времени будет излишней и помешает нам визуализировать данные. Поэтому из полученной информации о времени прохождения уровня сохраним лишь количество полных дней:"
   ]
  },
  {
   "cell_type": "code",
   "execution_count": 30,
   "id": "9a9048d0",
   "metadata": {},
   "outputs": [
    {
     "data": {
      "text/html": [
       "<div>\n",
       "<style scoped>\n",
       "    .dataframe tbody tr th:only-of-type {\n",
       "        vertical-align: middle;\n",
       "    }\n",
       "\n",
       "    .dataframe tbody tr th {\n",
       "        vertical-align: top;\n",
       "    }\n",
       "\n",
       "    .dataframe thead th {\n",
       "        text-align: right;\n",
       "    }\n",
       "</style>\n",
       "<table border=\"1\" class=\"dataframe\">\n",
       "  <thead>\n",
       "    <tr style=\"text-align: right;\">\n",
       "      <th></th>\n",
       "      <th>user_id</th>\n",
       "      <th>start_datetime</th>\n",
       "      <th>finish_datetime</th>\n",
       "      <th>time_difference_days</th>\n",
       "    </tr>\n",
       "  </thead>\n",
       "  <tbody>\n",
       "    <tr>\n",
       "      <th>0</th>\n",
       "      <td>001d39dc-366c-4021-9604-6a3b9ff01e25</td>\n",
       "      <td>2020-05-05 21:02:05</td>\n",
       "      <td>2020-05-12 07:40:47</td>\n",
       "      <td>6</td>\n",
       "    </tr>\n",
       "    <tr>\n",
       "      <th>1</th>\n",
       "      <td>003ee7e8-6356-4286-a715-62f22a18d2a1</td>\n",
       "      <td>2020-05-05 08:31:04</td>\n",
       "      <td>2020-05-17 21:47:49</td>\n",
       "      <td>12</td>\n",
       "    </tr>\n",
       "    <tr>\n",
       "      <th>2</th>\n",
       "      <td>004074f8-251a-4776-922c-8348dca1a2f6</td>\n",
       "      <td>2020-05-04 01:07:35</td>\n",
       "      <td>2020-05-16 19:57:40</td>\n",
       "      <td>12</td>\n",
       "    </tr>\n",
       "    <tr>\n",
       "      <th>3</th>\n",
       "      <td>00464e5e-28ed-4be6-bf44-517ef7b3937b</td>\n",
       "      <td>2020-05-04 08:35:29</td>\n",
       "      <td>2020-05-15 16:02:01</td>\n",
       "      <td>11</td>\n",
       "    </tr>\n",
       "    <tr>\n",
       "      <th>4</th>\n",
       "      <td>0056c007-c082-43cc-bdef-afc49bca4cb9</td>\n",
       "      <td>2020-05-10 11:49:47</td>\n",
       "      <td>2020-05-16 13:48:39</td>\n",
       "      <td>6</td>\n",
       "    </tr>\n",
       "  </tbody>\n",
       "</table>\n",
       "</div>"
      ],
      "text/plain": [
       "                                user_id      start_datetime  \\\n",
       "0  001d39dc-366c-4021-9604-6a3b9ff01e25 2020-05-05 21:02:05   \n",
       "1  003ee7e8-6356-4286-a715-62f22a18d2a1 2020-05-05 08:31:04   \n",
       "2  004074f8-251a-4776-922c-8348dca1a2f6 2020-05-04 01:07:35   \n",
       "3  00464e5e-28ed-4be6-bf44-517ef7b3937b 2020-05-04 08:35:29   \n",
       "4  0056c007-c082-43cc-bdef-afc49bca4cb9 2020-05-10 11:49:47   \n",
       "\n",
       "      finish_datetime  time_difference_days  \n",
       "0 2020-05-12 07:40:47                     6  \n",
       "1 2020-05-17 21:47:49                    12  \n",
       "2 2020-05-16 19:57:40                    12  \n",
       "3 2020-05-15 16:02:01                    11  \n",
       "4 2020-05-16 13:48:39                     6  "
      ]
     },
     "execution_count": 30,
     "metadata": {},
     "output_type": "execute_result"
    }
   ],
   "source": [
    "passing_speed['time_difference_days'] = (\n",
    "    passing_speed['finish_datetime'] - passing_speed['start_datetime']\n",
    ").dt.days\n",
    "\n",
    "passing_speed.head()"
   ]
  },
  {
   "cell_type": "markdown",
   "id": "fd24ba84",
   "metadata": {},
   "source": [
    "Выведем на экран краткое статистическое описание по времени прохождения:"
   ]
  },
  {
   "cell_type": "code",
   "execution_count": 31,
   "id": "16dfc782",
   "metadata": {},
   "outputs": [
    {
     "data": {
      "text/plain": [
       "count    5817.000000\n",
       "mean       11.362214\n",
       "std         4.080387\n",
       "min         0.000000\n",
       "25%         9.000000\n",
       "50%        11.000000\n",
       "75%        14.000000\n",
       "max        30.000000\n",
       "Name: time_difference_days, dtype: float64"
      ]
     },
     "execution_count": 31,
     "metadata": {},
     "output_type": "execute_result"
    }
   ],
   "source": [
    "passing_speed['time_difference_days'].describe()"
   ]
  },
  {
   "cell_type": "markdown",
   "id": "0d62ccfe",
   "metadata": {},
   "source": [
    "Некоторые значения из списка намекают на присутствие выбросов в наших данных: это минимальное значение, равное нулю, и максимальное значение, которое слишком сильно отдаляется от значения 3 квартиля. Для проверки на наличие выбросов построим график boxplot: "
   ]
  },
  {
   "cell_type": "code",
   "execution_count": 32,
   "id": "04b15e9d",
   "metadata": {},
   "outputs": [
    {
     "data": {
      "image/png": "[encoded data removed]",
      "text/plain": [
       "<Figure size 720x504 with 1 Axes>"
      ]
     },
     "metadata": {
      "needs_background": "light"
     },
     "output_type": "display_data"
    }
   ],
   "source": [
    "fig = plt.figure(figsize =(10, 7))\n",
    "plt.boxplot(passing_speed['time_difference_days'])\n",
    "plt.grid()\n",
    "plt.show()"
   ]
  },
  {
   "cell_type": "markdown",
   "id": "7f60072e",
   "metadata": {},
   "source": [
    "Несмотря на наличие значений за пределами \"усов\" нашего графика, эти значения нельзя назвать аномальными: они не имеют большого отдаления от самого графика и в целом при обычном прикладном анализе они выглядят реалистичными: мы можем допустить, что один или несколько игроков могли потратить на прохождение 1 уровня как целый месяц, так и 0 целых дней (то есть менее 24 часов). Да, такие случаи единичны, но если такие уникальные пользователи были привлечены лишь по одному источнику, нам это важно знать и понимать, поэтому при дальнейшем анализе важно учесть всех пользователей."
   ]
  },
  {
   "cell_type": "markdown",
   "id": "eefcedbb",
   "metadata": {},
   "source": [
    "Теперь построим столбчатую диаграмму, чтобы визуализировать данные:"
   ]
  },
  {
   "cell_type": "code",
   "execution_count": 33,
   "id": "7a053d35",
   "metadata": {},
   "outputs": [
    {
     "data": {
      "image/png": "[encoded data removed]",
      "text/plain": [
       "<Figure size 720x504 with 1 Axes>"
      ]
     },
     "metadata": {
      "needs_background": "light"
     },
     "output_type": "display_data"
    }
   ],
   "source": [
    "data = (\n",
    "    passing_speed\n",
    "    .groupby('time_difference_days', as_index=False)\n",
    "    .agg({'user_id':'count'})\n",
    "    .sort_values('time_difference_days')\n",
    ")\n",
    "\n",
    "fig = plt.figure(figsize =(10, 7))\n",
    "ax = data['user_id'].plot(kind=\"bar\")\n",
    "\n",
    "plt.title(\"Сколько времени требуется пользователям, чтобы пройти 1 уровень?\")\n",
    "plt.xlabel(\"Количество дней\")\n",
    "plt.ylabel(\"Количество пользователей\")\n",
    "ax.set_xticklabels(data['time_difference_days'])\n",
    "plt.xticks(rotation=0, ha='right')\n",
    "plt.grid()\n",
    "\n",
    "plt.show() "
   ]
  },
  {
   "cell_type": "markdown",
   "id": "674bd7e2",
   "metadata": {},
   "source": [
    "Полученный график напоминает нам график нормального распределения с удлиненным \"хвостом\".\n",
    "\n",
    "Получается, в среднем, пользователи тратят на прохождение 1 уровня примерно 11 дней. Если говорить более подробно, то можно сказать, что половина всех пользователей тратит на прохождение 1 уровня от 9 до 14 дней. Чем больше отклонение от этих значений, тем меньшее количество пользователей мы можем описать этим значением. Если мы вспомним тот факт, что новые пользователи приходили в приложение с 4 по 10 мая, а датасет хранит информацию об их действиях в игре вплоть до 5 июня, это означает, что в распоряжении практически всех новых пользователей (за исключением тех редких случаев случаев, когда игрокам требовалось на прохождение около 1 месяца) было достаточно времени, чтобы пройти 1 уровень."
   ]
  },
  {
   "cell_type": "markdown",
   "id": "a274aafd",
   "metadata": {},
   "source": [
    "### Какое в среднем количество построек строят пользователи?"
   ]
  },
  {
   "cell_type": "markdown",
   "id": "181f802c",
   "metadata": {},
   "source": [
    "Только что мы изучили вопрос, сколько времени тратят пользователи на прохождение 1 уровня. Но в таком случае без внимания остались пользователи, которые не закончили 1 уровень, как оценить их вовлеченность в игру? Нам кажется, что отдельно уделять вниманию вопросу длительности вовлечения в игру пользователей, которые не прошли 1 уровень не стоит. В начале нашего исследования, мы обращали внимание, что предполагаемая модель монетизации строится на том, что в приложении будет происходить показ рекламы на экране с выбором типа объекта для постройки. Следовательно, если пользователь покинул приложение на этапе 1 уровня, нам важнее оценить не как быстро он это сделал, а насколько он вовлекся в сам процесс игры, как много построек он успел построить. \n",
    "\n",
    "И при ответе на вопрос, вынесенном в подзаголовок, мы будем учитывать данные уже обо всех пользователях, в том числе и о тех, кто не прошел до конца 1 уровень. "
   ]
  },
  {
   "cell_type": "markdown",
   "id": "1e968fd6",
   "metadata": {},
   "source": [
    "Для ответа на этот вопрос сначала построим сводную таблицу: сгруппируем данные по id пользователей, и подсчитаем для каждого пользователя количество событий `building`:"
   ]
  },
  {
   "cell_type": "code",
   "execution_count": 34,
   "id": "3f17bd25",
   "metadata": {},
   "outputs": [
    {
     "data": {
      "text/html": [
       "<div>\n",
       "<style scoped>\n",
       "    .dataframe tbody tr th:only-of-type {\n",
       "        vertical-align: middle;\n",
       "    }\n",
       "\n",
       "    .dataframe tbody tr th {\n",
       "        vertical-align: top;\n",
       "    }\n",
       "\n",
       "    .dataframe thead th {\n",
       "        text-align: right;\n",
       "    }\n",
       "</style>\n",
       "<table border=\"1\" class=\"dataframe\">\n",
       "  <thead>\n",
       "    <tr style=\"text-align: right;\">\n",
       "      <th></th>\n",
       "      <th>user_id</th>\n",
       "      <th>buildings_cnt</th>\n",
       "    </tr>\n",
       "  </thead>\n",
       "  <tbody>\n",
       "    <tr>\n",
       "      <th>0</th>\n",
       "      <td>0001f83c-c6ac-4621-b7f0-8a28b283ac30</td>\n",
       "      <td>13</td>\n",
       "    </tr>\n",
       "    <tr>\n",
       "      <th>1</th>\n",
       "      <td>00151b4f-ba38-44a8-a650-d7cf130a0105</td>\n",
       "      <td>9</td>\n",
       "    </tr>\n",
       "    <tr>\n",
       "      <th>2</th>\n",
       "      <td>001aaea6-3d14-43f1-8ca8-7f48820f17aa</td>\n",
       "      <td>4</td>\n",
       "    </tr>\n",
       "    <tr>\n",
       "      <th>3</th>\n",
       "      <td>001d39dc-366c-4021-9604-6a3b9ff01e25</td>\n",
       "      <td>8</td>\n",
       "    </tr>\n",
       "    <tr>\n",
       "      <th>4</th>\n",
       "      <td>002f508f-67b6-479f-814b-b05f00d4e995</td>\n",
       "      <td>12</td>\n",
       "    </tr>\n",
       "  </tbody>\n",
       "</table>\n",
       "</div>"
      ],
      "text/plain": [
       "                                user_id  buildings_cnt\n",
       "0  0001f83c-c6ac-4621-b7f0-8a28b283ac30             13\n",
       "1  00151b4f-ba38-44a8-a650-d7cf130a0105              9\n",
       "2  001aaea6-3d14-43f1-8ca8-7f48820f17aa              4\n",
       "3  001d39dc-366c-4021-9604-6a3b9ff01e25              8\n",
       "4  002f508f-67b6-479f-814b-b05f00d4e995             12"
      ]
     },
     "execution_count": 34,
     "metadata": {},
     "output_type": "execute_result"
    }
   ],
   "source": [
    "buildings_count = (\n",
    "    game_actions.query('event == \"building\"')\n",
    "    .groupby('user_id', as_index=False)\n",
    "    .agg({'building_type': 'count'})\n",
    "    .rename(columns={'building_type': 'buildings_cnt'})\n",
    ")\n",
    "\n",
    "buildings_count.head()"
   ]
  },
  {
   "cell_type": "markdown",
   "id": "ce3b4ce7",
   "metadata": {},
   "source": [
    "Выведем на экран краткое статистическое описание по количеству построек:"
   ]
  },
  {
   "cell_type": "code",
   "execution_count": 35,
   "id": "d5a1bd99",
   "metadata": {},
   "outputs": [
    {
     "data": {
      "text/plain": [
       "count    13576.000000\n",
       "mean         9.425162\n",
       "std          3.860800\n",
       "min          1.000000\n",
       "25%          6.000000\n",
       "50%         10.000000\n",
       "75%         12.000000\n",
       "max         20.000000\n",
       "Name: buildings_cnt, dtype: float64"
      ]
     },
     "execution_count": 35,
     "metadata": {},
     "output_type": "execute_result"
    }
   ],
   "source": [
    "buildings_count['buildings_cnt'].describe()"
   ]
  },
  {
   "cell_type": "markdown",
   "id": "46b69e95",
   "metadata": {},
   "source": [
    "С помощью графика boxplot проверим наши данные на наличие статистических выбросов:"
   ]
  },
  {
   "cell_type": "code",
   "execution_count": 36,
   "id": "0a146f36",
   "metadata": {},
   "outputs": [
    {
     "data": {
      "image/png": "[encoded data removed]",
      "text/plain": [
       "<Figure size 720x504 with 1 Axes>"
      ]
     },
     "metadata": {
      "needs_background": "light"
     },
     "output_type": "display_data"
    }
   ],
   "source": [
    "fig = plt.figure(figsize =(10, 7))\n",
    "plt.boxplot(buildings_count['buildings_cnt'])\n",
    "plt.grid()\n",
    "plt.show()"
   ]
  },
  {
   "cell_type": "markdown",
   "id": "a8a12b70",
   "metadata": {},
   "source": [
    "Выбросы отсутствуют. Теперь построим столбчатую диаграмму, чтобы визуализировать данные:"
   ]
  },
  {
   "cell_type": "code",
   "execution_count": 37,
   "id": "6beeb0af",
   "metadata": {},
   "outputs": [
    {
     "data": {
      "image/png": "[encoded data removed]",
      "text/plain": [
       "<Figure size 720x504 with 1 Axes>"
      ]
     },
     "metadata": {
      "needs_background": "light"
     },
     "output_type": "display_data"
    }
   ],
   "source": [
    "data = (\n",
    "    buildings_count\n",
    "    .groupby('buildings_cnt', as_index=False)\n",
    "    .agg({'user_id':'count'})\n",
    "    .sort_values('buildings_cnt')\n",
    ")\n",
    "\n",
    "fig = plt.figure(figsize =(10, 7))\n",
    "ax = data['user_id'].plot(kind=\"bar\")\n",
    "\n",
    "plt.title(\"Какое в среднем количество построек строят пользователи?\")\n",
    "plt.xlabel(\"Количество построек\")\n",
    "plt.ylabel(\"Количество пользователей\")\n",
    "ax.set_xticklabels(data['buildings_cnt'])\n",
    "plt.xticks(rotation=0, ha='right')\n",
    "plt.grid()\n",
    "\n",
    "plt.show() "
   ]
  },
  {
   "cell_type": "markdown",
   "id": "ca5a5d86",
   "metadata": {},
   "source": [
    "Получается, в среднем пользователи строили около 9-10 построек. График за некоторыми исключениями (речь идет о \"просадке\" на 7-8 объектах) напоминает график нормального распределения, но возможно, его искажает смешение данных: мы рассматривали вместе и тех пользователей, кто прошел 1 уровень, и тех, кто покинул приложение раньше. Рассмотрим теперь этих пользователей по отдельности. Сначала изучим данные по пользователям, которые завершили прохождение 1 уровня:"
   ]
  },
  {
   "cell_type": "code",
   "execution_count": 38,
   "id": "3041721b",
   "metadata": {},
   "outputs": [
    {
     "data": {
      "image/png": "[encoded data removed]",
      "text/plain": [
       "<Figure size 720x504 with 1 Axes>"
      ]
     },
     "metadata": {
      "needs_background": "light"
     },
     "output_type": "display_data"
    }
   ],
   "source": [
    "buildings_count = (\n",
    "    game_actions.query('event == \"building\" and user_id in @finished_1lvl_ids')\n",
    "    .groupby('user_id', as_index=False)\n",
    "    .agg({'building_type': 'count'})\n",
    "    .rename(columns={'building_type': 'buildings_cnt'})\n",
    ")\n",
    "\n",
    "data = (\n",
    "    buildings_count\n",
    "    .groupby('buildings_cnt', as_index=False)\n",
    "    .agg({'user_id':'count'})\n",
    "    .sort_values('buildings_cnt')\n",
    ")\n",
    "\n",
    "fig = plt.figure(figsize =(10, 7))\n",
    "ax = data['user_id'].plot(kind=\"bar\")\n",
    "\n",
    "plt.title(\"Какое в среднем количество построек строят пользователи, завершившие 1 уровень?\")\n",
    "plt.xlabel(\"Количество построек\")\n",
    "plt.ylabel(\"Количество пользователей\")\n",
    "ax.set_xticklabels(data['buildings_cnt'])\n",
    "plt.xticks(rotation=0, ha='right')\n",
    "plt.grid()\n",
    "\n",
    "plt.show() "
   ]
  },
  {
   "cell_type": "markdown",
   "id": "a544c266",
   "metadata": {},
   "source": [
    "Выведем на экран краткое статистическое описание данных:"
   ]
  },
  {
   "cell_type": "code",
   "execution_count": 39,
   "id": "f651e272",
   "metadata": {},
   "outputs": [
    {
     "data": {
      "text/plain": [
       "count    5817.000000\n",
       "mean       10.449716\n",
       "std         3.184264\n",
       "min         2.000000\n",
       "25%         9.000000\n",
       "50%        11.000000\n",
       "75%        12.000000\n",
       "max        20.000000\n",
       "Name: buildings_cnt, dtype: float64"
      ]
     },
     "execution_count": 39,
     "metadata": {},
     "output_type": "execute_result"
    }
   ],
   "source": [
    "buildings_count['buildings_cnt'].describe()"
   ]
  },
  {
   "cell_type": "markdown",
   "id": "70f12977",
   "metadata": {},
   "source": [
    "Мы видим, что среднее и медиана относительно смешанных данных стали немного больше, что и логично: пользователи, которые завершили 1 уровень, в среднем строили около 10-11 построек. Интересно, что и на этом графике наблюдается просадка значений на отметке в 7 построек.\n",
    "\n",
    "Теперь рассмотрим данные по пользователям, которые покинули игру до завершения 1 уровня:"
   ]
  },
  {
   "cell_type": "code",
   "execution_count": 40,
   "id": "a1083836",
   "metadata": {},
   "outputs": [
    {
     "data": {
      "image/png": "[encoded data removed]",
      "text/plain": [
       "<Figure size 720x504 with 1 Axes>"
      ]
     },
     "metadata": {
      "needs_background": "light"
     },
     "output_type": "display_data"
    }
   ],
   "source": [
    "buildings_count = (\n",
    "    game_actions.query('event == \"building\" and user_id in @abandoned_ids')\n",
    "    .groupby('user_id', as_index=False)\n",
    "    .agg({'building_type': 'count'})\n",
    "    .rename(columns={'building_type': 'buildings_cnt'})\n",
    ")\n",
    "\n",
    "data = (\n",
    "    buildings_count\n",
    "    .groupby('buildings_cnt', as_index=False)\n",
    "    .agg({'user_id':'count'})\n",
    "    .sort_values('buildings_cnt')\n",
    ")\n",
    "\n",
    "fig = plt.figure(figsize =(10, 7))\n",
    "ax = data['user_id'].plot(kind=\"bar\")\n",
    "\n",
    "plt.title(\"Какое в среднем количество построек строят пользователи, которые покинули игру до завершения 1 уровня?\")\n",
    "plt.xlabel(\"Количество построек\")\n",
    "plt.ylabel(\"Количество пользователей\")\n",
    "ax.set_xticklabels(data['buildings_cnt'])\n",
    "plt.xticks(rotation=0, ha='right')\n",
    "plt.grid()\n",
    "\n",
    "plt.show() "
   ]
  },
  {
   "cell_type": "markdown",
   "id": "14b520ec",
   "metadata": {},
   "source": [
    "Выведем на экран краткое статистическое описание данных:"
   ]
  },
  {
   "cell_type": "code",
   "execution_count": 41,
   "id": "21d25ee8",
   "metadata": {},
   "outputs": [
    {
     "data": {
      "text/plain": [
       "count    7759.000000\n",
       "mean        8.657043\n",
       "std         4.135660\n",
       "min         1.000000\n",
       "25%         5.000000\n",
       "50%         8.000000\n",
       "75%        12.000000\n",
       "max        20.000000\n",
       "Name: buildings_cnt, dtype: float64"
      ]
     },
     "execution_count": 41,
     "metadata": {},
     "output_type": "execute_result"
    }
   ],
   "source": [
    "buildings_count['buildings_cnt'].describe()"
   ]
  },
  {
   "cell_type": "markdown",
   "id": "6b8ba022",
   "metadata": {},
   "source": [
    "Относительно общих показателей мы отмечаем уменьшение среднего и медианы: в среднем, пользователи, которые не завершили прохождение 1 уровня, строили примерно по 8 построек. \n",
    "\n",
    "Кроме того, стоит отметить, что \"просадка\" на 7-8 объектах оказалась характерна для всех пользователей. Возможно, она вызвана какими-то особенностями механики игры, которые мешают игрокам развиваться равномерно. Поэтому нам стоит передать эту информацию отделу геймдева, чтобы они выяснили в чём дело, и, при необходимости, исправили."
   ]
  },
  {
   "cell_type": "markdown",
   "id": "da2ecb49",
   "metadata": {},
   "source": [
    "### Какую стратегию обычно выбирают пользователи для прохождения 1 уровня?"
   ]
  },
  {
   "cell_type": "markdown",
   "id": "f52ff292",
   "metadata": {},
   "source": [
    "Механика игры построена так, что завершить первый уровень можно, выполнив одно из двух условий:\n",
    "- Победа над первым врагом (победа в режиме PvP)\n",
    "- Реализация проекта — разработка орбитальной сборки спутников (победа в режиме PvE)\n",
    "\n",
    "В датасете нет специальной отметки о победе в режиме PvP, мы можем вычислить таких игроков только методом исключения: они завершили 1 уровень без реализации проекта.\n",
    "\n",
    "Изучим этот вопрос подробнее и ответим на вопрос, какую стратегию предпочитают пользователи для прохождения 1 уровня. Для начала создадим список уникальных id игроков, которые одержали победу в каждом из режимов:"
   ]
  },
  {
   "cell_type": "code",
   "execution_count": 42,
   "id": "9e38351a",
   "metadata": {},
   "outputs": [],
   "source": [
    "pve_ids = game_actions.query('event == \"project\"')['user_id'].unique()\n",
    "\n",
    "pvp_ids = (\n",
    "    game_actions\n",
    "    .query('event == \"finished_stage_1\" and user_id not in @pve_ids')['user_id']\n",
    "    .unique()\n",
    ")"
   ]
  },
  {
   "cell_type": "markdown",
   "id": "b4e9cdf0",
   "metadata": {},
   "source": [
    "С помощью этих список построим pie chart:"
   ]
  },
  {
   "cell_type": "code",
   "execution_count": 43,
   "id": "4af29cb8",
   "metadata": {
    "scrolled": false
   },
   "outputs": [
    {
     "data": {
      "image/png": "[encoded data removed]",
      "text/plain": [
       "<Figure size 504x360 with 1 Axes>"
      ]
     },
     "metadata": {},
     "output_type": "display_data"
    }
   ],
   "source": [
    "labels = 'Реализация проекта', 'Победа над первым врагом'\n",
    "sizes = [len(pve_ids), len(pvp_ids)]\n",
    "explode = (0.1, 0) \n",
    "\n",
    "fig1, ax1 = plt.subplots(figsize=(7,5))\n",
    "ax1.pie(sizes, explode=explode, labels=labels, autopct='%1.1f%%',\n",
    "        shadow=True, startangle=90)\n",
    "ax1.axis('equal')  \n",
    "plt.title(\"Какую стратегию обычно выбирают пользователи для прохождения 1 уровня?\")\n",
    "\n",
    "plt.show()"
   ]
  },
  {
   "cell_type": "markdown",
   "id": "8543321d",
   "metadata": {},
   "source": [
    "Мы видим, что чаще пользователи предпочитают PvP-стратегию для прохождения 1 уровня."
   ]
  },
  {
   "cell_type": "markdown",
   "id": "26664a81",
   "metadata": {},
   "source": [
    "### Сколько в среднем было потрачено на привлечение 1 пользователя по каждому источнику?"
   ]
  },
  {
   "cell_type": "markdown",
   "id": "3945691d",
   "metadata": {},
   "source": [
    "Теперь проанализируем вопрос, связанный с каналами привлечения пользователей и который необходимо нам изучить для последующего ответа на вопрос заказчика: как распределяются траты компании на привлечение пользователей, сколько в среднем было потрачено на привлечение 1 пользователя по каждому источнику? Для ответа на этот вопрос воспользуемся вспомогательными датасетами `user_source` и `ad_costs`. \n",
    "\n",
    "Сначала создадим сводную таблицу на основе датасета `user_source`: сгруппируем его по каналам привлечения и для каждого канала подсчитаем количество привлеченных пользователей.\n",
    "Затем создадим вторую сводную таблицу на основе датасета `ad_costs`: тоже сгруппируем данные по каналам привлечения и для каждого канала подсчитаем сумму рекламных расходов.\n",
    "Объединим эти таблицы в единую сводную, в которой добавим новый столбец: разделим сумму расходов по каждому каналу на количество привлеченных пользователей.\n",
    "\n",
    "Выведем результат на экран:"
   ]
  },
  {
   "cell_type": "code",
   "execution_count": 44,
   "id": "15f28783",
   "metadata": {},
   "outputs": [
    {
     "data": {
      "text/html": [
       "<div>\n",
       "<style scoped>\n",
       "    .dataframe tbody tr th:only-of-type {\n",
       "        vertical-align: middle;\n",
       "    }\n",
       "\n",
       "    .dataframe tbody tr th {\n",
       "        vertical-align: top;\n",
       "    }\n",
       "\n",
       "    .dataframe thead th {\n",
       "        text-align: right;\n",
       "    }\n",
       "</style>\n",
       "<table border=\"1\" class=\"dataframe\">\n",
       "  <thead>\n",
       "    <tr style=\"text-align: right;\">\n",
       "      <th></th>\n",
       "      <th>source</th>\n",
       "      <th>user_cnt</th>\n",
       "      <th>sum</th>\n",
       "      <th>per_user</th>\n",
       "    </tr>\n",
       "  </thead>\n",
       "  <tbody>\n",
       "    <tr>\n",
       "      <th>3</th>\n",
       "      <td>youtube_channel_reklama</td>\n",
       "      <td>2686</td>\n",
       "      <td>1068.12</td>\n",
       "      <td>0.40</td>\n",
       "    </tr>\n",
       "    <tr>\n",
       "      <th>2</th>\n",
       "      <td>yandex_direct</td>\n",
       "      <td>4817</td>\n",
       "      <td>2233.11</td>\n",
       "      <td>0.46</td>\n",
       "    </tr>\n",
       "    <tr>\n",
       "      <th>1</th>\n",
       "      <td>instagram_new_adverts</td>\n",
       "      <td>3347</td>\n",
       "      <td>2161.44</td>\n",
       "      <td>0.65</td>\n",
       "    </tr>\n",
       "    <tr>\n",
       "      <th>0</th>\n",
       "      <td>facebook_ads</td>\n",
       "      <td>2726</td>\n",
       "      <td>2140.90</td>\n",
       "      <td>0.79</td>\n",
       "    </tr>\n",
       "  </tbody>\n",
       "</table>\n",
       "</div>"
      ],
      "text/plain": [
       "                    source  user_cnt      sum  per_user\n",
       "3  youtube_channel_reklama      2686  1068.12      0.40\n",
       "2            yandex_direct      4817  2233.11      0.46\n",
       "1    instagram_new_adverts      3347  2161.44      0.65\n",
       "0             facebook_ads      2726  2140.90      0.79"
      ]
     },
     "execution_count": 44,
     "metadata": {},
     "output_type": "execute_result"
    }
   ],
   "source": [
    "costs_per_user = (user_source\n",
    "                 .groupby('source', as_index=False)\n",
    "                 .agg({'user_id': 'count'})\n",
    "                 .rename(columns={'user_id':'user_cnt'})\n",
    "                 .merge(ad_costs\n",
    "                        .groupby('source', as_index=False)\n",
    "                        .agg({'cost': 'sum'})\n",
    "                        .rename(columns={'cost':'sum'}), how='inner', on='source')\n",
    ")\n",
    "\n",
    "costs_per_user['sum'] = round(costs_per_user['sum'], 2)\n",
    "costs_per_user['per_user'] = round(costs_per_user['sum'] / costs_per_user['user_cnt'], 2)\n",
    "\n",
    "costs_per_user.sort_values('per_user')"
   ]
  },
  {
   "cell_type": "markdown",
   "id": "9dbf0f4f",
   "metadata": {},
   "source": [
    "Мы видим, что с финансовой точки зрения самым выгодным каналом для привлечения новых пользователей был YouTube, самым невыгодным — Facebook; средняя стоимость привлечения 1 пользователя по этим каналам отличается практически в 2 раза!\n",
    "\n",
    "Визуализируем полученный результат с помощью столбчатой диаграммы:"
   ]
  },
  {
   "cell_type": "code",
   "execution_count": 45,
   "id": "3a9cfeb3",
   "metadata": {},
   "outputs": [
    {
     "data": {
      "image/png": "[encoded data removed]",
      "text/plain": [
       "<Figure size 720x504 with 1 Axes>"
      ]
     },
     "metadata": {
      "needs_background": "light"
     },
     "output_type": "display_data"
    }
   ],
   "source": [
    "fig = plt.figure(figsize =(10, 7))\n",
    "ax = costs_per_user['per_user'].plot(kind=\"bar\")\n",
    "\n",
    "plt.title(\"Сколько в среднем было потрачено на привлечение 1 пользователя по каждому каналу?\")\n",
    "plt.xlabel(\"Каналы привлечения пользователей\")\n",
    "plt.ylabel(\"Средняя стоимость 1 пользователя\")\n",
    "ax.set_xticklabels(costs_per_user['source'])\n",
    "plt.xticks(rotation=30, ha='right')\n",
    "\n",
    "rects = ax.patches\n",
    "\n",
    "labels = [i for i in list(costs_per_user['per_user'])]\n",
    "\n",
    "\n",
    "for rect, label in zip(rects, labels):\n",
    "    height = rect.get_height()\n",
    "    ax.text(\n",
    "        rect.get_x() + rect.get_width() / 2, height, label, ha=\"center\", va=\"bottom\"\n",
    "    )\n",
    "\n",
    "plt.show() "
   ]
  },
  {
   "cell_type": "markdown",
   "id": "8ceba267",
   "metadata": {},
   "source": [
    "### Вывод"
   ]
  },
  {
   "cell_type": "markdown",
   "id": "95979b8f",
   "metadata": {},
   "source": [
    "Исследовательский анализ данных показал, что до конца проходят 1 уровень менее половины пользователей: примерно 43 процента. В целом, это хороший показатель вовлеченности новых пользователей для игровой индустрии. При этом в среднем пользователи тратили на прохождение 1 уровня примерно 11 дней. Если говорить более подробно, то можно сказать, что половина всех пользователей тратит на прохождение 1 уровня от 9 до 14 дней. Для прохождения 1 уровня пользователи часто предпочитали PvP-стратегию (победа над первым игроком): такой выбор сделали практически 68% пользователей.\n",
    "\n",
    "Что касается количества построенных за время прохождения уровня объектов, то в среднем все пользователи приложения строили около 9-10 построек, при этом пользователи, которые прошли 1 уровень до конца, в среднем строили немного больше построек (около 10-11), чем пользователи, которые не завершили прохождение 1 уровня (примерно 8), что крайне логично.\n",
    "\n",
    "Что касается рекламных источников, то с финансовой точки зрения самым выгодным каналом для привлечения новых пользователей был YouTube, самым невыгодным — Facebook; средняя стоимость привлечения 1 пользователя по этим каналам отличается практически в 2 раза! (0.4 и 0.79)"
   ]
  },
  {
   "cell_type": "markdown",
   "id": "43b94e48",
   "metadata": {},
   "source": [
    "## Анализ влияния источника перехода в игру на поведение пользователей"
   ]
  },
  {
   "cell_type": "markdown",
   "id": "bf43c807",
   "metadata": {},
   "source": [
    "Теперь перейдем непосредственно к ответу на вопрос для нашего заказчика — отличается ли поведение пользователей в приложении в зависимости от канала привлечения, можно ли выявить более эффективные источники привлечения пользователей? \n",
    "\n",
    "Для ответа на этот вопрос мы вновь изучим поведение пользователей в приложении, но теперь разобьем их на когорты по каналу привлечения. Для того, чтобы разбить пользователей на когорты, мы создадим новый датафрейм на основе `game_actions`, куда добавим столбец с информацией о канале привлечения пользователя. Этот столбец впоследствии мы будем использовать для срезов данных по источнику:"
   ]
  },
  {
   "cell_type": "code",
   "execution_count": 46,
   "id": "be88097f",
   "metadata": {
    "scrolled": true
   },
   "outputs": [
    {
     "data": {
      "text/html": [
       "<div>\n",
       "<style scoped>\n",
       "    .dataframe tbody tr th:only-of-type {\n",
       "        vertical-align: middle;\n",
       "    }\n",
       "\n",
       "    .dataframe tbody tr th {\n",
       "        vertical-align: top;\n",
       "    }\n",
       "\n",
       "    .dataframe thead th {\n",
       "        text-align: right;\n",
       "    }\n",
       "</style>\n",
       "<table border=\"1\" class=\"dataframe\">\n",
       "  <thead>\n",
       "    <tr style=\"text-align: right;\">\n",
       "      <th></th>\n",
       "      <th>event_datetime</th>\n",
       "      <th>event</th>\n",
       "      <th>building_type</th>\n",
       "      <th>user_id</th>\n",
       "      <th>project_type</th>\n",
       "      <th>source</th>\n",
       "    </tr>\n",
       "  </thead>\n",
       "  <tbody>\n",
       "    <tr>\n",
       "      <th>0</th>\n",
       "      <td>2020-05-04 00:00:01</td>\n",
       "      <td>building</td>\n",
       "      <td>assembly_shop</td>\n",
       "      <td>55e92310-cb8e-4754-b622-597e124b03de</td>\n",
       "      <td>NaN</td>\n",
       "      <td>youtube_channel_reklama</td>\n",
       "    </tr>\n",
       "    <tr>\n",
       "      <th>1</th>\n",
       "      <td>2020-05-05 05:20:15</td>\n",
       "      <td>building</td>\n",
       "      <td>assembly_shop</td>\n",
       "      <td>55e92310-cb8e-4754-b622-597e124b03de</td>\n",
       "      <td>NaN</td>\n",
       "      <td>youtube_channel_reklama</td>\n",
       "    </tr>\n",
       "    <tr>\n",
       "      <th>2</th>\n",
       "      <td>2020-05-05 19:24:02</td>\n",
       "      <td>building</td>\n",
       "      <td>assembly_shop</td>\n",
       "      <td>55e92310-cb8e-4754-b622-597e124b03de</td>\n",
       "      <td>NaN</td>\n",
       "      <td>youtube_channel_reklama</td>\n",
       "    </tr>\n",
       "    <tr>\n",
       "      <th>3</th>\n",
       "      <td>2020-05-05 20:59:19</td>\n",
       "      <td>building</td>\n",
       "      <td>assembly_shop</td>\n",
       "      <td>55e92310-cb8e-4754-b622-597e124b03de</td>\n",
       "      <td>NaN</td>\n",
       "      <td>youtube_channel_reklama</td>\n",
       "    </tr>\n",
       "    <tr>\n",
       "      <th>4</th>\n",
       "      <td>2020-05-06 00:52:56</td>\n",
       "      <td>building</td>\n",
       "      <td>assembly_shop</td>\n",
       "      <td>55e92310-cb8e-4754-b622-597e124b03de</td>\n",
       "      <td>NaN</td>\n",
       "      <td>youtube_channel_reklama</td>\n",
       "    </tr>\n",
       "  </tbody>\n",
       "</table>\n",
       "</div>"
      ],
      "text/plain": [
       "       event_datetime     event  building_type  \\\n",
       "0 2020-05-04 00:00:01  building  assembly_shop   \n",
       "1 2020-05-05 05:20:15  building  assembly_shop   \n",
       "2 2020-05-05 19:24:02  building  assembly_shop   \n",
       "3 2020-05-05 20:59:19  building  assembly_shop   \n",
       "4 2020-05-06 00:52:56  building  assembly_shop   \n",
       "\n",
       "                                user_id project_type                   source  \n",
       "0  55e92310-cb8e-4754-b622-597e124b03de          NaN  youtube_channel_reklama  \n",
       "1  55e92310-cb8e-4754-b622-597e124b03de          NaN  youtube_channel_reklama  \n",
       "2  55e92310-cb8e-4754-b622-597e124b03de          NaN  youtube_channel_reklama  \n",
       "3  55e92310-cb8e-4754-b622-597e124b03de          NaN  youtube_channel_reklama  \n",
       "4  55e92310-cb8e-4754-b622-597e124b03de          NaN  youtube_channel_reklama  "
      ]
     },
     "execution_count": 46,
     "metadata": {},
     "output_type": "execute_result"
    }
   ],
   "source": [
    "game_actions_upd = (\n",
    "    game_actions\n",
    "    .merge(user_source, how='inner', on='user_id')\n",
    ")\n",
    "\n",
    "game_actions_upd.head()"
   ]
  },
  {
   "cell_type": "markdown",
   "id": "b782a58b",
   "metadata": {},
   "source": [
    "Теперь изучим вопрос влияния источника перехода в игру на вовлеченность пользователей; ответим на вопрос, какая доля пользователей завершила прохождение 1 уровня для каждого источника. Для наглядности как и в части исследовательского анализа вновь построим графики pie chart, но разместим их все вместе с помощью функции `plt.subplots`:"
   ]
  },
  {
   "cell_type": "code",
   "execution_count": 47,
   "id": "38a24b4a",
   "metadata": {},
   "outputs": [
    {
     "data": {
      "image/png": "[encoded data removed]",
      "text/plain": [
       "<Figure size 720x504 with 4 Axes>"
      ]
     },
     "metadata": {},
     "output_type": "display_data"
    }
   ],
   "source": [
    "labels = 'Перешли на 2-й ур', 'Не перешли на 2-й ур'\n",
    "explode = (0.1, 0) \n",
    "\n",
    "fig, ((ax1, ax2), (ax3, ax4)) = plt.subplots(2, 2, figsize=(10,7))\n",
    "\n",
    "sizes = [len(game_actions_upd.query('user_id in @finished_1lvl_ids and source == \"youtube_channel_reklama\"')['user_id'].unique()),\n",
    "         len(game_actions_upd.query('user_id in @abandoned_ids and source == \"youtube_channel_reklama\"')['user_id'].unique())\n",
    "        ]\n",
    "ax1.pie(sizes, explode=explode, labels=labels, autopct='%1.1f%%',\n",
    "        shadow=True, startangle=90)\n",
    "ax1.axis('equal')  \n",
    "ax1.set_title('youtube_channel_reklama')\n",
    "\n",
    "sizes = [len(game_actions_upd.query('user_id in @finished_1lvl_ids and source == \"facebook_ads\"')['user_id'].unique()),\n",
    "         len(game_actions_upd.query('user_id in @abandoned_ids and source == \"facebook_ads\"')['user_id'].unique())\n",
    "        ]\n",
    "ax2.pie(sizes, explode=explode, labels=labels, autopct='%1.1f%%',\n",
    "        shadow=True, startangle=90)\n",
    "ax2.axis('equal')  \n",
    "ax2.set_title('facebook_ads')\n",
    "\n",
    "sizes = [len(game_actions_upd.query('user_id in @finished_1lvl_ids and source == \"instagram_new_adverts\"')['user_id'].unique()),\n",
    "         len(game_actions_upd.query('user_id in @abandoned_ids and source == \"instagram_new_adverts\"')['user_id'].unique())\n",
    "        ]\n",
    "ax3.pie(sizes, explode=explode, labels=labels, autopct='%1.1f%%',\n",
    "        shadow=True, startangle=90)\n",
    "ax3.axis('equal')  \n",
    "ax3.set_title('instagram_new_adverts')\n",
    "\n",
    "sizes = [len(game_actions_upd.query('user_id in @finished_1lvl_ids and source == \"yandex_direct\"')['user_id'].unique()),\n",
    "         len(game_actions_upd.query('user_id in @abandoned_ids and source == \"yandex_direct\"')['user_id'].unique())\n",
    "        ]\n",
    "ax4.pie(sizes, explode=explode, labels=labels, autopct='%1.1f%%',\n",
    "        shadow=True, startangle=90)\n",
    "ax4.axis('equal')  \n",
    "ax4.set_title('yandex_direct')\n",
    "\n",
    "plt.show()"
   ]
  },
  {
   "cell_type": "markdown",
   "id": "b83fa713",
   "metadata": {},
   "source": [
    "Мы видим, что в среднем пользователи, привлеченные из YouTube и Instagram, активнее вовлекались в игру и чаще переходили на 2 уровень, чем пользователи из Facebook и Yandex. \n",
    "\n",
    "Теперь изучим вопрос, сколько времени требовалось пользователям из разных источников, чтобы закончить 1 уровень. Для ответа на этот вопрос будем использовать код из части по исследовательскому анализу данных, который мы разместим внутри цикла. Задача цикла: вывести на экран краткое статистическое описание данных по скорости прохождения 1 уровня для каждого канала привлечения пользователей:"
   ]
  },
  {
   "cell_type": "code",
   "execution_count": 48,
   "id": "b0f119c8",
   "metadata": {},
   "outputs": [
    {
     "name": "stdout",
     "output_type": "stream",
     "text": [
      "youtube_channel_reklama\n",
      "count    1159.000000\n",
      "mean       11.402934\n",
      "std         4.045171\n",
      "min         0.000000\n",
      "25%         9.000000\n",
      "50%        11.000000\n",
      "75%        14.000000\n",
      "max        27.000000\n",
      "Name: time_difference_days, dtype: float64\n",
      "\n",
      "facebook_ads\n",
      "count    1150.000000\n",
      "mean       11.348696\n",
      "std         4.063591\n",
      "min         1.000000\n",
      "25%         9.000000\n",
      "50%        11.000000\n",
      "75%        14.000000\n",
      "max        30.000000\n",
      "Name: time_difference_days, dtype: float64\n",
      "\n",
      "instagram_new_adverts\n",
      "count    1466.000000\n",
      "mean       11.407231\n",
      "std         4.038542\n",
      "min         0.000000\n",
      "25%         9.000000\n",
      "50%        11.000000\n",
      "75%        14.000000\n",
      "max        30.000000\n",
      "Name: time_difference_days, dtype: float64\n",
      "\n",
      "yandex_direct\n",
      "count    2042.000000\n",
      "mean       11.314398\n",
      "std         4.141552\n",
      "min         0.000000\n",
      "25%         9.000000\n",
      "50%        11.000000\n",
      "75%        14.000000\n",
      "max        30.000000\n",
      "Name: time_difference_days, dtype: float64\n",
      "\n"
     ]
    }
   ],
   "source": [
    "for source in list(game_actions_upd['source'].unique()):\n",
    "    passing_speed = (\n",
    "        game_actions_upd\n",
    "        .query('source == @source')\n",
    "        .groupby('user_id', as_index=False)\n",
    "        .agg({'event_datetime': 'min'})\n",
    "        .rename(columns={'event_datetime':'start_datetime'}).merge(\n",
    "            game_actions_upd.query('event == \"finished_stage_1\" and source == @source')\n",
    "            .groupby('user_id', as_index=False)\n",
    "            .agg({'event_datetime':'first'}), how='inner', on='user_id'\n",
    "        ).rename(columns={'event_datetime':'finish_datetime'})\n",
    "    )\n",
    "    passing_speed['time_difference_days'] = (\n",
    "    passing_speed['finish_datetime'] - passing_speed['start_datetime']\n",
    "    ).dt.days\n",
    "    \n",
    "    print(source)\n",
    "    print(passing_speed['time_difference_days'].describe())\n",
    "    print()"
   ]
  },
  {
   "cell_type": "markdown",
   "id": "0c855418",
   "metadata": {},
   "source": [
    "Мы видим, что все основные статистические показатели по скорости прохождения 1 уровня практически идентичны для каждого канала, из чего мы делаем вывод, что источник перехода в игру не влияет на скорость прохождения 1 уровня.\n",
    "\n",
    "Теперь изучим вопрос взаимосвязи источника и количества построек, которое пользователи строят в игре с помощью подобного же цикла:"
   ]
  },
  {
   "cell_type": "code",
   "execution_count": 49,
   "id": "ecfc8036",
   "metadata": {},
   "outputs": [
    {
     "name": "stdout",
     "output_type": "stream",
     "text": [
      "youtube_channel_reklama\n",
      "count    2686.000000\n",
      "mean        9.299330\n",
      "std         3.885385\n",
      "min         1.000000\n",
      "25%         6.000000\n",
      "50%        10.000000\n",
      "75%        12.000000\n",
      "max        20.000000\n",
      "Name: buildings_cnt, dtype: float64\n",
      "\n",
      "facebook_ads\n",
      "count    2726.000000\n",
      "mean        9.585840\n",
      "std         3.869306\n",
      "min         1.000000\n",
      "25%         6.000000\n",
      "50%        10.000000\n",
      "75%        12.000000\n",
      "max        20.000000\n",
      "Name: buildings_cnt, dtype: float64\n",
      "\n",
      "instagram_new_adverts\n",
      "count    3347.000000\n",
      "mean        9.505527\n",
      "std         3.830176\n",
      "min         1.000000\n",
      "25%         6.000000\n",
      "50%        10.000000\n",
      "75%        12.000000\n",
      "max        20.000000\n",
      "Name: buildings_cnt, dtype: float64\n",
      "\n",
      "yandex_direct\n",
      "count    4817.000000\n",
      "mean        9.348557\n",
      "std         3.860250\n",
      "min         1.000000\n",
      "25%         6.000000\n",
      "50%        10.000000\n",
      "75%        12.000000\n",
      "max        20.000000\n",
      "Name: buildings_cnt, dtype: float64\n",
      "\n"
     ]
    }
   ],
   "source": [
    "for source in list(game_actions_upd['source'].unique()):\n",
    "    buildings_count = (\n",
    "        game_actions_upd.query('event == \"building\" and source == @source')\n",
    "        .groupby('user_id', as_index=False)\n",
    "        .agg({'building_type': 'count'})\n",
    "        .rename(columns={'building_type': 'buildings_cnt'})\n",
    "    )\n",
    "    \n",
    "    print(source)\n",
    "    print(buildings_count['buildings_cnt'].describe())\n",
    "    print()"
   ]
  },
  {
   "cell_type": "markdown",
   "id": "53d01bac",
   "metadata": {},
   "source": [
    "Мы видим, что и в этом случае все основные статистические показатели по количеству построек практически идентичны для каждого канала, из чего мы делаем вывод, что в данном случае источник перехода в игру также не влияет на этот показатель.\n",
    "\n",
    "Теперь изучим вопрос, есть ли взаимосвязь между каналом привлечения пользователей и стратегией, которую выбирают пользователи для прохождения 1 уровня. При ответе на данный вопрос мы вновь воспользуемся графиками pie chart, размещенных на одной доске. Напомним, что PvE-стратегия — это реализация проекта пользователем, а PvP — победа над первым врагом:"
   ]
  },
  {
   "cell_type": "code",
   "execution_count": 50,
   "id": "53f0842b",
   "metadata": {},
   "outputs": [
    {
     "data": {
      "image/png": "[encoded data removed]",
      "text/plain": [
       "<Figure size 720x504 with 4 Axes>"
      ]
     },
     "metadata": {},
     "output_type": "display_data"
    }
   ],
   "source": [
    "labels = 'PvE', 'PvP'\n",
    "explode = (0.1, 0) \n",
    "\n",
    "\n",
    "fig, ((ax1, ax2), (ax3, ax4)) = plt.subplots(2, 2, figsize=(10,7))\n",
    "\n",
    "sizes = [len(game_actions_upd.query('user_id in @pve_ids and source == \"youtube_channel_reklama\"')),\n",
    "         len(game_actions_upd.query('user_id in @pvp_ids and source == \"youtube_channel_reklama\"'))\n",
    "                ]\n",
    "ax1.pie(sizes, explode=explode, labels=labels, autopct='%1.1f%%',\n",
    "        shadow=True, startangle=90)\n",
    "ax1.axis('equal')  \n",
    "ax1.set_title('youtube_channel_reklama')\n",
    "\n",
    "sizes = [len(game_actions_upd.query('user_id in @pve_ids and source == \"facebook_ads\"')),\n",
    "         len(game_actions_upd.query('user_id in @pvp_ids and source == \"facebook_ads\"'))\n",
    "        ]\n",
    "ax2.pie(sizes, explode=explode, labels=labels, autopct='%1.1f%%',\n",
    "        shadow=True, startangle=90)\n",
    "ax2.axis('equal')  \n",
    "ax2.set_title('facebook_ads')\n",
    "\n",
    "sizes = [len(game_actions_upd.query('user_id in @pve_ids and source == \"instagram_new_adverts\"')),\n",
    "         len(game_actions_upd.query('user_id in @pvp_ids and source == \"instagram_new_adverts\"'))\n",
    "        ]\n",
    "ax3.pie(sizes, explode=explode, labels=labels, autopct='%1.1f%%',\n",
    "        shadow=True, startangle=90)\n",
    "ax3.axis('equal')  \n",
    "ax3.set_title('instagram_new_adverts')\n",
    "\n",
    "sizes = [len(game_actions_upd.query('user_id in @pve_ids and source == \"yandex_direct\"')),\n",
    "         len(game_actions_upd.query('user_id in @pvp_ids and source == \"yandex_direct\"'))]\n",
    "ax4.pie(sizes, explode=explode, labels=labels, autopct='%1.1f%%',\n",
    "        shadow=True, startangle=90)\n",
    "ax4.axis('equal')  \n",
    "ax4.set_title('yandex_direct')\n",
    "\n",
    "\n",
    "plt.show()"
   ]
  },
  {
   "cell_type": "markdown",
   "id": "ddf18f8e",
   "metadata": {},
   "source": [
    "Мы видим, что заметно чаще других PvE-стратегию предпочитают пользователи, привлеченные из Facebook, а PvP-стратегию — пользователи Yandex. Пока мы не можем ответить на вопрос, какая стратегия эффективнее для компании с точки зрения монетизации, для этого в следующем разделе мы оценим взаимосвязь выбранной стратегии и поведения пользователей. "
   ]
  },
  {
   "cell_type": "markdown",
   "id": "fe46c17d",
   "metadata": {},
   "source": [
    "### Вывод"
   ]
  },
  {
   "cell_type": "markdown",
   "id": "bda4bdb9",
   "metadata": {},
   "source": [
    "Анализ влияния источника перехода в игру на поведение пользователей показал, что в среднем пользователи, привлеченные из YouTube и Instagram, активнее вовлекались в игру и чаще переходили на 2 уровень, чем пользователи из Facebook и Yandex. \n",
    "\n",
    "Также было выявлено, что пользователи, привлеченные из Facebook, заметно чаще других предпочитают PvE-стратегию для прохождения 1 уровня, а пользователи Yandex — PvP-стратегию.\n",
    "\n",
    "Кроме того, мы пришли к выводу, что источник перехода в приложение никак не влияет на скорость прохождения пользователями 1 уровня и количество объектов, которые они строят в игре."
   ]
  },
  {
   "cell_type": "markdown",
   "id": "582aa61f",
   "metadata": {},
   "source": [
    "## Проверка статистических гипотез о взаимосвязи выбранной пользователями стратегии для прохождения 1 уровня и их поведения в приложении"
   ]
  },
  {
   "cell_type": "markdown",
   "id": "380d157c",
   "metadata": {},
   "source": [
    "Теперь, когда мы обнаружили взаимосвязь между каналом привлечения пользователей и тем, какую стратегию для прохождения первого уровня они выбирают, попытаемся выяснить, влияет ли выбор стратегии на поведение пользователей для того, чтобы понять, на каких пользователях приложению стоит акцентировать свое внимание при внедрении монетизации в приложении.\n",
    "\n",
    "В этом разделе мы проверим две статистические гипотезы о влиянии выбранной пользователями стратегии на их поведение:\n",
    "- время завершения уровня различается в зависимости от выбранного способа прохождения;\n",
    "- количество построенных пользователем объектов различается в зависимости от выбранного способа прохождения."
   ]
  },
  {
   "cell_type": "markdown",
   "id": "ee89515d",
   "metadata": {},
   "source": [
    "### Гипотеза 1. Время завершения уровня различается в зависимости от выбранного способа прохождения"
   ]
  },
  {
   "cell_type": "markdown",
   "id": "4cf1387d",
   "metadata": {},
   "source": [
    "Сначала проверим наличие взаимосвязи между выбранной пользователем стратегии и скоростью прохождения. Начнем с того, что создадим два массива, каждый из которых будет содержать информацию о том, сколько дней потратили на прохождение 1 уровня пользователи, выбравшие разные стратегии. Для создания массивов воспользуемся уже знакомым кодом из части исследовательского анализа данных:"
   ]
  },
  {
   "cell_type": "code",
   "execution_count": 51,
   "id": "bace053c",
   "metadata": {},
   "outputs": [],
   "source": [
    "passing_speed_pve = (\n",
    "    game_actions.query('user_id in @pve_ids')\n",
    "    .groupby('user_id', as_index=False)\n",
    "    .agg({'event_datetime': 'min'})\n",
    "    .rename(columns={'event_datetime':'start_datetime'}).merge(\n",
    "        game_actions.query('event == \"finished_stage_1\"')\n",
    "        .groupby('user_id', as_index=False)\n",
    "        .agg({'event_datetime':'first'}), how='inner', on='user_id'\n",
    "    ).rename(columns={'event_datetime':'finish_datetime'})\n",
    ")\n",
    "\n",
    "passing_speed_pve['time_difference_days'] = (\n",
    "    passing_speed_pve['finish_datetime'] - passing_speed_pve['start_datetime']\n",
    ").dt.days\n",
    "\n",
    "passing_speed_pve = passing_speed_pve['time_difference_days']\n",
    "\n",
    "\n",
    "passing_speed_pvp = (\n",
    "    game_actions.query('user_id in @pvp_ids')\n",
    "    .groupby('user_id', as_index=False)\n",
    "    .agg({'event_datetime': 'min'})\n",
    "    .rename(columns={'event_datetime':'start_datetime'}).merge(\n",
    "        game_actions.query('event == \"finished_stage_1\"')\n",
    "        .groupby('user_id', as_index=False)\n",
    "        .agg({'event_datetime':'first'}), how='inner', on='user_id'\n",
    "    ).rename(columns={'event_datetime':'finish_datetime'})\n",
    ")\n",
    "\n",
    "passing_speed_pvp['time_difference_days'] = (\n",
    "    passing_speed_pvp['finish_datetime'] - passing_speed_pvp['start_datetime']\n",
    ").dt.days\n",
    "\n",
    "passing_speed_pvp = passing_speed_pvp['time_difference_days']"
   ]
  },
  {
   "cell_type": "markdown",
   "id": "fcdab2c3",
   "metadata": {},
   "source": [
    "Теперь все готово для проведения статистического теста.\n",
    "\n",
    "Формулируем нулевую гипотезу: пользователи, которые проходят 1 уровень через реализацию проекта, тратят на завершение этого уровня столько же дней, сколько и пользователи, которые проходят 1 уровень через победу над первым игроком.\n",
    "\n",
    "Таким образом, альтернативная гипотеза будет звучать так: пользователи, которые проходят 1 уровень через реализацию проекта и пользователи, которые проходят 1 уровень через победу над первым игроком тратят на завершение этого уровня разное количество дней.\n",
    "\n",
    "Проводим статистический тест, выбираем в качестве критического уровня статистической значимости отметку в 5%:"
   ]
  },
  {
   "cell_type": "code",
   "execution_count": 52,
   "id": "500440ad",
   "metadata": {},
   "outputs": [
    {
     "name": "stdout",
     "output_type": "stream",
     "text": [
      "p-значение: 1.8882835392369192e-97\n",
      "Достаточно оснований, чтобы отвергнуть нулевую гипотезу\n"
     ]
    }
   ],
   "source": [
    "alpha = 0.05 \n",
    "\n",
    "results = st.ttest_ind(\n",
    "    passing_speed_pve, \n",
    "    passing_speed_pvp)\n",
    "\n",
    "print('p-значение:', results.pvalue)\n",
    "\n",
    "if results.pvalue < alpha:\n",
    "    print(\"Достаточно оснований, чтобы отвергнуть нулевую гипотезу\")\n",
    "else:\n",
    "    print(\"Не получилось отвергнуть нулевую гипотезу\")"
   ]
  },
  {
   "cell_type": "markdown",
   "id": "2879b36d",
   "metadata": {},
   "source": [
    "Мы видим, что p-value стремится к нулю, а это значит, что у нас достаточно оснований, чтобы отвергнуть нулевую гипотезу и принять тот факт, что пользователи, которые проходят 1 уровень через реализацию проекта и пользователи, которые проходят 1 уровень через победу над первым игроком тратят на завершение этого уровня разное количество дней. Нам осталось выяснить, кто из них тратит на прохождение уровня больше времени, а кто — меньше. Выведем на экран средние значения обеих выборок:"
   ]
  },
  {
   "cell_type": "code",
   "execution_count": 53,
   "id": "f69a1928",
   "metadata": {},
   "outputs": [
    {
     "data": {
      "text/plain": [
       "(12.963022508038586, 10.606175651733738)"
      ]
     },
     "execution_count": 53,
     "metadata": {},
     "output_type": "execute_result"
    }
   ],
   "source": [
    "passing_speed_pve.mean(), passing_speed_pvp.mean()"
   ]
  },
  {
   "cell_type": "markdown",
   "id": "af720359",
   "metadata": {},
   "source": [
    "Получается, пользователи, которые выбрали для прохождения 1 уровня PvE-стратегию, тратят на прохождение этого уровня больше времени: в среднем, примерно на 2 дня больше."
   ]
  },
  {
   "cell_type": "markdown",
   "id": "e1fbe38d",
   "metadata": {},
   "source": [
    "### Гипотеза 2. Количество построенных пользователем объектов различается в зависимости от выбранного способа прохождения."
   ]
  },
  {
   "cell_type": "markdown",
   "id": "8c3b5ec4",
   "metadata": {},
   "source": [
    "Теперь проверим наличие взаимосвязи между выбранной пользователем стратегией и количеством построенных в игре объектов. Вновь создадим два массива, каждый из которых будет содержать информацию о том, сколько объектов построили пользователи, выбравшие разные стратегии. Для создания массивов вновь воспользуемся уже знакомым кодом из части исследовательского анализа данных:"
   ]
  },
  {
   "cell_type": "code",
   "execution_count": 54,
   "id": "30a2fb28",
   "metadata": {},
   "outputs": [],
   "source": [
    "buildings_count_pvp = (\n",
    "    game_actions.query('event == \"building\" and user_id in @pvp_ids')\n",
    "    .groupby('user_id', as_index=False)\n",
    "    .agg({'building_type': 'count'})\n",
    "    .rename(columns={'building_type': 'buildings_cnt'})\n",
    ")\n",
    "buildings_count_pvp = buildings_count_pvp['buildings_cnt']\n",
    "\n",
    "buildings_count_pve = (\n",
    "    game_actions.query('event == \"building\" and user_id in @pve_ids')\n",
    "    .groupby('user_id', as_index=False)\n",
    "    .agg({'building_type': 'count'})\n",
    "    .rename(columns={'building_type': 'buildings_cnt'})\n",
    ")\n",
    "buildings_count_pve = buildings_count_pve['buildings_cnt']"
   ]
  },
  {
   "cell_type": "markdown",
   "id": "8ee7d8c4",
   "metadata": {},
   "source": [
    "Теперь все готово для проведения статистического теста.\n",
    "\n",
    "Формулируем нулевую гипотезу: пользователи, которые проходят 1 уровень через реализацию проекта, строят в игре столько же построек, сколько и пользователи, которые проходят 1 уровень через победу над первым игроком.\n",
    "\n",
    "Таким образом, альтернативная гипотеза будет звучать так: пользователи, которые проходят 1 уровень через реализацию проекта и пользователи, которые проходят 1 уровень через победу над первым игроком, строят в игре разное количество построек.\n",
    "\n",
    "Проводим статистический тест, выбираем в качестве критического уровня статистической значимости отметку в 5%:"
   ]
  },
  {
   "cell_type": "code",
   "execution_count": 55,
   "id": "42bc752e",
   "metadata": {},
   "outputs": [
    {
     "name": "stdout",
     "output_type": "stream",
     "text": [
      "p-значение: 0.0\n",
      "Отвергаем нулевую гипотезу\n"
     ]
    }
   ],
   "source": [
    "alpha = 0.05 \n",
    "\n",
    "results = st.ttest_ind(\n",
    "    buildings_count_pve, \n",
    "    buildings_count_pvp)\n",
    "\n",
    "print('p-значение:', results.pvalue)\n",
    "\n",
    "if results.pvalue < alpha:\n",
    "    print(\"Отвергаем нулевую гипотезу\")\n",
    "else:\n",
    "    print(\"Не получилось отвергнуть нулевую гипотезу\")"
   ]
  },
  {
   "cell_type": "markdown",
   "id": "5df7119a",
   "metadata": {},
   "source": [
    "Мы видим, что p-value стремится к нулю, а это значит, что у нас достаточно оснований, чтобы отвергнуть нулевую гипотезу и принять тот факт, что пользователи, которые проходят 1 уровень через реализацию проекта и пользователи, которые проходят 1 уровень через победу над первым игроком строят в игре разное количество построек. Нам осталось выяснить, кто из них строит больше объектов, а кто — меньше. Выведем на экран средние значения обеих выборок:"
   ]
  },
  {
   "cell_type": "code",
   "execution_count": 56,
   "id": "1cc59754",
   "metadata": {},
   "outputs": [
    {
     "data": {
      "text/plain": [
       "(12.64790996784566, 9.411541381928625)"
      ]
     },
     "execution_count": 56,
     "metadata": {},
     "output_type": "execute_result"
    }
   ],
   "source": [
    "buildings_count_pve.mean(), buildings_count_pvp.mean()"
   ]
  },
  {
   "cell_type": "markdown",
   "id": "f81dd1fa",
   "metadata": {},
   "source": [
    "Получается, пользователи, которые выбрали для прохождения 1 уровня PvE-стратегию, строят в игре бОльшее количество объектов: в среднем, примерно на 3 объекта больше."
   ]
  },
  {
   "cell_type": "markdown",
   "id": "7bedc28e",
   "metadata": {},
   "source": [
    "### Вывод"
   ]
  },
  {
   "cell_type": "markdown",
   "id": "83a017a3",
   "metadata": {},
   "source": [
    "Статистические тесты показали, что выбранная пользователями для прохождения 1 уровня стратегия влияет на их активность в игре: пользователи, которые выбрали для прохождения 1 уровня PvE-стратегию, тратят на прохождение этого уровня больше времени: в среднем, примерно на 2 дня больше (13 против 10.6) и строят в игре бОльшее количество объектов: в среднем, примерно на 3 объекта больше (12.6 против 9.4)."
   ]
  },
  {
   "cell_type": "markdown",
   "id": "e90c0d5e",
   "metadata": {},
   "source": [
    "## Общий вывод"
   ]
  },
  {
   "cell_type": "markdown",
   "id": "c03e547d",
   "metadata": {},
   "source": [
    "В нашем распоряжении были данные по пользователям мобильной игры «Космические братья» и их активности в этом приложении. Отделом маркетинга была поставлена задача проанализировать поведение игроков в зависимости от источника перехода и попытаться выявить более эффективные источники. В нашем случае эффективность рекламных источников определялась не по финансовой составляющей, а именно по поведению (активности) пользователей в приложении, поскольку на данном этапе монетизация игры только планируется, но предполагается, что в приложении будет происходить показ рекламы на экране с выбором типа объекта для постройки. Соответственно, в этой модели монетизации более активные пользователи в перспективе принесут компании больше денег. \n",
    "\n",
    "Предобработка данных показала, что полученные для анализа данные были собраны аккуратно: в них не было обнаружено каких-либо аномалий, практически отсутствовали дубликаты, а выявленные пропуски были связаны с особенностями сбора данных.\n",
    "\n",
    "На этапе исследовательского анализа данных нашей основной задачей стало составление общей картины об активности пользователей в приложении, поиск ответа на вопрос, каков он, среднестатистический пользователь? Было выявлено, что 1 уровень до конца проходят менее половины пользователей: примерно 43 процента. В целом, это хороший показатель вовлеченности новых пользователей для игровой индустрии. При этом в среднем пользователи тратили на прохождение 1 уровня примерно 11 дней. Если раскрывать вопрос скорости прохождения более подробно, то можно сказать, что половина всех пользователей потратила на прохождение 1 уровня от 9 до 14 дней. Кроме того, для прохождения 1 уровня пользователи чаще предпочитали PvP-стратегию (победа над первым игроком): такой выбор сделали практически 68% пользователей.\n",
    "\n",
    "Что касается количества построенных за время прохождения уровня объектов, то в среднем все пользователи приложения строили около 9-10 построек. При этом пользователи, которые прошли 1 уровень до конца, в среднем строили немного больше построек (около 10-11), чем пользователи, которые не завершили прохождение 1 уровня (примерно 8), что вполне логично.\n",
    "\n",
    "Также на этапе исследовательского анализа были проанализированы расходы на рекламную деятельность и подсчитана средняя стоимость привлечения 1 пользователя для каждого канала. Оказалось, что самым выгодным каналом для привлечения новых пользователей был YouTube, а самым невыгодным — Facebook; средняя стоимость привлечения 1 пользователя по этим каналам отличается практически в 2 раза! (0.4 и 0.79)\n",
    "\n",
    "Затем был проведен анализ влияния источника перехода в игру на поведение пользователей, который показал, что в среднем пользователи, привлеченные из YouTube и Instagram, активнее вовлекались в игру и чаще переходили на 2 уровень, чем пользователи из Facebook и Yandex. Также было выявлено, что пользователи, привлеченные из Facebook, заметно чаще других предпочитают PvE-стратегию для прохождения 1 уровня, а пользователи Yandex — PvP-стратегию. Кроме того, на этом этапе исследования мы пришли к выводу, что источник перехода в приложение никак не влияет на скорость прохождения пользователями 1 уровня и количество объектов, которые они строят в игре.\n",
    "\n",
    "В конце исследования были проведены статистические тесты. Они показали, что выбранная пользователями для прохождения 1 уровня стратегия влияет на их активность в игре: пользователи, которые выбрали для прохождения 1 уровня PvE-стратегию, тратят на прохождение этого уровня больше времени: в среднем, примерно на 2 дня больше (13 против 10.6) и строят в игре бОльшее количество объектов: в среднем, примерно на 3 объекта больше (12.6 против 9.4). Но это не означает, что компании стоит резко переключать внимание на те источники, из которых приходят пользователи, предпочитающие PvE-стратегию; ведь на предыдущем этапе исследования было выявлено, что источник перехода в приложение никак не влияет на скорость прохождения пользователями 1 уровня и количество объектов, которые они строят в игре."
   ]
  },
  {
   "cell_type": "markdown",
   "id": "f80f5d5b",
   "metadata": {},
   "source": [
    "### Рекомендации заказчику"
   ]
  },
  {
   "cell_type": "markdown",
   "id": "576e7ff0",
   "metadata": {},
   "source": [
    "Исходя из всех вышеизложенных фактов, были составлены следующие рекомендации заказчику:\n",
    "- обратить внимание на пользователей, привлеченных из YouTube и Instagram. Эти пользователи наиболее активно вовлекались в игру и чаще других переходили на 2 уровень. При этом пользватели YouTube выгодны компании и с финансовой точки зрения: среди всех каналов привлечения пользователей именно YouTube продемонстрировал самую низкую цену привлечения пользователей (0.4). Но привлеченные из Instagram пользователи немного чаще проходили 1 уровень до конца (43.8% против 43.1%)\n",
    "- при внедрении монетизации в приложении учесть тот факт, что пользователи, которые выбрали для прохождения 1 уровня PvE-стратегию, строят в игре бОльшее количество объектов: в среднем, примерно на 3 объекта больше (12.6 против 9.4) при том, что игроки чаще чаще предпочитали PvP-стратегию (победа над первым игроком): такой выбор сделали практически 68% пользователей. Это означает, что необходимо модернизировать предполагаемую на данный момент модель монетизации для увеличения потенциальной прибыли."
   ]
  }
 ],
 "metadata": {
  "kernelspec": {
   "display_name": "Python 3 (ipykernel)",
   "language": "python",
   "name": "python3"
  },
  "language_info": {
   "codemirror_mode": {
    "name": "ipython",
    "version": 3
   },
   "file_extension": ".py",
   "mimetype": "text/x-python",
   "name": "python",
   "nbconvert_exporter": "python",
   "pygments_lexer": "ipython3",
   "version": "3.9.12"
  }
 },
 "nbformat": 4,
 "nbformat_minor": 5
}
