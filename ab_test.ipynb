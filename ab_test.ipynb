{
 "cells": [
  {
   "cell_type": "markdown",
   "id": "fcd33aad",
   "metadata": {},
   "source": [
    "# А/В-тестирование"
   ]
  },
  {
   "cell_type": "markdown",
   "id": "08901b5a",
   "metadata": {},
   "source": [
    "Наша задача — провести оценку результатов А/В-теста. В нашем распоряжении есть датасет с действиями пользователей, техническое задание и несколько вспомогательных датасетов. Необходимо:\n",
    "- оценить корректность проведения теста;\n",
    "- проанализировать результаты теста.\n",
    "\n",
    "**Техническое задание**\n",
    "\n",
    "- название теста: `recommender_system_test`;\n",
    "- группы: А — контрольная, В — новая платежная воронка;\n",
    "- дата запуска: 2020-12-07;\n",
    "- дата остановки набора новых пользователей: 2020-12-21;\n",
    "- дата остановки: 2021-01-04;\n",
    "- аудитория: 15% новых пользователей из региона EU;\n",
    "- назначение теста: тестирование изменений, связанных с внедрением улучшенной рекомендательной системы;\n",
    "- ожидаемое количество участников теста: 6000;\n",
    "- ожидаемый эффект: *за 14 дней с момента регистрации* пользователи покажут улучшение каждой метрики не менее, чем на 10%:\n",
    "1. конверсии в просмотр карточек товаров — событие `product_page`;\n",
    "2. просмотры корзины — `product_cart`;\n",
    "3. покупки — `purchase`."
   ]
  },
  {
   "cell_type": "markdown",
   "id": "d60cfff4",
   "metadata": {},
   "source": [
    "## Изучение данных из файла и предобработка данных"
   ]
  },
  {
   "cell_type": "markdown",
   "id": "9685bbc0",
   "metadata": {},
   "source": [
    "Любое аналитическое исследование начинается с обзора данных. Тем более, что заранее о качестве предоставляемых данных ничего не известно. \n",
    "\n",
    "Начнем нашу работу с импорта ряда библиотек-основных инструментов аналитика."
   ]
  },
  {
   "cell_type": "code",
   "execution_count": 1,
   "id": "abbd71e3",
   "metadata": {},
   "outputs": [],
   "source": [
    "import pandas as pd\n",
    "import numpy as np\n",
    "import math as mth\n",
    "import seaborn as sns\n",
    "import plotly.express as px\n",
    "import datetime as dt\n",
    "import matplotlib.pyplot as plt\n",
    "from plotly import graph_objects as go\n",
    "from scipy import stats as st"
   ]
  },
  {
   "cell_type": "markdown",
   "id": "e3cfbe7f",
   "metadata": {},
   "source": [
    "Читаем предоставленные нам файлы и сохраняем в соответствующие переменные. При загрузке датасетов столбцы с датой имеют тип данных `object`. Переведем столбцы с датами к нужным типам на этапе загрузки датафрейма, указав параметр `parse_dates`:"
   ]
  },
  {
   "cell_type": "code",
   "execution_count": 2,
   "id": "ed7a5717",
   "metadata": {},
   "outputs": [],
   "source": [
    "try:\n",
    "    ab_project_marketing_events = pd.read_csv(\n",
    "        '/datasets/ab_project_marketing_events.csv', parse_dates=['start_dt', 'finish_dt']\n",
    "    )\n",
    "    final_ab_new_users = pd.read_csv(\n",
    "        '/datasets/final_ab_new_users.csv', parse_dates=['first_date']\n",
    "    )\n",
    "    final_ab_events = pd.read_csv(\n",
    "        '/datasets/final_ab_events.csv', parse_dates=['event_dt']\n",
    "    )\n",
    "    final_ab_participants = pd.read_csv('/datasets/final_ab_participants.csv')\n",
    "except:\n",
    "    ab_project_marketing_events = pd.read_csv(\n",
    "        'ab_project_marketing_events.csv', parse_dates=['start_dt', 'finish_dt']\n",
    "    )\n",
    "    final_ab_new_users = pd.read_csv(\n",
    "        'final_ab_new_users.csv', parse_dates=['first_date']\n",
    "    )\n",
    "    final_ab_events = pd.read_csv(\n",
    "        'final_ab_events.csv', parse_dates=['event_dt']\n",
    "    )\n",
    "    final_ab_participants = pd.read_csv('final_ab_participants.csv')"
   ]
  },
  {
   "cell_type": "markdown",
   "id": "4dd03422",
   "metadata": {},
   "source": [
    "### Датасет `ab_project_marketing_events`"
   ]
  },
  {
   "cell_type": "markdown",
   "id": "defe71dc",
   "metadata": {},
   "source": [
    "Этот датасет — это календарь маркетинговых событий на 2020 год. Выведем его полностью на экран:"
   ]
  },
  {
   "cell_type": "code",
   "execution_count": 3,
   "id": "556bd4c0",
   "metadata": {},
   "outputs": [
    {
     "data": {
      "text/html": [
       "<div>\n",
       "<style scoped>\n",
       "    .dataframe tbody tr th:only-of-type {\n",
       "        vertical-align: middle;\n",
       "    }\n",
       "\n",
       "    .dataframe tbody tr th {\n",
       "        vertical-align: top;\n",
       "    }\n",
       "\n",
       "    .dataframe thead th {\n",
       "        text-align: right;\n",
       "    }\n",
       "</style>\n",
       "<table border=\"1\" class=\"dataframe\">\n",
       "  <thead>\n",
       "    <tr style=\"text-align: right;\">\n",
       "      <th></th>\n",
       "      <th>name</th>\n",
       "      <th>regions</th>\n",
       "      <th>start_dt</th>\n",
       "      <th>finish_dt</th>\n",
       "    </tr>\n",
       "  </thead>\n",
       "  <tbody>\n",
       "    <tr>\n",
       "      <th>0</th>\n",
       "      <td>Christmas&amp;New Year Promo</td>\n",
       "      <td>EU, N.America</td>\n",
       "      <td>2020-12-25</td>\n",
       "      <td>2021-01-03</td>\n",
       "    </tr>\n",
       "    <tr>\n",
       "      <th>1</th>\n",
       "      <td>St. Valentine's Day Giveaway</td>\n",
       "      <td>EU, CIS, APAC, N.America</td>\n",
       "      <td>2020-02-14</td>\n",
       "      <td>2020-02-16</td>\n",
       "    </tr>\n",
       "    <tr>\n",
       "      <th>2</th>\n",
       "      <td>St. Patric's Day Promo</td>\n",
       "      <td>EU, N.America</td>\n",
       "      <td>2020-03-17</td>\n",
       "      <td>2020-03-19</td>\n",
       "    </tr>\n",
       "    <tr>\n",
       "      <th>3</th>\n",
       "      <td>Easter Promo</td>\n",
       "      <td>EU, CIS, APAC, N.America</td>\n",
       "      <td>2020-04-12</td>\n",
       "      <td>2020-04-19</td>\n",
       "    </tr>\n",
       "    <tr>\n",
       "      <th>4</th>\n",
       "      <td>4th of July Promo</td>\n",
       "      <td>N.America</td>\n",
       "      <td>2020-07-04</td>\n",
       "      <td>2020-07-11</td>\n",
       "    </tr>\n",
       "    <tr>\n",
       "      <th>5</th>\n",
       "      <td>Black Friday Ads Campaign</td>\n",
       "      <td>EU, CIS, APAC, N.America</td>\n",
       "      <td>2020-11-26</td>\n",
       "      <td>2020-12-01</td>\n",
       "    </tr>\n",
       "    <tr>\n",
       "      <th>6</th>\n",
       "      <td>Chinese New Year Promo</td>\n",
       "      <td>APAC</td>\n",
       "      <td>2020-01-25</td>\n",
       "      <td>2020-02-07</td>\n",
       "    </tr>\n",
       "    <tr>\n",
       "      <th>7</th>\n",
       "      <td>Labor day (May 1st) Ads Campaign</td>\n",
       "      <td>EU, CIS, APAC</td>\n",
       "      <td>2020-05-01</td>\n",
       "      <td>2020-05-03</td>\n",
       "    </tr>\n",
       "    <tr>\n",
       "      <th>8</th>\n",
       "      <td>International Women's Day Promo</td>\n",
       "      <td>EU, CIS, APAC</td>\n",
       "      <td>2020-03-08</td>\n",
       "      <td>2020-03-10</td>\n",
       "    </tr>\n",
       "    <tr>\n",
       "      <th>9</th>\n",
       "      <td>Victory Day CIS (May 9th) Event</td>\n",
       "      <td>CIS</td>\n",
       "      <td>2020-05-09</td>\n",
       "      <td>2020-05-11</td>\n",
       "    </tr>\n",
       "    <tr>\n",
       "      <th>10</th>\n",
       "      <td>CIS New Year Gift Lottery</td>\n",
       "      <td>CIS</td>\n",
       "      <td>2020-12-30</td>\n",
       "      <td>2021-01-07</td>\n",
       "    </tr>\n",
       "    <tr>\n",
       "      <th>11</th>\n",
       "      <td>Dragon Boat Festival Giveaway</td>\n",
       "      <td>APAC</td>\n",
       "      <td>2020-06-25</td>\n",
       "      <td>2020-07-01</td>\n",
       "    </tr>\n",
       "    <tr>\n",
       "      <th>12</th>\n",
       "      <td>Single's Day Gift Promo</td>\n",
       "      <td>APAC</td>\n",
       "      <td>2020-11-11</td>\n",
       "      <td>2020-11-12</td>\n",
       "    </tr>\n",
       "    <tr>\n",
       "      <th>13</th>\n",
       "      <td>Chinese Moon Festival</td>\n",
       "      <td>APAC</td>\n",
       "      <td>2020-10-01</td>\n",
       "      <td>2020-10-07</td>\n",
       "    </tr>\n",
       "  </tbody>\n",
       "</table>\n",
       "</div>"
      ],
      "text/plain": [
       "                                name                   regions   start_dt  \\\n",
       "0           Christmas&New Year Promo             EU, N.America 2020-12-25   \n",
       "1       St. Valentine's Day Giveaway  EU, CIS, APAC, N.America 2020-02-14   \n",
       "2             St. Patric's Day Promo             EU, N.America 2020-03-17   \n",
       "3                       Easter Promo  EU, CIS, APAC, N.America 2020-04-12   \n",
       "4                  4th of July Promo                 N.America 2020-07-04   \n",
       "5          Black Friday Ads Campaign  EU, CIS, APAC, N.America 2020-11-26   \n",
       "6             Chinese New Year Promo                      APAC 2020-01-25   \n",
       "7   Labor day (May 1st) Ads Campaign             EU, CIS, APAC 2020-05-01   \n",
       "8    International Women's Day Promo             EU, CIS, APAC 2020-03-08   \n",
       "9    Victory Day CIS (May 9th) Event                       CIS 2020-05-09   \n",
       "10         CIS New Year Gift Lottery                       CIS 2020-12-30   \n",
       "11     Dragon Boat Festival Giveaway                      APAC 2020-06-25   \n",
       "12           Single's Day Gift Promo                      APAC 2020-11-11   \n",
       "13             Chinese Moon Festival                      APAC 2020-10-01   \n",
       "\n",
       "    finish_dt  \n",
       "0  2021-01-03  \n",
       "1  2020-02-16  \n",
       "2  2020-03-19  \n",
       "3  2020-04-19  \n",
       "4  2020-07-11  \n",
       "5  2020-12-01  \n",
       "6  2020-02-07  \n",
       "7  2020-05-03  \n",
       "8  2020-03-10  \n",
       "9  2020-05-11  \n",
       "10 2021-01-07  \n",
       "11 2020-07-01  \n",
       "12 2020-11-12  \n",
       "13 2020-10-07  "
      ]
     },
     "execution_count": 3,
     "metadata": {},
     "output_type": "execute_result"
    }
   ],
   "source": [
    "ab_project_marketing_events"
   ]
  },
  {
   "cell_type": "markdown",
   "id": "3132d9b3",
   "metadata": {},
   "source": [
    "Обратимся к документации к данным:\n",
    "\n",
    "* `name` —  название маркетингового события;\n",
    "* `regions` — регионы, в которых будет проводиться рекламная кампания;\n",
    "* `start_dt` —  дата начала кампании;\n",
    "* `finish_dt` — дата завершения кампании."
   ]
  },
  {
   "cell_type": "markdown",
   "id": "34794d34",
   "metadata": {},
   "source": [
    "Получим общую информацию о таблице:"
   ]
  },
  {
   "cell_type": "code",
   "execution_count": 4,
   "id": "5feaf4bd",
   "metadata": {},
   "outputs": [
    {
     "name": "stdout",
     "output_type": "stream",
     "text": [
      "<class 'pandas.core.frame.DataFrame'>\n",
      "RangeIndex: 14 entries, 0 to 13\n",
      "Data columns (total 4 columns):\n",
      " #   Column     Non-Null Count  Dtype         \n",
      "---  ------     --------------  -----         \n",
      " 0   name       14 non-null     object        \n",
      " 1   regions    14 non-null     object        \n",
      " 2   start_dt   14 non-null     datetime64[ns]\n",
      " 3   finish_dt  14 non-null     datetime64[ns]\n",
      "dtypes: datetime64[ns](2), object(2)\n",
      "memory usage: 576.0+ bytes\n"
     ]
    }
   ],
   "source": [
    "ab_project_marketing_events.info()"
   ]
  },
  {
   "cell_type": "markdown",
   "id": "09ffa6f5",
   "metadata": {},
   "source": [
    "Поскольку таблица небольшого размера, то в данном случае легко самостоятельно заметить, что в ней отсутствуют пропуски и дубликаты. Также стоит отметить, что все типы данных в столбцах соответствуют хранящимся в них значениям и не нуждаются в корректировке."
   ]
  },
  {
   "cell_type": "markdown",
   "id": "36ccac31",
   "metadata": {},
   "source": [
    "### Датасет `final_ab_new_users`"
   ]
  },
  {
   "cell_type": "markdown",
   "id": "d24ea7b0",
   "metadata": {},
   "source": [
    "Этот датасет содержит информацию о всех пользователях, которые зарегистрировались в интернет-магазине в период с 7 по 21 декабря 2020 года. Выведем первые 5 строк на экран:"
   ]
  },
  {
   "cell_type": "code",
   "execution_count": 5,
   "id": "26773bb2",
   "metadata": {
    "scrolled": true
   },
   "outputs": [
    {
     "data": {
      "text/html": [
       "<div>\n",
       "<style scoped>\n",
       "    .dataframe tbody tr th:only-of-type {\n",
       "        vertical-align: middle;\n",
       "    }\n",
       "\n",
       "    .dataframe tbody tr th {\n",
       "        vertical-align: top;\n",
       "    }\n",
       "\n",
       "    .dataframe thead th {\n",
       "        text-align: right;\n",
       "    }\n",
       "</style>\n",
       "<table border=\"1\" class=\"dataframe\">\n",
       "  <thead>\n",
       "    <tr style=\"text-align: right;\">\n",
       "      <th></th>\n",
       "      <th>user_id</th>\n",
       "      <th>first_date</th>\n",
       "      <th>region</th>\n",
       "      <th>device</th>\n",
       "    </tr>\n",
       "  </thead>\n",
       "  <tbody>\n",
       "    <tr>\n",
       "      <th>0</th>\n",
       "      <td>D72A72121175D8BE</td>\n",
       "      <td>2020-12-07</td>\n",
       "      <td>EU</td>\n",
       "      <td>PC</td>\n",
       "    </tr>\n",
       "    <tr>\n",
       "      <th>1</th>\n",
       "      <td>F1C668619DFE6E65</td>\n",
       "      <td>2020-12-07</td>\n",
       "      <td>N.America</td>\n",
       "      <td>Android</td>\n",
       "    </tr>\n",
       "    <tr>\n",
       "      <th>2</th>\n",
       "      <td>2E1BF1D4C37EA01F</td>\n",
       "      <td>2020-12-07</td>\n",
       "      <td>EU</td>\n",
       "      <td>PC</td>\n",
       "    </tr>\n",
       "    <tr>\n",
       "      <th>3</th>\n",
       "      <td>50734A22C0C63768</td>\n",
       "      <td>2020-12-07</td>\n",
       "      <td>EU</td>\n",
       "      <td>iPhone</td>\n",
       "    </tr>\n",
       "    <tr>\n",
       "      <th>4</th>\n",
       "      <td>E1BDDCE0DAFA2679</td>\n",
       "      <td>2020-12-07</td>\n",
       "      <td>N.America</td>\n",
       "      <td>iPhone</td>\n",
       "    </tr>\n",
       "  </tbody>\n",
       "</table>\n",
       "</div>"
      ],
      "text/plain": [
       "            user_id first_date     region   device\n",
       "0  D72A72121175D8BE 2020-12-07         EU       PC\n",
       "1  F1C668619DFE6E65 2020-12-07  N.America  Android\n",
       "2  2E1BF1D4C37EA01F 2020-12-07         EU       PC\n",
       "3  50734A22C0C63768 2020-12-07         EU   iPhone\n",
       "4  E1BDDCE0DAFA2679 2020-12-07  N.America   iPhone"
      ]
     },
     "execution_count": 5,
     "metadata": {},
     "output_type": "execute_result"
    }
   ],
   "source": [
    "final_ab_new_users.head()"
   ]
  },
  {
   "cell_type": "markdown",
   "id": "46dda2d9",
   "metadata": {},
   "source": [
    "Обратимся к документации к данным:\n",
    "\n",
    "* `user_id` — идентификатор пользователя;\n",
    "* `first_date` — дата регистрации;\n",
    "* `region` — регион пользователя;\n",
    "* `device` — устройство, с которого происходила регистрация.\n",
    "\n",
    "\n",
    "Получим общую информацию о таблице:"
   ]
  },
  {
   "cell_type": "code",
   "execution_count": 6,
   "id": "3e633755",
   "metadata": {},
   "outputs": [
    {
     "name": "stdout",
     "output_type": "stream",
     "text": [
      "<class 'pandas.core.frame.DataFrame'>\n",
      "RangeIndex: 61733 entries, 0 to 61732\n",
      "Data columns (total 4 columns):\n",
      " #   Column      Non-Null Count  Dtype         \n",
      "---  ------      --------------  -----         \n",
      " 0   user_id     61733 non-null  object        \n",
      " 1   first_date  61733 non-null  datetime64[ns]\n",
      " 2   region      61733 non-null  object        \n",
      " 3   device      61733 non-null  object        \n",
      "dtypes: datetime64[ns](1), object(3)\n",
      "memory usage: 1.9+ MB\n"
     ]
    }
   ],
   "source": [
    "final_ab_new_users.info()"
   ]
  },
  {
   "cell_type": "markdown",
   "id": "edf69ca7",
   "metadata": {},
   "source": [
    "Мы видим, что в таблице отсутствуют пропуски, а все типы данных в столбцах соответствуют хранящимся в них значениям и не нуждаются в корректировке.\n",
    "\n",
    "Проведем проверку на наличие скрытых дубликатов; выведем на экран уникальные значения из столбцов `region` и `device`:"
   ]
  },
  {
   "cell_type": "code",
   "execution_count": 7,
   "id": "ff6c9660",
   "metadata": {},
   "outputs": [
    {
     "name": "stdout",
     "output_type": "stream",
     "text": [
      "['EU' 'N.America' 'APAC' 'CIS']\n",
      "['PC' 'Android' 'iPhone' 'Mac']\n"
     ]
    }
   ],
   "source": [
    "print(final_ab_new_users['region'].unique())\n",
    "print(final_ab_new_users['device'].unique())"
   ]
  },
  {
   "cell_type": "markdown",
   "id": "e2ab1932",
   "metadata": {},
   "source": [
    "Все корректно. Проведем проверку на наличие полных дубликатов:"
   ]
  },
  {
   "cell_type": "code",
   "execution_count": 8,
   "id": "dc4e7ff2",
   "metadata": {},
   "outputs": [
    {
     "data": {
      "text/plain": [
       "0"
      ]
     },
     "execution_count": 8,
     "metadata": {},
     "output_type": "execute_result"
    }
   ],
   "source": [
    "final_ab_new_users.duplicated().sum()"
   ]
  },
  {
   "cell_type": "markdown",
   "id": "82200dac",
   "metadata": {},
   "source": [
    "В этом датасете отсутствуют дубликаты."
   ]
  },
  {
   "cell_type": "markdown",
   "id": "a71e3f11",
   "metadata": {},
   "source": [
    "### Датасет `final_ab_events`"
   ]
  },
  {
   "cell_type": "markdown",
   "id": "0d2ce1d6",
   "metadata": {},
   "source": [
    "Этот датасет содержит информацию о всех событиях новых пользователей в период с 7 декабря 2020 по 4 января 2021 года. Выведем первые 5 строк на экран:"
   ]
  },
  {
   "cell_type": "code",
   "execution_count": 9,
   "id": "f4c55ba1",
   "metadata": {},
   "outputs": [
    {
     "data": {
      "text/html": [
       "<div>\n",
       "<style scoped>\n",
       "    .dataframe tbody tr th:only-of-type {\n",
       "        vertical-align: middle;\n",
       "    }\n",
       "\n",
       "    .dataframe tbody tr th {\n",
       "        vertical-align: top;\n",
       "    }\n",
       "\n",
       "    .dataframe thead th {\n",
       "        text-align: right;\n",
       "    }\n",
       "</style>\n",
       "<table border=\"1\" class=\"dataframe\">\n",
       "  <thead>\n",
       "    <tr style=\"text-align: right;\">\n",
       "      <th></th>\n",
       "      <th>user_id</th>\n",
       "      <th>event_dt</th>\n",
       "      <th>event_name</th>\n",
       "      <th>details</th>\n",
       "    </tr>\n",
       "  </thead>\n",
       "  <tbody>\n",
       "    <tr>\n",
       "      <th>0</th>\n",
       "      <td>E1BDDCE0DAFA2679</td>\n",
       "      <td>2020-12-07 20:22:03</td>\n",
       "      <td>purchase</td>\n",
       "      <td>99.99</td>\n",
       "    </tr>\n",
       "    <tr>\n",
       "      <th>1</th>\n",
       "      <td>7B6452F081F49504</td>\n",
       "      <td>2020-12-07 09:22:53</td>\n",
       "      <td>purchase</td>\n",
       "      <td>9.99</td>\n",
       "    </tr>\n",
       "    <tr>\n",
       "      <th>2</th>\n",
       "      <td>9CD9F34546DF254C</td>\n",
       "      <td>2020-12-07 12:59:29</td>\n",
       "      <td>purchase</td>\n",
       "      <td>4.99</td>\n",
       "    </tr>\n",
       "    <tr>\n",
       "      <th>3</th>\n",
       "      <td>96F27A054B191457</td>\n",
       "      <td>2020-12-07 04:02:40</td>\n",
       "      <td>purchase</td>\n",
       "      <td>4.99</td>\n",
       "    </tr>\n",
       "    <tr>\n",
       "      <th>4</th>\n",
       "      <td>1FD7660FDF94CA1F</td>\n",
       "      <td>2020-12-07 10:15:09</td>\n",
       "      <td>purchase</td>\n",
       "      <td>4.99</td>\n",
       "    </tr>\n",
       "  </tbody>\n",
       "</table>\n",
       "</div>"
      ],
      "text/plain": [
       "            user_id            event_dt event_name  details\n",
       "0  E1BDDCE0DAFA2679 2020-12-07 20:22:03   purchase    99.99\n",
       "1  7B6452F081F49504 2020-12-07 09:22:53   purchase     9.99\n",
       "2  9CD9F34546DF254C 2020-12-07 12:59:29   purchase     4.99\n",
       "3  96F27A054B191457 2020-12-07 04:02:40   purchase     4.99\n",
       "4  1FD7660FDF94CA1F 2020-12-07 10:15:09   purchase     4.99"
      ]
     },
     "execution_count": 9,
     "metadata": {},
     "output_type": "execute_result"
    }
   ],
   "source": [
    "final_ab_events.head()"
   ]
  },
  {
   "cell_type": "markdown",
   "id": "cbbec0eb",
   "metadata": {},
   "source": [
    "Обратимся к документации к данным:\n",
    "\n",
    "* `user_id` — идентификатор пользователя;\n",
    "* `event_dt` — дата и время события;\n",
    "* `event_name` — тип события;\n",
    "* `details` —  дополнительные данные о событии. Например, для покупок, `purchase`, в этом поле хранится стоимость покупки в долларах.\n",
    "\n",
    "\n",
    "Получим общую информацию о таблице:"
   ]
  },
  {
   "cell_type": "code",
   "execution_count": 10,
   "id": "54acc5c7",
   "metadata": {},
   "outputs": [
    {
     "name": "stdout",
     "output_type": "stream",
     "text": [
      "<class 'pandas.core.frame.DataFrame'>\n",
      "RangeIndex: 440317 entries, 0 to 440316\n",
      "Data columns (total 4 columns):\n",
      " #   Column      Non-Null Count   Dtype         \n",
      "---  ------      --------------   -----         \n",
      " 0   user_id     440317 non-null  object        \n",
      " 1   event_dt    440317 non-null  datetime64[ns]\n",
      " 2   event_name  440317 non-null  object        \n",
      " 3   details     62740 non-null   float64       \n",
      "dtypes: datetime64[ns](1), float64(1), object(2)\n",
      "memory usage: 13.4+ MB\n"
     ]
    }
   ],
   "source": [
    "final_ab_events.info()"
   ]
  },
  {
   "cell_type": "markdown",
   "id": "7828c606",
   "metadata": {},
   "source": [
    "Мы видим, что в этом датасете в столбце `details` присутствуют пропуски:"
   ]
  },
  {
   "cell_type": "code",
   "execution_count": 11,
   "id": "9794b5fe",
   "metadata": {},
   "outputs": [
    {
     "data": {
      "text/plain": [
       "user_id            0\n",
       "event_dt           0\n",
       "event_name         0\n",
       "details       377577\n",
       "dtype: int64"
      ]
     },
     "execution_count": 11,
     "metadata": {},
     "output_type": "execute_result"
    }
   ],
   "source": [
    "final_ab_events.isna().sum()"
   ]
  },
  {
   "cell_type": "markdown",
   "id": "b8330973",
   "metadata": {},
   "source": [
    "Если исходить из документации к данным, то мы можем предположить, что пропуски в этом столбце связаны с особенностями сбора данных: не все события располагают какими-либо дополнительными данными. Мы с точностью можем быть уверены только в том, что дополнительные данные указываются в случае покупки. Изучим этот вопрос подробнее. Для начала выведем на экран все возможные варианты событий:"
   ]
  },
  {
   "cell_type": "code",
   "execution_count": 12,
   "id": "b1d723f0",
   "metadata": {},
   "outputs": [
    {
     "data": {
      "text/plain": [
       "array(['purchase', 'product_cart', 'product_page', 'login'], dtype=object)"
      ]
     },
     "execution_count": 12,
     "metadata": {},
     "output_type": "execute_result"
    }
   ],
   "source": [
    "final_ab_events['event_name'].unique()"
   ]
  },
  {
   "cell_type": "markdown",
   "id": "dba4e261",
   "metadata": {},
   "source": [
    "Затем сделаем 4 среза данных, в каждом из которых будут содержаться данные только об одном из событий и проверим в каждом из них количество пропусков:"
   ]
  },
  {
   "cell_type": "code",
   "execution_count": 13,
   "id": "4fa6fee2",
   "metadata": {},
   "outputs": [
    {
     "name": "stdout",
     "output_type": "stream",
     "text": [
      "0\n",
      "62462\n",
      "125563\n",
      "189552\n"
     ]
    }
   ],
   "source": [
    "print(final_ab_events.query('event_name == \"purchase\"')['details'].isna().sum())\n",
    "print(final_ab_events.query('event_name == \"product_cart\"')['details'].isna().sum())\n",
    "print(final_ab_events.query('event_name == \"product_page\"')['details'].isna().sum())\n",
    "print(final_ab_events.query('event_name == \"login\"')['details'].isna().sum())"
   ]
  },
  {
   "cell_type": "markdown",
   "id": "8e9774ea",
   "metadata": {},
   "source": [
    "Сравним количество пропусков в этих срезах с их полным размером:"
   ]
  },
  {
   "cell_type": "code",
   "execution_count": 14,
   "id": "9cb74226",
   "metadata": {},
   "outputs": [
    {
     "name": "stdout",
     "output_type": "stream",
     "text": [
      "62462\n",
      "125563\n",
      "189552\n"
     ]
    }
   ],
   "source": [
    "print(len(final_ab_events.query('event_name == \"product_cart\"')))\n",
    "print(len(final_ab_events.query('event_name == \"product_page\"')))\n",
    "print(len(final_ab_events.query('event_name == \"login\"')))"
   ]
  },
  {
   "cell_type": "markdown",
   "id": "a92a2884",
   "metadata": {},
   "source": [
    "Получается, в столбце `details` содержится информация лишь в случае покупок, `purchase`. Если строка хранит информацию о другом событии, то в этом столбце будет пропуск. У нас нет необходимости как-то заменять их, поскольку в данном случае это просто особенность сбора данных.\n",
    "\n",
    "Проведем проверку на наличие полных дубликатов:"
   ]
  },
  {
   "cell_type": "code",
   "execution_count": 15,
   "id": "61442f56",
   "metadata": {},
   "outputs": [
    {
     "data": {
      "text/plain": [
       "0"
      ]
     },
     "execution_count": 15,
     "metadata": {},
     "output_type": "execute_result"
    }
   ],
   "source": [
    "final_ab_events.duplicated().sum()"
   ]
  },
  {
   "cell_type": "markdown",
   "id": "a726b8d8",
   "metadata": {},
   "source": [
    "В этом датасете отсутствуют дубликаты."
   ]
  },
  {
   "cell_type": "markdown",
   "id": "e2df53bb",
   "metadata": {},
   "source": [
    "### Датасет `final_ab_participants`"
   ]
  },
  {
   "cell_type": "markdown",
   "id": "b2560281",
   "metadata": {},
   "source": [
    "Этот датасет содержит информацию об участниках проводимых тестов. Выведем первые 5 строк на экран:"
   ]
  },
  {
   "cell_type": "code",
   "execution_count": 16,
   "id": "f0662c63",
   "metadata": {},
   "outputs": [
    {
     "data": {
      "text/html": [
       "<div>\n",
       "<style scoped>\n",
       "    .dataframe tbody tr th:only-of-type {\n",
       "        vertical-align: middle;\n",
       "    }\n",
       "\n",
       "    .dataframe tbody tr th {\n",
       "        vertical-align: top;\n",
       "    }\n",
       "\n",
       "    .dataframe thead th {\n",
       "        text-align: right;\n",
       "    }\n",
       "</style>\n",
       "<table border=\"1\" class=\"dataframe\">\n",
       "  <thead>\n",
       "    <tr style=\"text-align: right;\">\n",
       "      <th></th>\n",
       "      <th>user_id</th>\n",
       "      <th>group</th>\n",
       "      <th>ab_test</th>\n",
       "    </tr>\n",
       "  </thead>\n",
       "  <tbody>\n",
       "    <tr>\n",
       "      <th>0</th>\n",
       "      <td>D1ABA3E2887B6A73</td>\n",
       "      <td>A</td>\n",
       "      <td>recommender_system_test</td>\n",
       "    </tr>\n",
       "    <tr>\n",
       "      <th>1</th>\n",
       "      <td>A7A3664BD6242119</td>\n",
       "      <td>A</td>\n",
       "      <td>recommender_system_test</td>\n",
       "    </tr>\n",
       "    <tr>\n",
       "      <th>2</th>\n",
       "      <td>DABC14FDDFADD29E</td>\n",
       "      <td>A</td>\n",
       "      <td>recommender_system_test</td>\n",
       "    </tr>\n",
       "    <tr>\n",
       "      <th>3</th>\n",
       "      <td>04988C5DF189632E</td>\n",
       "      <td>A</td>\n",
       "      <td>recommender_system_test</td>\n",
       "    </tr>\n",
       "    <tr>\n",
       "      <th>4</th>\n",
       "      <td>482F14783456D21B</td>\n",
       "      <td>B</td>\n",
       "      <td>recommender_system_test</td>\n",
       "    </tr>\n",
       "  </tbody>\n",
       "</table>\n",
       "</div>"
      ],
      "text/plain": [
       "            user_id group                  ab_test\n",
       "0  D1ABA3E2887B6A73     A  recommender_system_test\n",
       "1  A7A3664BD6242119     A  recommender_system_test\n",
       "2  DABC14FDDFADD29E     A  recommender_system_test\n",
       "3  04988C5DF189632E     A  recommender_system_test\n",
       "4  482F14783456D21B     B  recommender_system_test"
      ]
     },
     "execution_count": 16,
     "metadata": {},
     "output_type": "execute_result"
    }
   ],
   "source": [
    "final_ab_participants.head()"
   ]
  },
  {
   "cell_type": "markdown",
   "id": "60014b42",
   "metadata": {},
   "source": [
    "Обратимся к документации к данным:\n",
    "\n",
    "* `user_id` — идентификатор пользователя;\n",
    "* `group` — группа пользователя;\n",
    "* `ab_test` — название теста.\n",
    "\n",
    "\n",
    "Получим общую информацию о таблице:"
   ]
  },
  {
   "cell_type": "code",
   "execution_count": 17,
   "id": "d232942e",
   "metadata": {},
   "outputs": [
    {
     "name": "stdout",
     "output_type": "stream",
     "text": [
      "<class 'pandas.core.frame.DataFrame'>\n",
      "RangeIndex: 18268 entries, 0 to 18267\n",
      "Data columns (total 3 columns):\n",
      " #   Column   Non-Null Count  Dtype \n",
      "---  ------   --------------  ----- \n",
      " 0   user_id  18268 non-null  object\n",
      " 1   group    18268 non-null  object\n",
      " 2   ab_test  18268 non-null  object\n",
      "dtypes: object(3)\n",
      "memory usage: 428.3+ KB\n"
     ]
    }
   ],
   "source": [
    "final_ab_participants.info()"
   ]
  },
  {
   "cell_type": "markdown",
   "id": "db7e86f0",
   "metadata": {},
   "source": [
    "Мы видим, что в таблице отсутствуют пропуски, а все типы данных в столбцах соответствуют хранящимся в них значениям и не нуждаются в корректировке.\n",
    "\n",
    "Проведем проверку на наличие скрытых дубликатов; выведем на экран уникальные значения из столбцов `group` и `ab_test`:"
   ]
  },
  {
   "cell_type": "code",
   "execution_count": 18,
   "id": "26f51cea",
   "metadata": {},
   "outputs": [
    {
     "name": "stdout",
     "output_type": "stream",
     "text": [
      "['A' 'B']\n",
      "['recommender_system_test' 'interface_eu_test']\n"
     ]
    }
   ],
   "source": [
    "print(final_ab_participants['group'].unique())\n",
    "print(final_ab_participants['ab_test'].unique())"
   ]
  },
  {
   "cell_type": "markdown",
   "id": "29bf4f7d",
   "metadata": {},
   "source": [
    "Все корректно. Проведем проверку на наличие полных дубликатов:"
   ]
  },
  {
   "cell_type": "code",
   "execution_count": 19,
   "id": "0050a333",
   "metadata": {},
   "outputs": [
    {
     "data": {
      "text/plain": [
       "0"
      ]
     },
     "execution_count": 19,
     "metadata": {},
     "output_type": "execute_result"
    }
   ],
   "source": [
    "final_ab_participants.duplicated().sum()"
   ]
  },
  {
   "cell_type": "markdown",
   "id": "ed1f48ca",
   "metadata": {},
   "source": [
    "В этом датасете отсутствуют дубликаты."
   ]
  },
  {
   "cell_type": "markdown",
   "id": "292aa0f5",
   "metadata": {},
   "source": [
    "### Вывод"
   ]
  },
  {
   "cell_type": "markdown",
   "id": "42f92c41",
   "metadata": {},
   "source": [
    "Полученные для анализа данные были собраны аккуратно: в них не были обнаружены какие-либо аномалии, отсутствуют дубликаты, а обнаруженные пропуски связаны с особенностями сбора данных."
   ]
  },
  {
   "cell_type": "markdown",
   "id": "364dde03",
   "metadata": {},
   "source": [
    "## Оценка корректности проведения теста"
   ]
  },
  {
   "cell_type": "markdown",
   "id": "05f4bd28",
   "metadata": {},
   "source": [
    "Начнем нашу оценку со времени проведения теста. Изучив календарь маркетинговых событий и в целом воспользовавшись бытовой логикой, мы понимаем, что время проведения анализируемого нами A/B-теста (7 декабря — 4 января) совпадает с:\n",
    "- праздничным периодом Рождества и Нового года в европейском регионе;\n",
    "- проводимыми в честь этих праздников маркетинговых акций.\n",
    "\n",
    "Безусловно это не могло не повлиять на поведение клиентов. В первую очередь, праздники и маркетинговые акции обычно становятся причинами всплесков потребительской активности. Это означает, что гипотеза, подтвержденная в этот период, когда покупательская активность сильно меняется, может показать абсолютно другие результаты, например, весной, когда покупательское поведение будет другое. С другой стороны, факт пересечения проведения А/B-теста с праздниками и маркетинговыми акциями можно проигнорировать, аргументировав это тем, что этот фактор одновременно влиял на обе группы участников теста, поэтому мы все-таки можем продолжить начатый анализ, но будем постоянно держать в голове факт пересечения.\n",
    "\n",
    "Теперь проведем проверку полученных данных на соответствие ТЗ. Для начала выведем на экран количество участников теста `recommender_system_test` из датасета `final_ab_participants`:"
   ]
  },
  {
   "cell_type": "code",
   "execution_count": 20,
   "id": "1151615e",
   "metadata": {},
   "outputs": [
    {
     "data": {
      "text/plain": [
       "6701"
      ]
     },
     "execution_count": 20,
     "metadata": {},
     "output_type": "execute_result"
    }
   ],
   "source": [
    "len(final_ab_participants.query('ab_test == \"recommender_system_test\"'))"
   ]
  },
  {
   "cell_type": "markdown",
   "id": "c47bfc2a",
   "metadata": {},
   "source": [
    "Примерно совпадает с заявленным в ТЗ числу в 6000 участников."
   ]
  },
  {
   "cell_type": "markdown",
   "id": "28affae2",
   "metadata": {},
   "source": [
    "В ТЗ сказано, что дата запуска теста: 2020-12-07, а дата остановки набора новых пользователей: 2020-12-21. Изучим хронологические рамки датасета `final_ab_new_users`; выведем на экран минимальную и максимальную дату из этого датафрейма:"
   ]
  },
  {
   "cell_type": "code",
   "execution_count": 21,
   "id": "9f768963",
   "metadata": {},
   "outputs": [
    {
     "data": {
      "text/plain": [
       "(Timestamp('2020-12-07 00:00:00'), Timestamp('2020-12-23 00:00:00'))"
      ]
     },
     "execution_count": 21,
     "metadata": {},
     "output_type": "execute_result"
    }
   ],
   "source": [
    "final_ab_new_users.first_date.min(), final_ab_new_users.first_date.max()"
   ]
  },
  {
   "cell_type": "markdown",
   "id": "cfdd575c",
   "metadata": {},
   "source": [
    "В нашем распоряжении информация о новых пользователях интернет-магазина с 7 по 23 декабря. Получается, имеющиеся у нас данные по новым пользователям соответствуют ТЗ, более того, у нас даже есть лишняя информация о новых пользователях 22 и 23 декабря. Необходимо это учесть при будущем анализе и сделать срез данных в соответствии с ТЗ.\n",
    "\n",
    "По ТЗ дата остановки теста: 2021-01-04. Соответственно, в нашем распоряжении должны быть данные об активности пользователей интернет-магазина по крайней мере включительно по этот день. Изучим хронологические рамки датасета `final_ab_events`; выведем на экран минимальную и максимальную дату из этого датафрейма:"
   ]
  },
  {
   "cell_type": "code",
   "execution_count": 22,
   "id": "927209d2",
   "metadata": {},
   "outputs": [
    {
     "data": {
      "text/plain": [
       "(Timestamp('2020-12-07 00:00:33'), Timestamp('2020-12-30 23:36:33'))"
      ]
     },
     "execution_count": 22,
     "metadata": {},
     "output_type": "execute_result"
    }
   ],
   "source": [
    "final_ab_events.event_dt.min(), final_ab_events.event_dt.max()"
   ]
  },
  {
   "cell_type": "markdown",
   "id": "d077faf9",
   "metadata": {},
   "source": [
    "Здесь мы наблюдаем несоответствие ТЗ: в нашем распоряжении данные об активности пользователей лишь с 7 по 30 декабря включительно. Поскольку при анализе А/В-теста нас интересует активность пользователей в первые 14 дней после регистрации, то нам необходимо будет при последующем анализе учитывать только тех пользователей интернет-магазина, которые зарегистрировались в период между 7 и 16 декабря.\n",
    "\n",
    "По ТЗ участниками проведенного теста должны были стать 15% новых пользователей из региона EU. Проверим эту информацию: разделим количество участников теста `recommender_system_test` на размер среза (срез по установленным в ТЗ дате и региону) датасета `final_ab_new_users`:"
   ]
  },
  {
   "cell_type": "code",
   "execution_count": 23,
   "id": "b02b2e72",
   "metadata": {},
   "outputs": [
    {
     "data": {
      "text/plain": [
       "0.15826641473783656"
      ]
     },
     "execution_count": 23,
     "metadata": {},
     "output_type": "execute_result"
    }
   ],
   "source": [
    "len(final_ab_participants.query('ab_test == \"recommender_system_test\"')) / len(\n",
    "    final_ab_new_users.query('first_date < \"2020-12-22\" and region == \"EU\"')\n",
    "   )"
   ]
  },
  {
   "cell_type": "markdown",
   "id": "e2c689c6",
   "metadata": {},
   "source": [
    "Полученная пропорция примерно совпадает с заявленной в ТЗ. "
   ]
  },
  {
   "cell_type": "markdown",
   "id": "e62d04b1",
   "metadata": {},
   "source": [
    "Теперь более подробно проанализируем аудиторию теста: удостоверимся, что нет пересечений с конкурирующим тестом и нет пользователей, участвующих в двух группах теста одновременно. \n",
    "\n",
    "Сначала создадим переменную, в которой сохраним список уникальных id участников другого A/B-тестирования:"
   ]
  },
  {
   "cell_type": "code",
   "execution_count": 24,
   "id": "eece4730",
   "metadata": {},
   "outputs": [],
   "source": [
    "other_test_participants = final_ab_participants.query(\n",
    "    'ab_test == \"interface_eu_test\" and group == \"B\"'\n",
    ")['user_id']"
   ]
  },
  {
   "cell_type": "markdown",
   "id": "18dcce75",
   "metadata": {},
   "source": [
    "Получим срез данных датасета с участниками тестирований: нас интересуют участники теста `recommender_system_test`, id которых хранятся в созданной нами переменной. Выведем на экран размер этого среза. Если он больше нуля, то значит, мы наблюдаем пересечение аудитории:"
   ]
  },
  {
   "cell_type": "code",
   "execution_count": 25,
   "id": "8268e0ba",
   "metadata": {},
   "outputs": [
    {
     "data": {
      "text/plain": [
       "783"
      ]
     },
     "execution_count": 25,
     "metadata": {},
     "output_type": "execute_result"
    }
   ],
   "source": [
    "len(\n",
    "    final_ab_participants.query(\n",
    "        'ab_test == \"recommender_system_test\" and user_id in @other_test_participants'\n",
    "    ))"
   ]
  },
  {
   "cell_type": "markdown",
   "id": "5457184e",
   "metadata": {},
   "source": [
    "783 пользователя стали участниками сразу двух тестов. Это означает, что на их поведение в приложении влиял фактор другого тестирования, поэтому мы не можем учитывать активность при дальнейшем анализе A/B-теста. Создадим на основе исходного новый датасет `ab_participants`, в котором сохраним информацию лишь о подходящих нам пользователях:"
   ]
  },
  {
   "cell_type": "code",
   "execution_count": 26,
   "id": "6b620bd9",
   "metadata": {},
   "outputs": [],
   "source": [
    "ab_participants = (\n",
    "    final_ab_participants\n",
    "    .query(\n",
    "        'ab_test == \"recommender_system_test\" and user_id not in @other_test_participants'\n",
    "    ).copy().reset_index(drop=True)\n",
    ")"
   ]
  },
  {
   "cell_type": "markdown",
   "id": "6b7988a0",
   "metadata": {},
   "source": [
    "Отдельной переменной для создания в будущем срезов создадим актуальный список id участников тестирования:"
   ]
  },
  {
   "cell_type": "code",
   "execution_count": 27,
   "id": "f830800a",
   "metadata": {},
   "outputs": [],
   "source": [
    "ab_participants_ids = ab_participants['user_id']"
   ]
  },
  {
   "cell_type": "markdown",
   "id": "0a01154e",
   "metadata": {},
   "source": [
    "Выведем на экран размер созданного списка:"
   ]
  },
  {
   "cell_type": "code",
   "execution_count": 28,
   "id": "8d7f9cc6",
   "metadata": {},
   "outputs": [
    {
     "data": {
      "text/plain": [
       "5918"
      ]
     },
     "execution_count": 28,
     "metadata": {},
     "output_type": "execute_result"
    }
   ],
   "source": [
    "len(ab_participants_ids)"
   ]
  },
  {
   "cell_type": "markdown",
   "id": "0debf5a8",
   "metadata": {},
   "source": [
    "С помощью этого списка id сделаем срез данных датасета `final_ab_new_users` и сохраним этот срез в виде нового датафрейма `ab_new_users`:"
   ]
  },
  {
   "cell_type": "code",
   "execution_count": 29,
   "id": "b4aff58c",
   "metadata": {},
   "outputs": [],
   "source": [
    "ab_new_users = final_ab_new_users.query('user_id in @ab_participants_ids').copy()"
   ]
  },
  {
   "cell_type": "markdown",
   "id": "ea803448",
   "metadata": {},
   "source": [
    "Теперь, когда в датасете `ab_new_users` остались данные только об участниках интересующего нас А/В-тестирования, вновь изучим хронологические рамки этого датасета; выведем на экран минимальную и максимальную дату из этого датафрейма:"
   ]
  },
  {
   "cell_type": "code",
   "execution_count": 30,
   "id": "67220210",
   "metadata": {},
   "outputs": [
    {
     "data": {
      "text/plain": [
       "(Timestamp('2020-12-07 00:00:00'), Timestamp('2020-12-21 00:00:00'))"
      ]
     },
     "execution_count": 30,
     "metadata": {},
     "output_type": "execute_result"
    }
   ],
   "source": [
    "ab_new_users.first_date.min(), ab_new_users.first_date.max()"
   ]
  },
  {
   "cell_type": "markdown",
   "id": "f2547175",
   "metadata": {},
   "source": [
    "Теперь они идеально совпадают с заявленными в ТЗ.\n",
    "\n",
    "Кроме того, нам необходимо отфильтровать данные в этом датасете и оставить данные только о тех пользователях, которые зарегистрировались в период между 7 и 16 декабря и относятся к региону EU:"
   ]
  },
  {
   "cell_type": "code",
   "execution_count": 31,
   "id": "4cff1a64",
   "metadata": {},
   "outputs": [],
   "source": [
    "ab_new_users = (\n",
    "    ab_new_users\n",
    "    .query('first_date <= \"2020-12-16\" and region == \"EU\"')\n",
    "    .copy().reset_index(drop=True)\n",
    ")"
   ]
  },
  {
   "cell_type": "markdown",
   "id": "dcd91150",
   "metadata": {},
   "source": [
    "После очередной фильтрации нашу переменную-список id участников теста и выведем на экран ее новый размер:"
   ]
  },
  {
   "cell_type": "code",
   "execution_count": 32,
   "id": "f8a825ff",
   "metadata": {},
   "outputs": [
    {
     "data": {
      "text/plain": [
       "3575"
      ]
     },
     "execution_count": 32,
     "metadata": {},
     "output_type": "execute_result"
    }
   ],
   "source": [
    "ab_participants_ids = ab_new_users['user_id']\n",
    "len(ab_participants_ids)"
   ]
  },
  {
   "cell_type": "markdown",
   "id": "c717fc20",
   "metadata": {},
   "source": [
    "Проведем проверку правильности формирования групп: выясним, нет ли пересечения среди участников группы А и В: "
   ]
  },
  {
   "cell_type": "code",
   "execution_count": 33,
   "id": "8437166e",
   "metadata": {},
   "outputs": [
    {
     "data": {
      "text/plain": [
       "0"
      ]
     },
     "execution_count": 33,
     "metadata": {},
     "output_type": "execute_result"
    }
   ],
   "source": [
    "group_a_participants = ab_participants.query('group == \"A\"')['user_id']\n",
    "group_b_participants = ab_participants.query('group == \"B\"')['user_id']\n",
    "\n",
    "count = 0\n",
    "for user_id in group_a_participants:\n",
    "    if user_id in group_b_participants:\n",
    "        count += 1\n",
    "count"
   ]
  },
  {
   "cell_type": "markdown",
   "id": "69da7415",
   "metadata": {},
   "source": [
    "Группы сформированы корректно, между ними нет пересечения. \n",
    "\n",
    "Мы видим, что после анализа аудитории теста мы были вынуждены сократить количество участников теста с 6701 до 3575 человек. Это может стать проблемой при дальнейшем анализе проведенного теста, поскольку небольшая относительно ожидаемого ТЗ выборка может исказить результаты исследования: не успеет сработать закон больших чисел; ведь если наблюдений мало, их разброс больше. \n",
    "\n",
    "С помощью списка id участников тестирования сделаем срез данных всех остальных датасетов:"
   ]
  },
  {
   "cell_type": "code",
   "execution_count": 34,
   "id": "ed622144",
   "metadata": {},
   "outputs": [],
   "source": [
    "ab_participants = (\n",
    "    ab_participants\n",
    "    .query('user_id in @ab_participants_ids')\n",
    "    .copy().reset_index(drop=True)\n",
    ")\n",
    "ab_events = (\n",
    "    final_ab_events\n",
    "    .query('user_id in @ab_participants_ids')\n",
    "    .copy().reset_index(drop=True)\n",
    ")"
   ]
  },
  {
   "cell_type": "markdown",
   "id": "d87b5653",
   "metadata": {},
   "source": [
    "Проверим равномерность распределения пользователей по тестовым группам:"
   ]
  },
  {
   "cell_type": "code",
   "execution_count": 35,
   "id": "13261e82",
   "metadata": {},
   "outputs": [
    {
     "data": {
      "text/html": [
       "<div>\n",
       "<style scoped>\n",
       "    .dataframe tbody tr th:only-of-type {\n",
       "        vertical-align: middle;\n",
       "    }\n",
       "\n",
       "    .dataframe tbody tr th {\n",
       "        vertical-align: top;\n",
       "    }\n",
       "\n",
       "    .dataframe thead th {\n",
       "        text-align: right;\n",
       "    }\n",
       "</style>\n",
       "<table border=\"1\" class=\"dataframe\">\n",
       "  <thead>\n",
       "    <tr style=\"text-align: right;\">\n",
       "      <th></th>\n",
       "      <th>group</th>\n",
       "      <th>user_id</th>\n",
       "    </tr>\n",
       "  </thead>\n",
       "  <tbody>\n",
       "    <tr>\n",
       "      <th>0</th>\n",
       "      <td>A</td>\n",
       "      <td>2061</td>\n",
       "    </tr>\n",
       "    <tr>\n",
       "      <th>1</th>\n",
       "      <td>B</td>\n",
       "      <td>1514</td>\n",
       "    </tr>\n",
       "  </tbody>\n",
       "</table>\n",
       "</div>"
      ],
      "text/plain": [
       "  group  user_id\n",
       "0     A     2061\n",
       "1     B     1514"
      ]
     },
     "execution_count": 35,
     "metadata": {},
     "output_type": "execute_result"
    }
   ],
   "source": [
    "(\n",
    "    ab_participants\n",
    "    .groupby('group', as_index=False)\n",
    "    .agg({'user_id': 'count'})\n",
    ")"
   ]
  },
  {
   "cell_type": "markdown",
   "id": "dc8466f7",
   "metadata": {},
   "source": [
    "Распределение неравномерное, но без сильного перекоса в пользу одной из групп."
   ]
  },
  {
   "cell_type": "markdown",
   "id": "01830ab2",
   "metadata": {},
   "source": [
    "### Вывод"
   ]
  },
  {
   "cell_type": "markdown",
   "id": "b038745b",
   "metadata": {},
   "source": [
    "К сожалению, проведенное тестирование далеко от идеального. Время проведения анализируемого нами A/B-теста (7 декабря — 4 января) совпадает с:\n",
    "- праздничным периодом Рождества и Нового года в европейском регионе;\n",
    "- проводимыми в честь этих праздников маркетинговых акций.\n",
    "\n",
    "Безусловно это не могло не повлиять на поведение клиентов. В первую очередь, праздники и маркетинговые акции обычно становятся причинами всплесков потребительской активности. Это означает, что гипотеза, подтвержденная в этот период, когда покупательская активность сильно меняется, может показать абсолютно другие результаты, например, весной, когда покупательское поведение будет другое. С другой стороны, факт пересечения проведения А/B-теста с праздниками и маркетинговыми акциями можно проигнорировать, аргументировав это тем, что этот фактор одновременно влиял на обе группы участников теста, поэтому мы все-таки можем продолжить начатый анализ, но будем постоянно держать в голове факт пересечения.\n",
    "\n",
    "Проверка полученных данных на соответствие ТЗ выявила, что в нашем распоряжении оказались данные об активности пользователей лишь с 7 по 30 декабря включительно. Поскольку при анализе А/В-теста нас интересует активность пользователей в первые 14 дней после регистрации, то нам придется при последующем анализе учитывать только тех пользователей интернет-магазина, которые зарегистрировались в период между 7 и 16 декабря. \n",
    "\n",
    "Кроме того, оказалось, что 783 пользователя стали участниками сразу двух тестов. Это означает, что на их поведение в приложении влиял фактор другого тестирования, поэтому мы не можем учитывать активность при дальнейшем анализе A/B-теста. \n",
    "\n",
    "После фильтрации аудитории теста мы были вынуждены сократить количество участников теста с 6701 до 3575 человек. Это может стать проблемой при дальнейшем анализе проведенного теста, поскольку небольшая относительно ожидаемого ТЗ выборка может исказить результаты исследования: не успеет сработать закон больших чисел; ведь если наблюдений мало, их разброс больше. "
   ]
  },
  {
   "cell_type": "markdown",
   "id": "d8a5c184",
   "metadata": {},
   "source": [
    "## Исследовательский анализ данных"
   ]
  },
  {
   "cell_type": "markdown",
   "id": "1682526c",
   "metadata": {},
   "source": [
    "Перед началом исследовательского анализа данных предварительно подготовим их: дополним датасет с событиями информацией о группе каждого пользователя и времени его регистрации:"
   ]
  },
  {
   "cell_type": "code",
   "execution_count": 36,
   "id": "16344df7",
   "metadata": {},
   "outputs": [],
   "source": [
    "ab_events = ab_events.merge(\n",
    "    ab_participants[['user_id', 'group']], how='inner', on='user_id'\n",
    ").merge(\n",
    "    ab_new_users[['user_id', 'first_date']], how='inner', on='user_id'\n",
    ").rename(columns={'first_date':'reg_date'})"
   ]
  },
  {
   "cell_type": "markdown",
   "id": "50adf243",
   "metadata": {},
   "source": [
    "Теперь оставим для последующего анализа информацию об активности пользователей только в первые 14 дней после регистрации:"
   ]
  },
  {
   "cell_type": "code",
   "execution_count": 37,
   "id": "2a89164d",
   "metadata": {},
   "outputs": [],
   "source": [
    "ab_events['reg_day'] = ab_events['reg_date'].dt.day\n",
    "ab_events['event_day'] = ab_events['event_dt'].dt.day\n",
    "ab_events['day_difference'] = ab_events['event_day'] - ab_events['reg_day']\n",
    "ab_events = ab_events.query('day_difference <= 14').copy().reset_index(drop=True)\n",
    "ab_events = ab_events.drop(columns=['reg_day', 'event_day', 'day_difference'])"
   ]
  },
  {
   "cell_type": "markdown",
   "id": "ad727a73",
   "metadata": {},
   "source": [
    "После предварительной подготовки данных ответим на вопрос, одинаково ли распределено количество событий на пользователя в разных группах. Для этого построим столбчатую диаграмму:"
   ]
  },
  {
   "cell_type": "code",
   "execution_count": 38,
   "id": "92fe7da7",
   "metadata": {},
   "outputs": [
    {
     "data": {
      "image/png": "[encoded data removed]",
      "text/plain": [
       "<Figure size 618.875x432 with 1 Axes>"
      ]
     },
     "metadata": {
      "needs_background": "light"
     },
     "output_type": "display_data"
    }
   ],
   "source": [
    "events_cnt = (\n",
    "    ab_events\n",
    "    .groupby('user_id', as_index=False)\n",
    "    .agg({'event_name': 'count', 'group': 'min'})\n",
    "    .rename(columns={'event_name':'events_count'})\n",
    ")\n",
    "data = (\n",
    "    events_cnt\n",
    "    .groupby(['events_count', 'group'], as_index=False)\n",
    "    .agg({'user_id':'count'})\n",
    "    .sort_values('events_count')\n",
    ")\n",
    "sns.catplot(x='events_count', y='user_id', \n",
    "            hue='group', data=data, kind='bar', \n",
    "            height=6, aspect=8/6\n",
    "           )\n",
    "plt.title(\"Распределение количества событий на пользователя\")\n",
    "plt.xlabel(\"Количество событий\")\n",
    "plt.ylabel(\"Количество пользователей\")\n",
    "\n",
    "plt.show() "
   ]
  },
  {
   "cell_type": "markdown",
   "id": "d1b6149a",
   "metadata": {},
   "source": [
    "Из этой совместной столбчатой диаграммы мы сразу замечаем явный перекос в количестве пользователей в пользу контрольной группы, который казался менее явным на этапе предварительной оценки. Возможно, нам еще предстоит выяснить причину такого перекоса. С поправкой же на разницу в количестве пользователей в целом количество событий распределено примерно одинаково в обеих группах: в обоих случаях мы фиксируем пиковые значения на отметках в 4 и 6 событий, довольно высокие показатели на отметках 8, 9, 12. Ощутимая разница заметна лишь в левой части графика: на отметках в 2-3 события высота оранжевых столбцов почти равна высоте синих, а на отметке 1 событие оранжевый столбец оказался даже выше синего. Все это говорит нам о том, что в группе В доля малоактивных пользователей оказалась больше, чем в группе А.\n",
    "\n",
    "Теперь изучим вопрос, как число событий в выборках распределено по дням. Для этого сначала отсечем от точного времени события часы, минуты и секунды и оставим лишь информацию о дне:"
   ]
  },
  {
   "cell_type": "code",
   "execution_count": 39,
   "id": "01a3ac50",
   "metadata": {},
   "outputs": [],
   "source": [
    "ab_events['day'] = ab_events['event_dt'].dt.date"
   ]
  },
  {
   "cell_type": "markdown",
   "id": "c385e38c",
   "metadata": {},
   "source": [
    "Теперь вновь построим парную столбчатую диаграмму:"
   ]
  },
  {
   "cell_type": "code",
   "execution_count": 40,
   "id": "b8d2f6bf",
   "metadata": {},
   "outputs": [
    {
     "data": {
      "image/png": "[encoded data removed]",
      "text/plain": [
       "<Figure size 618.875x432 with 1 Axes>"
      ]
     },
     "metadata": {
      "needs_background": "light"
     },
     "output_type": "display_data"
    }
   ],
   "source": [
    "events_per_day = (ab_events\n",
    "                  .groupby(['day', 'group'], as_index=False)\n",
    "                  .agg({'event_name':'count'})\n",
    "                  .rename(columns={'event_name': 'events_cnt'})\n",
    ")\n",
    "\n",
    "sns.catplot(x='day', y='events_cnt', \n",
    "            hue='group', data=events_per_day, kind='bar', \n",
    "            height=6, aspect=8/6\n",
    "           )\n",
    "plt.title(\"Распределение событий по дням\")\n",
    "plt.xlabel(\"День\")\n",
    "plt.ylabel(\"Количество событий\")\n",
    "plt.xticks(rotation=90, ha='right')\n",
    "\n",
    "plt.show() "
   ]
  },
  {
   "cell_type": "markdown",
   "id": "277845b1",
   "metadata": {},
   "source": [
    "Логично, что и на этом графике явно заметен перекос количества событий в пользу контрольной группы. Распределение событий в двух группах немного отличается: в группе А есть ярковыраженный пик, который приходится на 14-16 декабря. В группе В не один пик, а два: один приходится на 7-10 декабря, второй на те же дни 14-16 декабря, но они менее ярко выражены, чем пик в группе А. В обоих случаях мы видим постепенное снижение общей активности пользователей после 16 декабря.\n",
    "\n",
    "Теперь построим воронку событий и изучим, как меняется конверсия в воронке в выборках на разных этапах. Для этого сначала добавим в наш датасет с событиями информацию об еще одном событии: регистрации пользователей, которая станет первым этапом нашей воронки:"
   ]
  },
  {
   "cell_type": "code",
   "execution_count": 41,
   "id": "8941e03b",
   "metadata": {},
   "outputs": [],
   "source": [
    "ab_new_users['event_name'] = 'registration'\n",
    "ab_new_users = ab_new_users.merge(\n",
    "    ab_participants[['user_id', 'group']], how='inner', on='user_id'\n",
    ")\n",
    "ab_new_users = ab_new_users.rename(columns={'first_date': 'event_dt'})\n",
    "\n",
    "ab_events_withreg = pd.concat(\n",
    "    [ab_events, ab_new_users[['user_id', 'event_dt', 'event_name', 'group']]]\n",
    ")\n",
    "ab_events_withreg['day'] = ab_events['event_dt'].dt.date"
   ]
  },
  {
   "cell_type": "markdown",
   "id": "919d145a",
   "metadata": {},
   "source": [
    "Затем для каждой группы составим сводную таблицу, необходимую для построения воронки:"
   ]
  },
  {
   "cell_type": "code",
   "execution_count": 42,
   "id": "1bb637db",
   "metadata": {},
   "outputs": [],
   "source": [
    "funnel_data = (\n",
    "    ab_events_withreg\n",
    "    .groupby(['user_id', 'event_name'], as_index=False)\n",
    "    .agg({'event_dt':'nunique', 'group': 'min'})\n",
    ")\n",
    "\n",
    "funnel_a = (funnel_data\n",
    "          .query('group == \"A\"')\n",
    "          .groupby('event_name', as_index=False)\n",
    "          .agg({'user_id':'count'})\n",
    "          .sort_values('user_id', ascending=False)\n",
    ")\n",
    "\n",
    "funnel_b = (funnel_data\n",
    "          .query('group == \"B\"')\n",
    "          .groupby('event_name', as_index=False)\n",
    "          .agg({'user_id':'count'})\n",
    "          .sort_values('user_id', ascending=False)\n",
    ")"
   ]
  },
  {
   "cell_type": "markdown",
   "id": "985ea3b5",
   "metadata": {},
   "source": [
    "Строим графики воронки. Для группы А:"
   ]
  },
  {
   "cell_type": "code",
   "execution_count": 43,
   "id": "70a42dc2",
   "metadata": {},
   "outputs": [],
   "source": [
    "#fig = go.Figure(go.Funnel(\n",
    "    #y = funnel_a['event_name'],\n",
    "    #x = funnel_a['user_id'],\n",
    "    #textposition='inside',\n",
    "    #textinfo = \"value+percent initial\"))\n",
    "#fig.update_layout({'title': 'Воронка событий для группы А' })\n",
    "\n",
    "#fig.show()"
   ]
  },
  {
   "attachments": {
    "newplot.png": {
     "image/png": "[encoded data removed]"
    }
   },
   "cell_type": "markdown",
   "id": "33292e57",
   "metadata": {},
   "source": [
    "![newplot.png](attachment:newplot.png)"
   ]
  },
  {
   "cell_type": "markdown",
   "id": "fc9cb866",
   "metadata": {},
   "source": [
    "Для группы В:"
   ]
  },
  {
   "cell_type": "code",
   "execution_count": 44,
   "id": "e52d7db7",
   "metadata": {},
   "outputs": [],
   "source": [
    "#fig = go.Figure(go.Funnel(\n",
    "    #y = funnel_b['event_name'],\n",
    "    #x = funnel_b['user_id'],\n",
    "    #textposition='inside',\n",
    "    #textinfo = \"value+percent initial\"))\n",
    "#fig.update_layout({'title': 'Воронка событий для группы В' })\n",
    "\n",
    "#fig.show()"
   ]
  },
  {
   "attachments": {
    "newplot%281%29.png": {
     "image/png": "[encoded data removed]"
    }
   },
   "cell_type": "markdown",
   "id": "ca2663e9",
   "metadata": {},
   "source": [
    "![newplot%281%29.png](attachment:newplot%281%29.png)"
   ]
  },
  {
   "cell_type": "markdown",
   "id": "5d100094",
   "metadata": {},
   "source": [
    "Построение воронки выявило еще одну проблему в проведении А/В-тестирования. Данный тест проверял новую систему рекомендаций, направленную на улучшение конверсии на последующих после логина этапах. Соответственно, у нас в обеих группах должна наблюдаться приблизительно одинаковая конверсия зарегистрированных пользователей в логины. Но она очень сильно различается, и в результате это и привело к такой большей разнице в количестве пользователей между группами А и В на столбчатых диаграммах выше. Такая большая разница в конверсии там, где ее не должно быть, вновь говорит нам о некорректности проведенного А/B-теста. Мы обращали ранее внимание, что после фильтрации аудитории мы анализируем слишком маленькие выборки, а небольшая относительно ожидаемого ТЗ выборка может исказить результаты исследования: не успеет сработать закон больших чисел; ведь если наблюдений мало, их разброс больше. В данном случае этот разброс значений сказался именно на этапе конверсии зарегистрированных пользователей в логины. \n",
    "\n",
    "Низкая конверсия группы В (или наоборот, слишком высокая конверсия группы А) усилила разницу в неравномерном распределении пользователей по группам: до этапа логина дошло 1145 пользователей из группы А и лишь 529 пользователей из группы В. В результате, как мы уже и сказали, мы наблюдали на столбчатых диаграммах сильный перекос количества пользователей и событий в сторону контрольной группы.\n",
    "\n",
    "Поскольку наличие этапа регистрации на графике воронки сильно искажает результаты для группы В, ведь нам все-таки важнее сравнить конверсии последующих этапов, построим новые графики без этапа регистрации. Создаем новые сводные таблицы:"
   ]
  },
  {
   "cell_type": "code",
   "execution_count": 45,
   "id": "8c4a30ac",
   "metadata": {},
   "outputs": [],
   "source": [
    "funnel_data = (\n",
    "    ab_events\n",
    "    .groupby(['user_id', 'event_name'], as_index=False)\n",
    "    .agg({'event_dt':'nunique', 'group': 'min'})\n",
    ")\n",
    "\n",
    "funnel_a = (funnel_data\n",
    "          .query('group == \"A\"')\n",
    "          .groupby('event_name', as_index=False)\n",
    "          .agg({'user_id':'count'})\n",
    "          .sort_values('user_id', ascending=False)\n",
    ").reset_index(drop=True)\n",
    "\n",
    "funnel_b = (funnel_data\n",
    "          .query('group == \"B\"')\n",
    "          .groupby('event_name', as_index=False)\n",
    "          .agg({'user_id':'count'})\n",
    "          .sort_values('user_id', ascending=False)\n",
    ").reset_index(drop=True)"
   ]
  },
  {
   "cell_type": "markdown",
   "id": "421d682d",
   "metadata": {},
   "source": [
    "Строим график воронки для группы А:"
   ]
  },
  {
   "cell_type": "code",
   "execution_count": 46,
   "id": "a5d60202",
   "metadata": {},
   "outputs": [],
   "source": [
    "#fig = go.Figure(go.Funnel(\n",
    "    #y = funnel_a['event_name'],\n",
    "    #x = funnel_a['user_id'],\n",
    "    #textposition='inside',\n",
    "    #textinfo = \"value+percent initial\"))\n",
    "#fig.update_layout({'title': 'Воронка событий для группы А' })\n",
    "\n",
    "#fig.show()"
   ]
  },
  {
   "attachments": {
    "newplot%282%29.png": {
     "image/png": "[encoded data removed]"
    }
   },
   "cell_type": "markdown",
   "id": "5e656104",
   "metadata": {},
   "source": [
    "![newplot%282%29.png](attachment:newplot%282%29.png)"
   ]
  },
  {
   "cell_type": "markdown",
   "id": "30258055",
   "metadata": {},
   "source": [
    "И для группы В:"
   ]
  },
  {
   "cell_type": "code",
   "execution_count": 47,
   "id": "cb912d4f",
   "metadata": {},
   "outputs": [],
   "source": [
    "#fig = go.Figure(go.Funnel(\n",
    "    #y = funnel_b['event_name'],\n",
    "    #x = funnel_b['user_id'],\n",
    "    #textposition='inside',\n",
    "    #textinfo = \"value+percent initial\"))\n",
    "#fig.update_layout({'title': 'Воронка событий для группы В' })\n",
    "\n",
    "#fig.show()"
   ]
  },
  {
   "attachments": {
    "newplot%283%29.png": {
     "image/png": "[encoded data removed]"
    }
   },
   "cell_type": "markdown",
   "id": "48cca9cc",
   "metadata": {},
   "source": [
    "![newplot%283%29.png](attachment:newplot%283%29.png)"
   ]
  },
  {
   "cell_type": "markdown",
   "id": "bb40326d",
   "metadata": {},
   "source": [
    "Мы видим, что при ожидаемом по ТЗ улучшении конверсии на каждом этапе не менее, чем на 10%, на самом деле, конверсия от общего числа пользователей в группе В на каждом этапе оказалась ниже, чем в группе А."
   ]
  },
  {
   "cell_type": "markdown",
   "id": "10f15845",
   "metadata": {},
   "source": [
    "### Вывод"
   ]
  },
  {
   "cell_type": "markdown",
   "id": "279d5f44",
   "metadata": {},
   "source": [
    "Исследовательский анализ данных выявил явный перекос в количестве пользователей в пользу контрольной группы, который казался менее явным на этапе предварительной оценки. Оказалось, что в двух группах сильно различается конверсия зарегистрированных пользователей в логины, хотя данный тест проверял новую систему рекомендаций, направленную на улучшение конверсии на последующих после логина этапах (следовательно, конверсия зарегистрированных пользователей в логины должна была быть примерно одинаковой в обеих выборках). Низкая конверсия группы В (или наоборот, слишком высокая конверсия группы А) усилила разницу в неравномерном распределении пользователей по группам: до этапа логина дошло 1145 пользователей из группы А и лишь 529 пользователей из группы В.\n",
    "\n",
    "Такая большая разница в конверсии там, где ее не должно быть, вновь говорит нам о некорректности проведенного А/B-теста. Мы обращали ранее внимание, что после фильтрации аудитории мы анализируем слишком маленькие выборки, а небольшая относительно ожидаемого ТЗ выборка может исказить результаты исследования: не успеет сработать закон больших чисел; ведь если наблюдений мало, их разброс больше. В данном случае этот разброс значений сказался именно на этапе конверсии зарегистрированных пользователей в логины. \n",
    "\n",
    "Кроме того, построенный график воронки продемонстрировал нам несостоятельность тестируемой гипотезы: при ожидаемом по ТЗ улучшении конверсии на каждом этапе не менее, чем на 10%, на самом деле, конверсия от общего числа пользователей в группе В на каждом этапе оказалась ниже, чем в группе А."
   ]
  },
  {
   "cell_type": "markdown",
   "id": "1d636650",
   "metadata": {},
   "source": [
    "## Оценка результатов A/B-тестирования"
   ]
  },
  {
   "cell_type": "markdown",
   "id": "3b6a1d47",
   "metadata": {},
   "source": [
    "Уже на данном этапе можно заранее сказать, что проверяемая гипотеза себя не оправдала: по построенным графикам воронок мы увидели, что новая система рекомендаций не просто не дала прирост конверсии в 10% на каждом из этапов, а наоборот, конверсия от общего числа пользователей в группе В на каждом этапе оказалась ниже, чем в группе А. Но мы все равно проведем проверку на наличие статистической разницы в конверсиях на каждом этапе z-критерием. Напишем функцию для проверки гипотезы о равенстве долей:"
   ]
  },
  {
   "cell_type": "code",
   "execution_count": 48,
   "id": "0fa9428b",
   "metadata": {},
   "outputs": [],
   "source": [
    "def z_test(\n",
    "    trials_1, successes_1, trials_2, successes_2, alpha\n",
    "):  \n",
    "    # пропорция успехов в первой группе:\n",
    "    p1 = successes_1 / trials_1\n",
    "    # пропорция успехов во второй группе:\n",
    "    p2 = successes_2 / trials_2\n",
    "    # пропорция успехов в комбинированном датасете:\n",
    "    p_combined = (successes_1 + successes_2) / (trials_1 + trials_2)\n",
    "    # разница пропорций в датасетах\n",
    "    difference = p1 - p2 \n",
    "    \n",
    "    # считаем статистику в ст.отклонениях стандартного нормального распределения\n",
    "    z_value = difference / mth.sqrt(p_combined * (1 - p_combined) * (1/trials_1 + 1/trials_2))\n",
    "    # задаем стандартное нормальное распределение (среднее 0, ст.отклонение 1)\n",
    "    distr = st.norm(0, 1)\n",
    "    p_value = (1 - distr.cdf(abs(z_value))) * 2\n",
    "    \n",
    "    print('p-значение: ', p_value)\n",
    "    if p_value < alpha:\n",
    "        print('Отвергаем нулевую гипотезу: между долями есть значимая разница')\n",
    "    else:\n",
    "        print(\n",
    "            'Не получилось отвергнуть нулевую гипотезу, нет оснований считать доли разными'\n",
    "        ) "
   ]
  },
  {
   "cell_type": "markdown",
   "id": "cdd91ac4",
   "metadata": {},
   "source": [
    "Для проведения z-теста будем пользоваться данными из составленных раннее сводных таблицы. Сводная таблица для группы А: "
   ]
  },
  {
   "cell_type": "code",
   "execution_count": 49,
   "id": "b3c6f6a5",
   "metadata": {},
   "outputs": [
    {
     "data": {
      "text/html": [
       "<div>\n",
       "<style scoped>\n",
       "    .dataframe tbody tr th:only-of-type {\n",
       "        vertical-align: middle;\n",
       "    }\n",
       "\n",
       "    .dataframe tbody tr th {\n",
       "        vertical-align: top;\n",
       "    }\n",
       "\n",
       "    .dataframe thead th {\n",
       "        text-align: right;\n",
       "    }\n",
       "</style>\n",
       "<table border=\"1\" class=\"dataframe\">\n",
       "  <thead>\n",
       "    <tr style=\"text-align: right;\">\n",
       "      <th></th>\n",
       "      <th>event_name</th>\n",
       "      <th>user_id</th>\n",
       "    </tr>\n",
       "  </thead>\n",
       "  <tbody>\n",
       "    <tr>\n",
       "      <th>0</th>\n",
       "      <td>login</td>\n",
       "      <td>1145</td>\n",
       "    </tr>\n",
       "    <tr>\n",
       "      <th>1</th>\n",
       "      <td>product_page</td>\n",
       "      <td>723</td>\n",
       "    </tr>\n",
       "    <tr>\n",
       "      <th>2</th>\n",
       "      <td>product_cart</td>\n",
       "      <td>350</td>\n",
       "    </tr>\n",
       "    <tr>\n",
       "      <th>3</th>\n",
       "      <td>purchase</td>\n",
       "      <td>342</td>\n",
       "    </tr>\n",
       "  </tbody>\n",
       "</table>\n",
       "</div>"
      ],
      "text/plain": [
       "     event_name  user_id\n",
       "0         login     1145\n",
       "1  product_page      723\n",
       "2  product_cart      350\n",
       "3      purchase      342"
      ]
     },
     "execution_count": 49,
     "metadata": {},
     "output_type": "execute_result"
    }
   ],
   "source": [
    "funnel_a"
   ]
  },
  {
   "cell_type": "markdown",
   "id": "83cc7717",
   "metadata": {},
   "source": [
    "И для группы В:"
   ]
  },
  {
   "cell_type": "code",
   "execution_count": 50,
   "id": "33c18fed",
   "metadata": {},
   "outputs": [
    {
     "data": {
      "text/html": [
       "<div>\n",
       "<style scoped>\n",
       "    .dataframe tbody tr th:only-of-type {\n",
       "        vertical-align: middle;\n",
       "    }\n",
       "\n",
       "    .dataframe tbody tr th {\n",
       "        vertical-align: top;\n",
       "    }\n",
       "\n",
       "    .dataframe thead th {\n",
       "        text-align: right;\n",
       "    }\n",
       "</style>\n",
       "<table border=\"1\" class=\"dataframe\">\n",
       "  <thead>\n",
       "    <tr style=\"text-align: right;\">\n",
       "      <th></th>\n",
       "      <th>event_name</th>\n",
       "      <th>user_id</th>\n",
       "    </tr>\n",
       "  </thead>\n",
       "  <tbody>\n",
       "    <tr>\n",
       "      <th>0</th>\n",
       "      <td>login</td>\n",
       "      <td>529</td>\n",
       "    </tr>\n",
       "    <tr>\n",
       "      <th>1</th>\n",
       "      <td>product_page</td>\n",
       "      <td>296</td>\n",
       "    </tr>\n",
       "    <tr>\n",
       "      <th>2</th>\n",
       "      <td>product_cart</td>\n",
       "      <td>149</td>\n",
       "    </tr>\n",
       "    <tr>\n",
       "      <th>3</th>\n",
       "      <td>purchase</td>\n",
       "      <td>148</td>\n",
       "    </tr>\n",
       "  </tbody>\n",
       "</table>\n",
       "</div>"
      ],
      "text/plain": [
       "     event_name  user_id\n",
       "0         login      529\n",
       "1  product_page      296\n",
       "2  product_cart      149\n",
       "3      purchase      148"
      ]
     },
     "execution_count": 50,
     "metadata": {},
     "output_type": "execute_result"
    }
   ],
   "source": [
    "funnel_b"
   ]
  },
  {
   "cell_type": "markdown",
   "id": "2a64c6f7",
   "metadata": {},
   "source": [
    "Запускаем проверку на наличие статистической разницы в конверсиях на каждом этапе. Мы проводим три теста, поэтому применяем поправку Бонферрони к уровню значимости:"
   ]
  },
  {
   "cell_type": "code",
   "execution_count": 51,
   "id": "f95c17d0",
   "metadata": {},
   "outputs": [
    {
     "name": "stdout",
     "output_type": "stream",
     "text": [
      "Сравниваем доли конверсий залогиненных пользователей в product_page\n",
      "Нулевая гипотеза: в обеих группах наблюдается одинаковая конверсия\n",
      "Альтернативная гипотеза: конверсия отличается\n",
      "p-значение:  0.005075690194317861\n",
      "Отвергаем нулевую гипотезу: между долями есть значимая разница\n",
      "\n",
      "Сравниваем доли конверсий залогиненных пользователей в product_cart\n",
      "Нулевая гипотеза: в обеих группах наблюдается одинаковая конверсия\n",
      "Альтернативная гипотеза: конверсия отличается\n",
      "p-значение:  0.31798838290423626\n",
      "Не получилось отвергнуть нулевую гипотезу, нет оснований считать доли разными\n",
      "\n",
      "Сравниваем доли конверсий залогиненных пользователей в purchase\n",
      "Нулевая гипотеза: в обеих группах наблюдается одинаковая конверсия\n",
      "Альтернативная гипотеза: конверсия отличается\n",
      "p-значение:  0.4290443292753203\n",
      "Не получилось отвергнуть нулевую гипотезу, нет оснований считать доли разными\n",
      "\n"
     ]
    }
   ],
   "source": [
    "for stage in funnel_a['event_name'][1:]:\n",
    "    print('Сравниваем доли конверсий залогиненных пользователей в', stage)\n",
    "    print('Нулевая гипотеза: в обеих группах наблюдается одинаковая конверсия')\n",
    "    print('Альтернативная гипотеза: конверсия отличается')\n",
    "    ind = list(funnel_a['event_name']).index(stage)\n",
    "    z_test(\n",
    "        trials_1 = funnel_a.loc[0, 'user_id'],\n",
    "        successes_1 = funnel_a.loc[ind, 'user_id'],\n",
    "        trials_2 = funnel_b.loc[0, 'user_id'],\n",
    "        successes_2 = funnel_b.loc[ind, 'user_id'],\n",
    "        alpha = 0.5 / len(stage)\n",
    "    )\n",
    "    print()"
   ]
  },
  {
   "cell_type": "markdown",
   "id": "afd4e8da",
   "metadata": {},
   "source": [
    "Статистическая разница наблюдается только на этапе конверсии залогиненных пользователей в просмотр карточек товаров, и она в пользу группы А (63% против 56%). По имеющимся у нас данным мы не можем сказать, что проверяемая гипотеза себя оправдала; контрольная группа показала лучшие результаты конверсии."
   ]
  },
  {
   "cell_type": "markdown",
   "id": "12f8f43f",
   "metadata": {},
   "source": [
    "## Общий вывод"
   ]
  },
  {
   "cell_type": "markdown",
   "id": "b0e07cdf",
   "metadata": {},
   "source": [
    "Проведенный А/В-тест имеет много уязвимостей, которые позволяют нам говорить, что он был проведен некорректно. \n",
    "\n",
    "Время проведения анализируемого нами A/B-теста (7 декабря — 4 января) совпадает с:\n",
    "- праздничным периодом Рождества и Нового года в европейском регионе;\n",
    "- проводимыми в честь этих праздников маркетинговых акций.\n",
    "\n",
    "Безусловно это не могло не повлиять на поведение клиентов. В первую очередь, праздники и маркетинговые акции обычно становятся причинами всплесков потребительской активности. Это означает, что гипотеза, подтвержденная в этот период, когда покупательская активность сильно меняется, может показать абсолютно другие результаты, например, весной, когда покупательское поведение будет другое. С другой стороны, факт пересечения проведения А/B-теста с праздниками и маркетинговыми акциями можно проигнорировать, аргументировав это тем, что этот фактор одновременно влиял на обе группы участников теста, поэтому мы все-таки могли продолжить начатый анализ, но постоянно учитывая факт пересечения.\n",
    "\n",
    "Проверка полученных данных на соответствие ТЗ выявила, что в нашем распоряжении оказались данные об активности пользователей лишь с 7 по 30 декабря включительно. Поскольку при анализе А/В-теста нас интересовала активность пользователей в первые 14 дней после регистрации, то нам пришлось при последующем анализе учитывать только тех пользователей интернет-магазина, которые зарегистрировались в период между 7 и 16 декабря. Кроме того, оказалось, что 783 пользователя стали участниками сразу двух тестов. Это означает, что на их поведение в приложении влиял фактор другого тестирования, поэтому мы не могли учитывать их активность при дальнейшем анализе A/B-теста. \n",
    "\n",
    "После фильтрации аудитории теста мы были вынуждены сократить количество участников теста с 6701 до 3575 человек. Это стало проблемой при дальнейшем анализе проведенного теста, поскольку небольшая относительно ожидаемого ТЗ выборка исказила результаты исследования: исследовательский анализ данных выявил явный перекос в количестве пользователей в пользу контрольной группы, который казался менее явным на этапе предварительной оценки. Оказалось, что в двух группах сильно различается конверсия зарегистрированных пользователей в логины, хотя данный тест проверял новую систему рекомендаций, направленную на улучшение конверсии на последующих после логина этапах (следовательно, конверсия зарегистрированных пользователей в логины должна была быть примерно одинаковой в обеих выборках). Низкая конверсия группы В (или наоборот, слишком высокая конверсия группы А) усилила разницу в неравномерном распределении пользователей по группам: до этапа логина дошло 1145 пользователей из группы А и лишь 529 пользователей из группы В.\n",
    "\n",
    "Такая большая разница в конверсии там, где ее не должно быть, вновь говорит нам о некорректности проведенного А/B-теста. Мы обращали ранее внимание, что после фильтрации аудитории мы анализируем слишком маленькие выборки, а небольшая относительно ожидаемого ТЗ выборка может исказить результаты исследования: не успеет сработать закон больших чисел; ведь если наблюдений мало, их разброс больше. В данном случае этот разброс значений сказался именно на этапе конверсии зарегистрированных пользователей в логины. \n",
    "\n",
    "Кроме того, построенный график воронки продемонстрировал нам несостоятельность тестируемой гипотезы: при ожидаемом по ТЗ улучшении конверсии на каждом этапе не менее, чем на 10%, на самом деле, конверсия от общего числа пользователей в группе В на каждом этапе оказалась ниже, чем в группе А.\n",
    "\n",
    "Проверка на наличие статистической разницы в конверсиях на каждом этапе z-критерием показала, что статистическая разница наблюдается только на этапе конверсии залогиненных пользователей в просмотр карточек товаров, и она в пользу группы А (63% против 56%). По имеющимся у нас данным мы не можем сказать, что проверяемая гипотеза себя оправдала; контрольная группа показала лучшие результаты конверсии. *Но основная проблема заключается в том, что мы не можем однозначно быть уверены, что тестируемая гипотеза не работает, возможно, результаты исследования были искажены всеми теми недочетами, указанными выше.*"
   ]
  },
  {
   "cell_type": "code",
   "execution_count": null,
   "id": "86273463",
   "metadata": {},
   "outputs": [],
   "source": []
  }
 ],
 "metadata": {
  "kernelspec": {
   "display_name": "Python 3 (ipykernel)",
   "language": "python",
   "name": "python3"
  },
  "language_info": {
   "codemirror_mode": {
    "name": "ipython",
    "version": 3
   },
   "file_extension": ".py",
   "mimetype": "text/x-python",
   "name": "python",
   "nbconvert_exporter": "python",
   "pygments_lexer": "ipython3",
   "version": "3.9.12"
  }
 },
 "nbformat": 4,
 "nbformat_minor": 5
}
